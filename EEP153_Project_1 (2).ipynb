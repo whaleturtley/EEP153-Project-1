{
  "cells": [
    {
      "cell_type": "code",
      "execution_count": null,
      "metadata": {
        "colab": {
          "base_uri": "https://localhost:8080/",
          "height": 1000
        },
        "id": "JYRSjYFval-5",
        "outputId": "b646b369-4ec0-41d9-f547-8b6c88f3b437"
      },
      "outputs": [
        {
          "output_type": "stream",
          "name": "stdout",
          "text": [
            "Collecting geopandas\n",
            "  Downloading geopandas-0.10.2-py2.py3-none-any.whl (1.0 MB)\n",
            "\u001b[?25l\r\u001b[K     |▎                               | 10 kB 18.6 MB/s eta 0:00:01\r\u001b[K     |▋                               | 20 kB 24.7 MB/s eta 0:00:01\r\u001b[K     |█                               | 30 kB 19.8 MB/s eta 0:00:01\r\u001b[K     |█▎                              | 40 kB 16.1 MB/s eta 0:00:01\r\u001b[K     |█▋                              | 51 kB 8.5 MB/s eta 0:00:01\r\u001b[K     |██                              | 61 kB 8.5 MB/s eta 0:00:01\r\u001b[K     |██▎                             | 71 kB 8.9 MB/s eta 0:00:01\r\u001b[K     |██▌                             | 81 kB 10.0 MB/s eta 0:00:01\r\u001b[K     |██▉                             | 92 kB 10.2 MB/s eta 0:00:01\r\u001b[K     |███▏                            | 102 kB 8.1 MB/s eta 0:00:01\r\u001b[K     |███▌                            | 112 kB 8.1 MB/s eta 0:00:01\r\u001b[K     |███▉                            | 122 kB 8.1 MB/s eta 0:00:01\r\u001b[K     |████▏                           | 133 kB 8.1 MB/s eta 0:00:01\r\u001b[K     |████▌                           | 143 kB 8.1 MB/s eta 0:00:01\r\u001b[K     |████▊                           | 153 kB 8.1 MB/s eta 0:00:01\r\u001b[K     |█████                           | 163 kB 8.1 MB/s eta 0:00:01\r\u001b[K     |█████▍                          | 174 kB 8.1 MB/s eta 0:00:01\r\u001b[K     |█████▊                          | 184 kB 8.1 MB/s eta 0:00:01\r\u001b[K     |██████                          | 194 kB 8.1 MB/s eta 0:00:01\r\u001b[K     |██████▍                         | 204 kB 8.1 MB/s eta 0:00:01\r\u001b[K     |██████▊                         | 215 kB 8.1 MB/s eta 0:00:01\r\u001b[K     |███████                         | 225 kB 8.1 MB/s eta 0:00:01\r\u001b[K     |███████▎                        | 235 kB 8.1 MB/s eta 0:00:01\r\u001b[K     |███████▋                        | 245 kB 8.1 MB/s eta 0:00:01\r\u001b[K     |████████                        | 256 kB 8.1 MB/s eta 0:00:01\r\u001b[K     |████████▎                       | 266 kB 8.1 MB/s eta 0:00:01\r\u001b[K     |████████▋                       | 276 kB 8.1 MB/s eta 0:00:01\r\u001b[K     |█████████                       | 286 kB 8.1 MB/s eta 0:00:01\r\u001b[K     |█████████▏                      | 296 kB 8.1 MB/s eta 0:00:01\r\u001b[K     |█████████▌                      | 307 kB 8.1 MB/s eta 0:00:01\r\u001b[K     |█████████▉                      | 317 kB 8.1 MB/s eta 0:00:01\r\u001b[K     |██████████▏                     | 327 kB 8.1 MB/s eta 0:00:01\r\u001b[K     |██████████▌                     | 337 kB 8.1 MB/s eta 0:00:01\r\u001b[K     |██████████▉                     | 348 kB 8.1 MB/s eta 0:00:01\r\u001b[K     |███████████▏                    | 358 kB 8.1 MB/s eta 0:00:01\r\u001b[K     |███████████▍                    | 368 kB 8.1 MB/s eta 0:00:01\r\u001b[K     |███████████▊                    | 378 kB 8.1 MB/s eta 0:00:01\r\u001b[K     |████████████                    | 389 kB 8.1 MB/s eta 0:00:01\r\u001b[K     |████████████▍                   | 399 kB 8.1 MB/s eta 0:00:01\r\u001b[K     |████████████▊                   | 409 kB 8.1 MB/s eta 0:00:01\r\u001b[K     |█████████████                   | 419 kB 8.1 MB/s eta 0:00:01\r\u001b[K     |█████████████▍                  | 430 kB 8.1 MB/s eta 0:00:01\r\u001b[K     |█████████████▋                  | 440 kB 8.1 MB/s eta 0:00:01\r\u001b[K     |██████████████                  | 450 kB 8.1 MB/s eta 0:00:01\r\u001b[K     |██████████████▎                 | 460 kB 8.1 MB/s eta 0:00:01\r\u001b[K     |██████████████▋                 | 471 kB 8.1 MB/s eta 0:00:01\r\u001b[K     |███████████████                 | 481 kB 8.1 MB/s eta 0:00:01\r\u001b[K     |███████████████▎                | 491 kB 8.1 MB/s eta 0:00:01\r\u001b[K     |███████████████▋                | 501 kB 8.1 MB/s eta 0:00:01\r\u001b[K     |███████████████▉                | 512 kB 8.1 MB/s eta 0:00:01\r\u001b[K     |████████████████▏               | 522 kB 8.1 MB/s eta 0:00:01\r\u001b[K     |████████████████▌               | 532 kB 8.1 MB/s eta 0:00:01\r\u001b[K     |████████████████▉               | 542 kB 8.1 MB/s eta 0:00:01\r\u001b[K     |█████████████████▏              | 552 kB 8.1 MB/s eta 0:00:01\r\u001b[K     |█████████████████▌              | 563 kB 8.1 MB/s eta 0:00:01\r\u001b[K     |█████████████████▉              | 573 kB 8.1 MB/s eta 0:00:01\r\u001b[K     |██████████████████              | 583 kB 8.1 MB/s eta 0:00:01\r\u001b[K     |██████████████████▍             | 593 kB 8.1 MB/s eta 0:00:01\r\u001b[K     |██████████████████▊             | 604 kB 8.1 MB/s eta 0:00:01\r\u001b[K     |███████████████████             | 614 kB 8.1 MB/s eta 0:00:01\r\u001b[K     |███████████████████▍            | 624 kB 8.1 MB/s eta 0:00:01\r\u001b[K     |███████████████████▊            | 634 kB 8.1 MB/s eta 0:00:01\r\u001b[K     |████████████████████            | 645 kB 8.1 MB/s eta 0:00:01\r\u001b[K     |████████████████████▎           | 655 kB 8.1 MB/s eta 0:00:01\r\u001b[K     |████████████████████▋           | 665 kB 8.1 MB/s eta 0:00:01\r\u001b[K     |█████████████████████           | 675 kB 8.1 MB/s eta 0:00:01\r\u001b[K     |█████████████████████▎          | 686 kB 8.1 MB/s eta 0:00:01\r\u001b[K     |█████████████████████▋          | 696 kB 8.1 MB/s eta 0:00:01\r\u001b[K     |██████████████████████          | 706 kB 8.1 MB/s eta 0:00:01\r\u001b[K     |██████████████████████▎         | 716 kB 8.1 MB/s eta 0:00:01\r\u001b[K     |██████████████████████▋         | 727 kB 8.1 MB/s eta 0:00:01\r\u001b[K     |██████████████████████▉         | 737 kB 8.1 MB/s eta 0:00:01\r\u001b[K     |███████████████████████▏        | 747 kB 8.1 MB/s eta 0:00:01\r\u001b[K     |███████████████████████▌        | 757 kB 8.1 MB/s eta 0:00:01\r\u001b[K     |███████████████████████▉        | 768 kB 8.1 MB/s eta 0:00:01\r\u001b[K     |████████████████████████▏       | 778 kB 8.1 MB/s eta 0:00:01\r\u001b[K     |████████████████████████▌       | 788 kB 8.1 MB/s eta 0:00:01\r\u001b[K     |████████████████████████▉       | 798 kB 8.1 MB/s eta 0:00:01\r\u001b[K     |█████████████████████████       | 808 kB 8.1 MB/s eta 0:00:01\r\u001b[K     |█████████████████████████▍      | 819 kB 8.1 MB/s eta 0:00:01\r\u001b[K     |█████████████████████████▊      | 829 kB 8.1 MB/s eta 0:00:01\r\u001b[K     |██████████████████████████      | 839 kB 8.1 MB/s eta 0:00:01\r\u001b[K     |██████████████████████████▍     | 849 kB 8.1 MB/s eta 0:00:01\r\u001b[K     |██████████████████████████▊     | 860 kB 8.1 MB/s eta 0:00:01\r\u001b[K     |███████████████████████████     | 870 kB 8.1 MB/s eta 0:00:01\r\u001b[K     |███████████████████████████▎    | 880 kB 8.1 MB/s eta 0:00:01\r\u001b[K     |███████████████████████████▋    | 890 kB 8.1 MB/s eta 0:00:01\r\u001b[K     |████████████████████████████    | 901 kB 8.1 MB/s eta 0:00:01\r\u001b[K     |████████████████████████████▎   | 911 kB 8.1 MB/s eta 0:00:01\r\u001b[K     |████████████████████████████▋   | 921 kB 8.1 MB/s eta 0:00:01\r\u001b[K     |█████████████████████████████   | 931 kB 8.1 MB/s eta 0:00:01\r\u001b[K     |█████████████████████████████▎  | 942 kB 8.1 MB/s eta 0:00:01\r\u001b[K     |█████████████████████████████▌  | 952 kB 8.1 MB/s eta 0:00:01\r\u001b[K     |█████████████████████████████▉  | 962 kB 8.1 MB/s eta 0:00:01\r\u001b[K     |██████████████████████████████▏ | 972 kB 8.1 MB/s eta 0:00:01\r\u001b[K     |██████████████████████████████▌ | 983 kB 8.1 MB/s eta 0:00:01\r\u001b[K     |██████████████████████████████▉ | 993 kB 8.1 MB/s eta 0:00:01\r\u001b[K     |███████████████████████████████▏| 1.0 MB 8.1 MB/s eta 0:00:01\r\u001b[K     |███████████████████████████████▌| 1.0 MB 8.1 MB/s eta 0:00:01\r\u001b[K     |███████████████████████████████▊| 1.0 MB 8.1 MB/s eta 0:00:01\r\u001b[K     |████████████████████████████████| 1.0 MB 8.1 MB/s \n",
            "\u001b[?25hRequirement already satisfied: pandas>=0.25.0 in /usr/local/lib/python3.7/dist-packages (from geopandas) (1.3.5)\n",
            "Collecting fiona>=1.8\n",
            "  Downloading Fiona-1.8.21-cp37-cp37m-manylinux2014_x86_64.whl (16.7 MB)\n",
            "\u001b[K     |████████████████████████████████| 16.7 MB 278 kB/s \n",
            "\u001b[?25hCollecting pyproj>=2.2.0\n",
            "  Downloading pyproj-3.2.1-cp37-cp37m-manylinux2010_x86_64.whl (6.3 MB)\n",
            "\u001b[K     |████████████████████████████████| 6.3 MB 30.5 MB/s \n",
            "\u001b[?25hRequirement already satisfied: shapely>=1.6 in /usr/local/lib/python3.7/dist-packages (from geopandas) (1.8.0)\n",
            "Requirement already satisfied: certifi in /usr/local/lib/python3.7/dist-packages (from fiona>=1.8->geopandas) (2021.10.8)\n",
            "Requirement already satisfied: attrs>=17 in /usr/local/lib/python3.7/dist-packages (from fiona>=1.8->geopandas) (21.4.0)\n",
            "Collecting click-plugins>=1.0\n",
            "  Downloading click_plugins-1.1.1-py2.py3-none-any.whl (7.5 kB)\n",
            "Collecting munch\n",
            "  Downloading munch-2.5.0-py2.py3-none-any.whl (10 kB)\n",
            "Requirement already satisfied: six>=1.7 in /usr/local/lib/python3.7/dist-packages (from fiona>=1.8->geopandas) (1.15.0)\n",
            "Requirement already satisfied: click>=4.0 in /usr/local/lib/python3.7/dist-packages (from fiona>=1.8->geopandas) (7.1.2)\n",
            "Collecting cligj>=0.5\n",
            "  Downloading cligj-0.7.2-py3-none-any.whl (7.1 kB)\n",
            "Requirement already satisfied: setuptools in /usr/local/lib/python3.7/dist-packages (from fiona>=1.8->geopandas) (57.4.0)\n",
            "Requirement already satisfied: pytz>=2017.3 in /usr/local/lib/python3.7/dist-packages (from pandas>=0.25.0->geopandas) (2018.9)\n",
            "Requirement already satisfied: python-dateutil>=2.7.3 in /usr/local/lib/python3.7/dist-packages (from pandas>=0.25.0->geopandas) (2.8.2)\n",
            "Requirement already satisfied: numpy>=1.17.3 in /usr/local/lib/python3.7/dist-packages (from pandas>=0.25.0->geopandas) (1.19.5)\n",
            "Installing collected packages: munch, cligj, click-plugins, pyproj, fiona, geopandas\n",
            "Successfully installed click-plugins-1.1.1 cligj-0.7.2 fiona-1.8.21 geopandas-0.10.2 munch-2.5.0 pyproj-3.2.1\n",
            "Collecting wbdata\n",
            "  Downloading wbdata-0.3.0-py3-none-any.whl (14 kB)\n",
            "Requirement already satisfied: requests>=2.0 in /usr/local/lib/python3.7/dist-packages (from wbdata) (2.23.0)\n",
            "Requirement already satisfied: appdirs<2.0,>=1.4 in /usr/local/lib/python3.7/dist-packages (from wbdata) (1.4.4)\n",
            "Requirement already satisfied: tabulate>=0.8.5 in /usr/local/lib/python3.7/dist-packages (from wbdata) (0.8.9)\n",
            "Requirement already satisfied: decorator>=4.0 in /usr/local/lib/python3.7/dist-packages (from wbdata) (4.4.2)\n",
            "Requirement already satisfied: idna<3,>=2.5 in /usr/local/lib/python3.7/dist-packages (from requests>=2.0->wbdata) (2.10)\n",
            "Requirement already satisfied: certifi>=2017.4.17 in /usr/local/lib/python3.7/dist-packages (from requests>=2.0->wbdata) (2021.10.8)\n",
            "Requirement already satisfied: chardet<4,>=3.0.2 in /usr/local/lib/python3.7/dist-packages (from requests>=2.0->wbdata) (3.0.4)\n",
            "Requirement already satisfied: urllib3!=1.25.0,!=1.25.1,<1.26,>=1.21.1 in /usr/local/lib/python3.7/dist-packages (from requests>=2.0->wbdata) (1.24.3)\n",
            "Installing collected packages: wbdata\n",
            "Successfully installed wbdata-0.3.0\n",
            "Requirement already satisfied: cufflinks in /usr/local/lib/python3.7/dist-packages (0.17.3)\n",
            "Requirement already satisfied: plotly>=4.1.1 in /usr/local/lib/python3.7/dist-packages (from cufflinks) (5.5.0)\n",
            "Requirement already satisfied: pandas>=0.19.2 in /usr/local/lib/python3.7/dist-packages (from cufflinks) (1.3.5)\n",
            "Requirement already satisfied: numpy>=1.9.2 in /usr/local/lib/python3.7/dist-packages (from cufflinks) (1.19.5)\n",
            "Requirement already satisfied: colorlover>=0.2.1 in /usr/local/lib/python3.7/dist-packages (from cufflinks) (0.3.0)\n",
            "Requirement already satisfied: six>=1.9.0 in /usr/local/lib/python3.7/dist-packages (from cufflinks) (1.15.0)\n",
            "Requirement already satisfied: ipython>=5.3.0 in /usr/local/lib/python3.7/dist-packages (from cufflinks) (5.5.0)\n",
            "Requirement already satisfied: setuptools>=34.4.1 in /usr/local/lib/python3.7/dist-packages (from cufflinks) (57.4.0)\n",
            "Requirement already satisfied: ipywidgets>=7.0.0 in /usr/local/lib/python3.7/dist-packages (from cufflinks) (7.6.5)\n",
            "Requirement already satisfied: pickleshare in /usr/local/lib/python3.7/dist-packages (from ipython>=5.3.0->cufflinks) (0.7.5)\n",
            "Requirement already satisfied: traitlets>=4.2 in /usr/local/lib/python3.7/dist-packages (from ipython>=5.3.0->cufflinks) (5.1.1)\n",
            "Requirement already satisfied: pexpect in /usr/local/lib/python3.7/dist-packages (from ipython>=5.3.0->cufflinks) (4.8.0)\n",
            "Requirement already satisfied: prompt-toolkit<2.0.0,>=1.0.4 in /usr/local/lib/python3.7/dist-packages (from ipython>=5.3.0->cufflinks) (1.0.18)\n",
            "Requirement already satisfied: pygments in /usr/local/lib/python3.7/dist-packages (from ipython>=5.3.0->cufflinks) (2.6.1)\n",
            "Requirement already satisfied: simplegeneric>0.8 in /usr/local/lib/python3.7/dist-packages (from ipython>=5.3.0->cufflinks) (0.8.1)\n",
            "Requirement already satisfied: decorator in /usr/local/lib/python3.7/dist-packages (from ipython>=5.3.0->cufflinks) (4.4.2)\n",
            "Requirement already satisfied: ipython-genutils~=0.2.0 in /usr/local/lib/python3.7/dist-packages (from ipywidgets>=7.0.0->cufflinks) (0.2.0)\n",
            "Requirement already satisfied: ipykernel>=4.5.1 in /usr/local/lib/python3.7/dist-packages (from ipywidgets>=7.0.0->cufflinks) (4.10.1)\n",
            "Requirement already satisfied: widgetsnbextension~=3.5.0 in /usr/local/lib/python3.7/dist-packages (from ipywidgets>=7.0.0->cufflinks) (3.5.2)\n",
            "Requirement already satisfied: jupyterlab-widgets>=1.0.0 in /usr/local/lib/python3.7/dist-packages (from ipywidgets>=7.0.0->cufflinks) (1.0.2)\n",
            "Requirement already satisfied: nbformat>=4.2.0 in /usr/local/lib/python3.7/dist-packages (from ipywidgets>=7.0.0->cufflinks) (5.1.3)\n",
            "Requirement already satisfied: tornado>=4.0 in /usr/local/lib/python3.7/dist-packages (from ipykernel>=4.5.1->ipywidgets>=7.0.0->cufflinks) (5.1.1)\n",
            "Requirement already satisfied: jupyter-client in /usr/local/lib/python3.7/dist-packages (from ipykernel>=4.5.1->ipywidgets>=7.0.0->cufflinks) (5.3.5)\n",
            "Requirement already satisfied: jsonschema!=2.5.0,>=2.4 in /usr/local/lib/python3.7/dist-packages (from nbformat>=4.2.0->ipywidgets>=7.0.0->cufflinks) (4.3.3)\n",
            "Requirement already satisfied: jupyter-core in /usr/local/lib/python3.7/dist-packages (from nbformat>=4.2.0->ipywidgets>=7.0.0->cufflinks) (4.9.1)\n",
            "Requirement already satisfied: importlib-metadata in /usr/local/lib/python3.7/dist-packages (from jsonschema!=2.5.0,>=2.4->nbformat>=4.2.0->ipywidgets>=7.0.0->cufflinks) (4.10.1)\n",
            "Requirement already satisfied: attrs>=17.4.0 in /usr/local/lib/python3.7/dist-packages (from jsonschema!=2.5.0,>=2.4->nbformat>=4.2.0->ipywidgets>=7.0.0->cufflinks) (21.4.0)\n",
            "Requirement already satisfied: pyrsistent!=0.17.0,!=0.17.1,!=0.17.2,>=0.14.0 in /usr/local/lib/python3.7/dist-packages (from jsonschema!=2.5.0,>=2.4->nbformat>=4.2.0->ipywidgets>=7.0.0->cufflinks) (0.18.1)\n",
            "Requirement already satisfied: typing-extensions in /usr/local/lib/python3.7/dist-packages (from jsonschema!=2.5.0,>=2.4->nbformat>=4.2.0->ipywidgets>=7.0.0->cufflinks) (3.10.0.2)\n",
            "Requirement already satisfied: importlib-resources>=1.4.0 in /usr/local/lib/python3.7/dist-packages (from jsonschema!=2.5.0,>=2.4->nbformat>=4.2.0->ipywidgets>=7.0.0->cufflinks) (5.4.0)\n",
            "Requirement already satisfied: zipp>=3.1.0 in /usr/local/lib/python3.7/dist-packages (from importlib-resources>=1.4.0->jsonschema!=2.5.0,>=2.4->nbformat>=4.2.0->ipywidgets>=7.0.0->cufflinks) (3.7.0)\n",
            "Requirement already satisfied: python-dateutil>=2.7.3 in /usr/local/lib/python3.7/dist-packages (from pandas>=0.19.2->cufflinks) (2.8.2)\n",
            "Requirement already satisfied: pytz>=2017.3 in /usr/local/lib/python3.7/dist-packages (from pandas>=0.19.2->cufflinks) (2018.9)\n",
            "Requirement already satisfied: tenacity>=6.2.0 in /usr/local/lib/python3.7/dist-packages (from plotly>=4.1.1->cufflinks) (8.0.1)\n",
            "Requirement already satisfied: wcwidth in /usr/local/lib/python3.7/dist-packages (from prompt-toolkit<2.0.0,>=1.0.4->ipython>=5.3.0->cufflinks) (0.2.5)\n",
            "Requirement already satisfied: notebook>=4.4.1 in /usr/local/lib/python3.7/dist-packages (from widgetsnbextension~=3.5.0->ipywidgets>=7.0.0->cufflinks) (5.3.1)\n",
            "Requirement already satisfied: terminado>=0.8.1 in /usr/local/lib/python3.7/dist-packages (from notebook>=4.4.1->widgetsnbextension~=3.5.0->ipywidgets>=7.0.0->cufflinks) (0.13.1)\n",
            "Requirement already satisfied: Send2Trash in /usr/local/lib/python3.7/dist-packages (from notebook>=4.4.1->widgetsnbextension~=3.5.0->ipywidgets>=7.0.0->cufflinks) (1.8.0)\n",
            "Requirement already satisfied: nbconvert in /usr/local/lib/python3.7/dist-packages (from notebook>=4.4.1->widgetsnbextension~=3.5.0->ipywidgets>=7.0.0->cufflinks) (5.6.1)\n",
            "Requirement already satisfied: jinja2 in /usr/local/lib/python3.7/dist-packages (from notebook>=4.4.1->widgetsnbextension~=3.5.0->ipywidgets>=7.0.0->cufflinks) (2.11.3)\n",
            "Requirement already satisfied: pyzmq>=13 in /usr/local/lib/python3.7/dist-packages (from jupyter-client->ipykernel>=4.5.1->ipywidgets>=7.0.0->cufflinks) (22.3.0)\n",
            "Requirement already satisfied: ptyprocess in /usr/local/lib/python3.7/dist-packages (from terminado>=0.8.1->notebook>=4.4.1->widgetsnbextension~=3.5.0->ipywidgets>=7.0.0->cufflinks) (0.7.0)\n",
            "Requirement already satisfied: MarkupSafe>=0.23 in /usr/local/lib/python3.7/dist-packages (from jinja2->notebook>=4.4.1->widgetsnbextension~=3.5.0->ipywidgets>=7.0.0->cufflinks) (2.0.1)\n",
            "Requirement already satisfied: defusedxml in /usr/local/lib/python3.7/dist-packages (from nbconvert->notebook>=4.4.1->widgetsnbextension~=3.5.0->ipywidgets>=7.0.0->cufflinks) (0.7.1)\n",
            "Requirement already satisfied: testpath in /usr/local/lib/python3.7/dist-packages (from nbconvert->notebook>=4.4.1->widgetsnbextension~=3.5.0->ipywidgets>=7.0.0->cufflinks) (0.5.0)\n",
            "Requirement already satisfied: pandocfilters>=1.4.1 in /usr/local/lib/python3.7/dist-packages (from nbconvert->notebook>=4.4.1->widgetsnbextension~=3.5.0->ipywidgets>=7.0.0->cufflinks) (1.5.0)\n",
            "Requirement already satisfied: mistune<2,>=0.8.1 in /usr/local/lib/python3.7/dist-packages (from nbconvert->notebook>=4.4.1->widgetsnbextension~=3.5.0->ipywidgets>=7.0.0->cufflinks) (0.8.4)\n",
            "Requirement already satisfied: bleach in /usr/local/lib/python3.7/dist-packages (from nbconvert->notebook>=4.4.1->widgetsnbextension~=3.5.0->ipywidgets>=7.0.0->cufflinks) (4.1.0)\n",
            "Requirement already satisfied: entrypoints>=0.2.2 in /usr/local/lib/python3.7/dist-packages (from nbconvert->notebook>=4.4.1->widgetsnbextension~=3.5.0->ipywidgets>=7.0.0->cufflinks) (0.4)\n",
            "Requirement already satisfied: packaging in /usr/local/lib/python3.7/dist-packages (from bleach->nbconvert->notebook>=4.4.1->widgetsnbextension~=3.5.0->ipywidgets>=7.0.0->cufflinks) (21.3)\n",
            "Requirement already satisfied: webencodings in /usr/local/lib/python3.7/dist-packages (from bleach->nbconvert->notebook>=4.4.1->widgetsnbextension~=3.5.0->ipywidgets>=7.0.0->cufflinks) (0.5.1)\n",
            "Requirement already satisfied: pyparsing!=3.0.5,>=2.0.2 in /usr/local/lib/python3.7/dist-packages (from packaging->bleach->nbconvert->notebook>=4.4.1->widgetsnbextension~=3.5.0->ipywidgets>=7.0.0->cufflinks) (3.0.7)\n",
            "Collecting iso3166\n",
            "  Downloading iso3166-2.0.2-py3-none-any.whl (8.5 kB)\n",
            "Installing collected packages: iso3166\n",
            "Successfully installed iso3166-2.0.2\n"
          ]
        },
        {
          "output_type": "display_data",
          "data": {
            "text/html": [
              "        <script type=\"text/javascript\">\n",
              "        window.PlotlyConfig = {MathJaxConfig: 'local'};\n",
              "        if (window.MathJax) {MathJax.Hub.Config({SVG: {font: \"STIX-Web\"}});}\n",
              "        if (typeof require !== 'undefined') {\n",
              "        require.undef(\"plotly\");\n",
              "        requirejs.config({\n",
              "            paths: {\n",
              "                'plotly': ['https://cdn.plot.ly/plotly-2.8.3.min']\n",
              "            }\n",
              "        });\n",
              "        require(['plotly'], function(Plotly) {\n",
              "            window._Plotly = Plotly;\n",
              "        });\n",
              "        }\n",
              "        </script>\n",
              "        "
            ]
          },
          "metadata": {}
        }
      ],
      "source": [
        "#setting up packages/etc for our code to run\n",
        "!pip install geopandas\n",
        "!pip install wbdata\n",
        "!pip install cufflinks\n",
        "!pip install iso3166\n",
        "\n",
        "#import iso3166 #iso3166.countries.get('country details')\n",
        "import wbdata\n",
        "import cufflinks as cf\n",
        "import pandas as pd\n",
        "import numpy as np\n",
        "import plotly\n",
        "import matplotlib.pyplot as plt\n",
        "import seaborn as sns\n",
        "cf.go_offline()\n",
        "import geopandas\n"
      ]
    },
    {
      "cell_type": "code",
      "execution_count": null,
      "metadata": {
        "id": "AQ7kUjAgf3Mk"
      },
      "outputs": [],
      "source": [
        "# Start with an empty list of age-ranges and then construct the range we needed for future methods\n",
        "#simplifies later methods\n",
        "age_ranges = []\n",
        "renames = {\n",
        "    'Males 0004':'Males Ages 00-04',\n",
        "    'Males 0509':'Males Ages 05-09',\n",
        "    'Males 1014':'Males Ages 10-14',\n",
        "    'Males 1519':'Males Ages 15-19',\n",
        "    'Males 2024':'Males Ages 20-24',\n",
        "    'Males 2529':'Males Ages 25-29',\n",
        "    'Males 3034':'Males Ages 30-34',\n",
        "    'Males 3539':'Males Ages 35-39',\n",
        "    'Males 4044':'Males Ages 40-44',\n",
        "    'Males 4549':'Males Ages 45-49',\n",
        "    'Males 5054':'Males Ages 50-54',\n",
        "    'Males 5559':'Males Ages 55-59',\n",
        "    'Males 6064':'Males Ages 60-64',\n",
        "    'Males 6569':'Males Ages 65-69',\n",
        "    'Males 7074':'Males Ages 70-74',\n",
        "    'Males 7579':'Males Ages 75-79',\n",
        "    'Males 80UP':'Males Ages 80+',\n",
        "    'Females 0004' : 'Females Ages 00-04',\n",
        "    'Females 0509':'Females Ages 05-09',\n",
        "    'Females 1014':'Females Ages 10-14',\n",
        "    'Females 1519':'FemalesAges 15-19',\n",
        "    'Females 2024':'Females Ages 20-24',\n",
        "    'Females 2529':'Females Ages 25-29',\n",
        "    'Females 3034':'Females Ages 30-34',\n",
        "    'Females 3539':'Females Ages 35-39',\n",
        "    'Females 4044':'Females Ages 40-44',\n",
        "    'Females 4549':'Females Ages 45-49',\n",
        "    'Females 5054':'Females Ages 50-54',\n",
        "    'Females 5559':'Females Ages 55-59',\n",
        "    'Females 6064':'Females Ages 60-64',\n",
        "    'Females 6569':'Females Ages 65-69',\n",
        "    'Females 7074':'Females Ages 70-74',\n",
        "    'Females 7579':'Females Ages 75-79',\n",
        "    'Females 80UP':'Females Ages 80+',\n",
        "}\n",
        "# Ranges top out at 80, and go in five year increments\n",
        "for i in range(0,80,5):\n",
        "    age_ranges.append(f\"{i:02d}\"+f\"{i+4:02d}\")\n",
        "\n",
        "age_ranges.append(\"80UP\")\n",
        "male_variables = {\"SP.POP.\"+age_range+\".MA\":\"Males \"+age_range for age_range in age_ranges}\n",
        "female_variables = {\"SP.POP.\"+age_range+\".FE\":\"Females \"+age_range for age_range in age_ranges}"
      ]
    },
    {
      "cell_type": "code",
      "execution_count": null,
      "metadata": {
        "colab": {
          "base_uri": "https://localhost:8080/",
          "height": 1000
        },
        "id": "2-Fv-DcWVQq3",
        "outputId": "bdeb34d5-4368-40ce-a6d6-4a0f7a2c5e0a"
      },
      "outputs": [
        {
          "output_type": "execute_result",
          "data": {
            "text/html": [
              "\n",
              "  <div id=\"df-6fb06310-1769-4ba5-bbaa-ee604226bd94\">\n",
              "    <div class=\"colab-df-container\">\n",
              "      <div>\n",
              "<style scoped>\n",
              "    .dataframe tbody tr th:only-of-type {\n",
              "        vertical-align: middle;\n",
              "    }\n",
              "\n",
              "    .dataframe tbody tr th {\n",
              "        vertical-align: top;\n",
              "    }\n",
              "\n",
              "    .dataframe thead th {\n",
              "        text-align: right;\n",
              "    }\n",
              "</style>\n",
              "<table border=\"1\" class=\"dataframe\">\n",
              "  <thead>\n",
              "    <tr style=\"text-align: right;\">\n",
              "      <th></th>\n",
              "      <th>Russia Population</th>\n",
              "    </tr>\n",
              "    <tr>\n",
              "      <th>date</th>\n",
              "      <th></th>\n",
              "    </tr>\n",
              "  </thead>\n",
              "  <tbody>\n",
              "    <tr>\n",
              "      <th>2020</th>\n",
              "      <td>144104080.0</td>\n",
              "    </tr>\n",
              "    <tr>\n",
              "      <th>2019</th>\n",
              "      <td>144406261.0</td>\n",
              "    </tr>\n",
              "    <tr>\n",
              "      <th>2018</th>\n",
              "      <td>144477859.0</td>\n",
              "    </tr>\n",
              "    <tr>\n",
              "      <th>2017</th>\n",
              "      <td>144496739.0</td>\n",
              "    </tr>\n",
              "    <tr>\n",
              "      <th>2016</th>\n",
              "      <td>144342397.0</td>\n",
              "    </tr>\n",
              "    <tr>\n",
              "      <th>2015</th>\n",
              "      <td>144096870.0</td>\n",
              "    </tr>\n",
              "    <tr>\n",
              "      <th>2014</th>\n",
              "      <td>143819667.0</td>\n",
              "    </tr>\n",
              "    <tr>\n",
              "      <th>2013</th>\n",
              "      <td>143506995.0</td>\n",
              "    </tr>\n",
              "    <tr>\n",
              "      <th>2012</th>\n",
              "      <td>143201721.0</td>\n",
              "    </tr>\n",
              "    <tr>\n",
              "      <th>2011</th>\n",
              "      <td>142960908.0</td>\n",
              "    </tr>\n",
              "    <tr>\n",
              "      <th>2010</th>\n",
              "      <td>142849468.0</td>\n",
              "    </tr>\n",
              "    <tr>\n",
              "      <th>2009</th>\n",
              "      <td>142785349.0</td>\n",
              "    </tr>\n",
              "    <tr>\n",
              "      <th>2008</th>\n",
              "      <td>142742366.0</td>\n",
              "    </tr>\n",
              "    <tr>\n",
              "      <th>2007</th>\n",
              "      <td>142805114.0</td>\n",
              "    </tr>\n",
              "    <tr>\n",
              "      <th>2006</th>\n",
              "      <td>143049637.0</td>\n",
              "    </tr>\n",
              "    <tr>\n",
              "      <th>2005</th>\n",
              "      <td>143518814.0</td>\n",
              "    </tr>\n",
              "    <tr>\n",
              "      <th>2004</th>\n",
              "      <td>144067316.0</td>\n",
              "    </tr>\n",
              "    <tr>\n",
              "      <th>2003</th>\n",
              "      <td>144648618.0</td>\n",
              "    </tr>\n",
              "    <tr>\n",
              "      <th>2002</th>\n",
              "      <td>145306497.0</td>\n",
              "    </tr>\n",
              "    <tr>\n",
              "      <th>2001</th>\n",
              "      <td>145976482.0</td>\n",
              "    </tr>\n",
              "    <tr>\n",
              "      <th>2000</th>\n",
              "      <td>146596869.0</td>\n",
              "    </tr>\n",
              "    <tr>\n",
              "      <th>1999</th>\n",
              "      <td>147214776.0</td>\n",
              "    </tr>\n",
              "    <tr>\n",
              "      <th>1998</th>\n",
              "      <td>147670784.0</td>\n",
              "    </tr>\n",
              "    <tr>\n",
              "      <th>1997</th>\n",
              "      <td>147915361.0</td>\n",
              "    </tr>\n",
              "    <tr>\n",
              "      <th>1996</th>\n",
              "      <td>148160129.0</td>\n",
              "    </tr>\n",
              "    <tr>\n",
              "      <th>1995</th>\n",
              "      <td>148375787.0</td>\n",
              "    </tr>\n",
              "    <tr>\n",
              "      <th>1994</th>\n",
              "      <td>148407912.0</td>\n",
              "    </tr>\n",
              "    <tr>\n",
              "      <th>1993</th>\n",
              "      <td>148458777.0</td>\n",
              "    </tr>\n",
              "    <tr>\n",
              "      <th>1992</th>\n",
              "      <td>148538197.0</td>\n",
              "    </tr>\n",
              "    <tr>\n",
              "      <th>1991</th>\n",
              "      <td>148394216.0</td>\n",
              "    </tr>\n",
              "  </tbody>\n",
              "</table>\n",
              "</div>\n",
              "      <button class=\"colab-df-convert\" onclick=\"convertToInteractive('df-6fb06310-1769-4ba5-bbaa-ee604226bd94')\"\n",
              "              title=\"Convert this dataframe to an interactive table.\"\n",
              "              style=\"display:none;\">\n",
              "        \n",
              "  <svg xmlns=\"http://www.w3.org/2000/svg\" height=\"24px\"viewBox=\"0 0 24 24\"\n",
              "       width=\"24px\">\n",
              "    <path d=\"M0 0h24v24H0V0z\" fill=\"none\"/>\n",
              "    <path d=\"M18.56 5.44l.94 2.06.94-2.06 2.06-.94-2.06-.94-.94-2.06-.94 2.06-2.06.94zm-11 1L8.5 8.5l.94-2.06 2.06-.94-2.06-.94L8.5 2.5l-.94 2.06-2.06.94zm10 10l.94 2.06.94-2.06 2.06-.94-2.06-.94-.94-2.06-.94 2.06-2.06.94z\"/><path d=\"M17.41 7.96l-1.37-1.37c-.4-.4-.92-.59-1.43-.59-.52 0-1.04.2-1.43.59L10.3 9.45l-7.72 7.72c-.78.78-.78 2.05 0 2.83L4 21.41c.39.39.9.59 1.41.59.51 0 1.02-.2 1.41-.59l7.78-7.78 2.81-2.81c.8-.78.8-2.07 0-2.86zM5.41 20L4 18.59l7.72-7.72 1.47 1.35L5.41 20z\"/>\n",
              "  </svg>\n",
              "      </button>\n",
              "      \n",
              "  <style>\n",
              "    .colab-df-container {\n",
              "      display:flex;\n",
              "      flex-wrap:wrap;\n",
              "      gap: 12px;\n",
              "    }\n",
              "\n",
              "    .colab-df-convert {\n",
              "      background-color: #E8F0FE;\n",
              "      border: none;\n",
              "      border-radius: 50%;\n",
              "      cursor: pointer;\n",
              "      display: none;\n",
              "      fill: #1967D2;\n",
              "      height: 32px;\n",
              "      padding: 0 0 0 0;\n",
              "      width: 32px;\n",
              "    }\n",
              "\n",
              "    .colab-df-convert:hover {\n",
              "      background-color: #E2EBFA;\n",
              "      box-shadow: 0px 1px 2px rgba(60, 64, 67, 0.3), 0px 1px 3px 1px rgba(60, 64, 67, 0.15);\n",
              "      fill: #174EA6;\n",
              "    }\n",
              "\n",
              "    [theme=dark] .colab-df-convert {\n",
              "      background-color: #3B4455;\n",
              "      fill: #D2E3FC;\n",
              "    }\n",
              "\n",
              "    [theme=dark] .colab-df-convert:hover {\n",
              "      background-color: #434B5C;\n",
              "      box-shadow: 0px 1px 3px 1px rgba(0, 0, 0, 0.15);\n",
              "      filter: drop-shadow(0px 1px 2px rgba(0, 0, 0, 0.3));\n",
              "      fill: #FFFFFF;\n",
              "    }\n",
              "  </style>\n",
              "\n",
              "      <script>\n",
              "        const buttonEl =\n",
              "          document.querySelector('#df-6fb06310-1769-4ba5-bbaa-ee604226bd94 button.colab-df-convert');\n",
              "        buttonEl.style.display =\n",
              "          google.colab.kernel.accessAllowed ? 'block' : 'none';\n",
              "\n",
              "        async function convertToInteractive(key) {\n",
              "          const element = document.querySelector('#df-6fb06310-1769-4ba5-bbaa-ee604226bd94');\n",
              "          const dataTable =\n",
              "            await google.colab.kernel.invokeFunction('convertToInteractive',\n",
              "                                                     [key], {});\n",
              "          if (!dataTable) return;\n",
              "\n",
              "          const docLinkHtml = 'Like what you see? Visit the ' +\n",
              "            '<a target=\"_blank\" href=https://colab.research.google.com/notebooks/data_table.ipynb>data table notebook</a>'\n",
              "            + ' to learn more about interactive tables.';\n",
              "          element.innerHTML = '';\n",
              "          dataTable['output_type'] = 'display_data';\n",
              "          await google.colab.output.renderOutput(dataTable, element);\n",
              "          const docLink = document.createElement('div');\n",
              "          docLink.innerHTML = docLinkHtml;\n",
              "          element.appendChild(docLink);\n",
              "        }\n",
              "      </script>\n",
              "    </div>\n",
              "  </div>\n",
              "  "
            ],
            "text/plain": [
              "      Russia Population\n",
              "date                   \n",
              "2020        144104080.0\n",
              "2019        144406261.0\n",
              "2018        144477859.0\n",
              "2017        144496739.0\n",
              "2016        144342397.0\n",
              "2015        144096870.0\n",
              "2014        143819667.0\n",
              "2013        143506995.0\n",
              "2012        143201721.0\n",
              "2011        142960908.0\n",
              "2010        142849468.0\n",
              "2009        142785349.0\n",
              "2008        142742366.0\n",
              "2007        142805114.0\n",
              "2006        143049637.0\n",
              "2005        143518814.0\n",
              "2004        144067316.0\n",
              "2003        144648618.0\n",
              "2002        145306497.0\n",
              "2001        145976482.0\n",
              "2000        146596869.0\n",
              "1999        147214776.0\n",
              "1998        147670784.0\n",
              "1997        147915361.0\n",
              "1996        148160129.0\n",
              "1995        148375787.0\n",
              "1994        148407912.0\n",
              "1993        148458777.0\n",
              "1992        148538197.0\n",
              "1991        148394216.0"
            ]
          },
          "metadata": {},
          "execution_count": 3
        }
      ],
      "source": [
        "#Jesus B Soto:\n",
        "# Give variable for clarity\n",
        "#Here's an example of the populations we are looking at\n",
        "variable_labels = {\"SP.POP.TOTL\":\"Russia Population\"}\n",
        "\n",
        "world = wbdata.get_dataframe(variable_labels, country=\"RUS\")\n",
        "\n",
        "# Date index is of type string; change to integers\n",
        "world.index = world.index.astype(int)\n",
        "\n",
        "# Print a few years' data\n",
        "world.head(30)"
      ]
    },
    {
      "cell_type": "code",
      "execution_count": null,
      "metadata": {
        "id": "RTQdv6GlcFWg"
      },
      "outputs": [],
      "source": [
        "#First part A: Population Statistics\n",
        "def format_range(age_range):\n",
        "  # Helper method for age formatting for API call to retrieve dataframe as illustrated in lecture\n",
        "  low, high = age_range[0], age_range[1]\n",
        "  if high > 80:\n",
        "    formatted_range = [f\"{i:02d}\"+f\"{i+4:02d}\" for i in range(low, 80, 5)]\n",
        "    formatted_range.append(\"80UP\")\n",
        "  else: \n",
        "    formatted_range = [f\"{i:02d}\"+f\"{i+4:02d}\" for i in range(low, high, 5)]\n",
        "  return formatted_range\n",
        "\n",
        "#included modulo operator in order to format function to be able to take age ranges outside of the increments of 5 years\n",
        "def population(year, sex, age_range, place):\n",
        "    start_increment = 0\n",
        "    end_increment = 0\n",
        "    age_range = list(age_range)\n",
        "    if age_range[0] % 5 != 0:\n",
        "        start_increment = age_range[0] % 5\n",
        "        age_range[0] = age_range[0] - start_increment\n",
        "    if age_range[1] % 5 != 0:\n",
        "        end_increment = age_range[1] % 5\n",
        "        age_range[1] = age_range[1] + (5 - age_range[1]%5)\n",
        "    age_range = tuple(age_range)\n",
        "    formatted_range = format_range(age_range)\n",
        "    if sex == \"Male\":\n",
        "        variables = {\"SP.POP.\"+age_range+\".MA\":\"Male\"+age_range for age_range in formatted_range}\n",
        "    elif sex == \"Female\":\n",
        "        variables = {\"SP.POP.\"+age_range+\".FE\":\"Female\"+age_range for age_range in formatted_range}\n",
        "    df = wbdata.get_dataframe(variables, country=place)\n",
        "    df = df.reset_index()\n",
        "    df['date'] = df['date'].astype(int)\n",
        "    result = df[df['date'] ==year]\n",
        "    fixed_start = result.iloc[0][1:][0]*((5-start_increment)/5)\n",
        "    fixed_end = (result.iloc[0][1:][len(result.iloc[0][1:])-1])*(end_increment+1)/5\n",
        "    product = result.iloc[0][1:]\n",
        "    product[0] = fixed_start\n",
        "    product[len(product)-1] = fixed_end\n",
        "    return sum(product)"
      ]
    },
    {
      "cell_type": "code",
      "execution_count": null,
      "metadata": {
        "id": "LQnq5bsKuQ03"
      },
      "outputs": [],
      "source": [
        "#unit test for code above:\n",
        "\n",
        "assert population(year=2000,sex='Male',age_range=(0,100),place='WLD') > 3e9"
      ]
    },
    {
      "cell_type": "code",
      "execution_count": null,
      "metadata": {
        "id": "xvrJO4NvhL3H"
      },
      "outputs": [],
      "source": [
        "#they'll input region/country as area and year\n",
        "#should take in an array of countries they want\n",
        "#input years as [min,max]\n",
        "def Groups_of_People(Area,years):\n",
        "    renames = {\n",
        "    'Males 0004':'Males Ages 00-04',\n",
        "    'Males 0509':'Males Ages 05-09',\n",
        "    'Males 1014':'Males Ages 10-14',\n",
        "    'Males 1519':'Males Ages 15-19',\n",
        "    'Males 2024':'Males Ages 20-24',\n",
        "    'Males 2529':'Males Ages 25-29',\n",
        "    'Males 3034':'Males Ages 30-34',\n",
        "    'Males 3539':'Males Ages 35-39',\n",
        "    'Males 4044':'Males Ages 40-44',\n",
        "    'Males 4549':'Males Ages 45-49',\n",
        "    'Males 5054':'Males Ages 50-54',\n",
        "    'Males 5559':'Males Ages 55-59',\n",
        "    'Males 6064':'Males Ages 60-64',\n",
        "    'Males 6569':'Males Ages 65-69',\n",
        "    'Males 7074':'Males Ages 70-74',\n",
        "    'Males 7579':'Males Ages 75-79',\n",
        "    'Males 80UP':'Males Ages 80+',\n",
        "    'Females 0004' : 'Females Ages 00-04',\n",
        "    'Females 0509':'Females Ages 05-09',\n",
        "    'Females 1014':'Females Ages 10-14',\n",
        "    'Females 1519':'FemalesAges 15-19',\n",
        "    'Females 2024':'Females Ages 20-24',\n",
        "    'Females 2529':'Females Ages 25-29',\n",
        "    'Females 3034':'Females Ages 30-34',\n",
        "    'Females 3539':'Females Ages 35-39',\n",
        "    'Females 4044':'Females Ages 40-44',\n",
        "    'Females 4549':'Females Ages 45-49',\n",
        "    'Females 5054':'Females Ages 50-54',\n",
        "    'Females 5559':'Females Ages 55-59',\n",
        "    'Females 6064':'Females Ages 60-64',\n",
        "    'Females 6569':'Females Ages 65-69',\n",
        "    'Females 7074':'Females Ages 70-74',\n",
        "    'Females 7579':'Females Ages 75-79',\n",
        "    'Females 80UP':'Females Ages 80+',\n",
        "}\n",
        "    # Start with an empty list of age-rages\n",
        "    age_ranges = []\n",
        "    # Ranges top out at 80, and go in five year increments\n",
        "    for i in range(0,80,5):\n",
        "        age_ranges.append(f\"{i:02d}\"+f\"{i+4:02d}\")\n",
        "    age_ranges.append(\"80UP\")\n",
        "    male_variables = {\"SP.POP.\"+age_range+\".MA\":\"Males \"+age_range for age_range in age_ranges}\n",
        "    female_variables = {\"SP.POP.\"+age_range+\".FE\":\"Females \"+age_range for age_range in age_ranges}\n",
        "    variables = male_variables\n",
        "    variables.update(female_variables)\n",
        "    df = wbdata.get_dataframe(variables,country=Area)\n",
        "    df = df.rename(columns = renames)\n",
        "    df = df.reset_index()\n",
        "    df['date'] = df['date'].astype(int)\n",
        "    df = df[df['date'] <= years[1]]\n",
        "    df = df[df['date'] >= years[0]]\n",
        "    if len(Area) > 1:\n",
        "        df = df.set_index(['country','date'])\n",
        "    else:#only one figure out \n",
        "        df['country'] = Area[0]\n",
        "        df = df.set_index(['country','date'])\n",
        "    return df"
      ]
    },
    {
      "cell_type": "code",
      "source": [
        "#Creating a test for part b\n",
        "test = Groups_of_People(['USA'],[2010,2019]).reset_index()\n",
        "test = test.drop(columns = ['country'])\n",
        "#test = test.set_index('date')\n",
        "test.loc[0,:]"
      ],
      "metadata": {
        "id": "wroTEB73Xpmy",
        "colab": {
          "base_uri": "https://localhost:8080/"
        },
        "outputId": "136b731d-7c05-45ff-b5fc-e2eba248613d"
      },
      "execution_count": null,
      "outputs": [
        {
          "output_type": "execute_result",
          "data": {
            "text/plain": [
              "date                      2019.0\n",
              "Males Ages 00-04       9996862.0\n",
              "Males Ages 80+         5125216.0\n",
              "Males Ages 05-09      10347964.0\n",
              "Males Ages 10-14      10781682.0\n",
              "Males Ages 15-19      10812989.0\n",
              "Males Ages 20-24      11398033.0\n",
              "Males Ages 25-29      12077266.0\n",
              "Males Ages 30-34      11486356.0\n",
              "Males Ages 35-39      10648938.0\n",
              "Males Ages 40-44      10017138.0\n",
              "Males Ages 45-49      10007483.0\n",
              "Males Ages 50-54      10447798.0\n",
              "Males Ages 55-59      10730282.0\n",
              "Males Ages 60-64       9890799.0\n",
              "Males Ages 65-69       8243728.0\n",
              "Males Ages 70-74       6342514.0\n",
              "Males Ages 75-79       4107578.0\n",
              "Females Ages 00-04     9563448.0\n",
              "Females Ages 80+       7761346.0\n",
              "Females Ages 05-09     9894472.0\n",
              "Females Ages 10-14    10318554.0\n",
              "FemalesAges 15-19     10390150.0\n",
              "Females Ages 20-24    10987824.0\n",
              "Females Ages 25-29    11612802.0\n",
              "Females Ages 30-34    11166357.0\n",
              "Females Ages 35-39    10580188.0\n",
              "Females Ages 40-44    10089427.0\n",
              "Females Ages 45-49    10084408.0\n",
              "Females Ages 50-54    10372061.0\n",
              "Females Ages 55-59    10912492.0\n",
              "Females Ages 60-64    10493224.0\n",
              "Females Ages 65-69     9132820.0\n",
              "Females Ages 70-74     7385613.0\n",
              "Females Ages 75-79     5122137.0\n",
              "Name: 0, dtype: float64"
            ]
          },
          "metadata": {},
          "execution_count": 7
        }
      ]
    },
    {
      "cell_type": "code",
      "execution_count": null,
      "metadata": {
        "id": "G2WYO9_Tlppf"
      },
      "outputs": [],
      "source": [
        "#Part B (Population Pyramids)\n",
        "#only takes a dataframe with just columns of age group and that's it\n",
        "#must be indexed not by date or country (use default index, or reset index prior to use)\n",
        "#Will need to manually reset the x axis labels to match the population of the country of interest\n",
        "import plotly.offline as py\n",
        "import plotly.graph_objs as go\n",
        "import pandas as pd\n",
        "import numpy as np\n",
        "def pyramid(df):\n",
        "    py.init_notebook_mode(connected=True)\n",
        "\n",
        "    layout = go.Layout(barmode='overlay',\n",
        "                       yaxis=go.layout.YAxis(range=[0, 90], title='Age'),\n",
        "                       xaxis=go.layout.XAxis(title='Number'))\n",
        "\n",
        "\n",
        "    bins = [go.Bar(x = df.filter(regex=\"Male\").values,\n",
        "                   y = [int(s[:2])+1 for s in age_ranges],\n",
        "                   orientation='h',\n",
        "                   name='Men',\n",
        "                   marker=dict(color='blue'),\n",
        "                   hoverinfo='skip'\n",
        "                   ),\n",
        "\n",
        "            go.Bar(x = -df.filter(regex=\"Female\").values,\n",
        "                   y=[int(s[:2])+1 for s in age_ranges],\n",
        "                   orientation='h',\n",
        "                   name='Women',\n",
        "                   marker=dict(color='orange'),\n",
        "                   hoverinfo='skip',\n",
        "                   )\n",
        "            ]\n",
        "    fig = go.Figure(dict(data = bins, layout = layout))\n",
        "    fig.update_xaxes(tickvals = [-10000000,-5000000,0,5000000,10000000])\n",
        "    fig.update_xaxes(ticktext = ['10M','5M','0','5M','10M'])\n",
        "    fig.show()"
      ]
    },
    {
      "cell_type": "code",
      "execution_count": null,
      "metadata": {
        "colab": {
          "base_uri": "https://localhost:8080/",
          "height": 542
        },
        "id": "bM-ida_sjIMm",
        "outputId": "ea90e148-828b-4caa-cf72-0ec19ef2e5c4"
      },
      "outputs": [
        {
          "output_type": "display_data",
          "data": {
            "text/html": [
              "        <script type=\"text/javascript\">\n",
              "        window.PlotlyConfig = {MathJaxConfig: 'local'};\n",
              "        if (window.MathJax) {MathJax.Hub.Config({SVG: {font: \"STIX-Web\"}});}\n",
              "        if (typeof require !== 'undefined') {\n",
              "        require.undef(\"plotly\");\n",
              "        requirejs.config({\n",
              "            paths: {\n",
              "                'plotly': ['https://cdn.plot.ly/plotly-2.8.3.min']\n",
              "            }\n",
              "        });\n",
              "        require(['plotly'], function(Plotly) {\n",
              "            window._Plotly = Plotly;\n",
              "        });\n",
              "        }\n",
              "        </script>\n",
              "        "
            ]
          },
          "metadata": {}
        },
        {
          "output_type": "display_data",
          "data": {
            "text/html": [
              "<div>                            <div id=\"ceedfc77-4e91-43d3-8077-391d794af87e\" class=\"plotly-graph-div\" style=\"height:525px; width:100%;\"></div>            <script type=\"text/javascript\">                require([\"plotly\"], function(Plotly) {                    window.PLOTLYENV=window.PLOTLYENV || {};                                    if (document.getElementById(\"ceedfc77-4e91-43d3-8077-391d794af87e\")) {                    Plotly.newPlot(                        \"ceedfc77-4e91-43d3-8077-391d794af87e\",                        [{\"hoverinfo\":\"skip\",\"marker\":{\"color\":\"blue\"},\"name\":\"Men\",\"orientation\":\"h\",\"x\":[9996862.0,5125216.0,10347964.0,10781682.0,10812989.0,11398033.0,12077266.0,11486356.0,10648938.0,10017138.0,10007483.0,10447798.0,10730282.0,9890799.0,8243728.0,6342514.0,4107578.0],\"y\":[1,6,11,16,21,26,31,36,41,46,51,56,61,66,71,76,81],\"type\":\"bar\"},{\"hoverinfo\":\"skip\",\"marker\":{\"color\":\"orange\"},\"name\":\"Women\",\"orientation\":\"h\",\"x\":[-9563448.0,-7761346.0,-9894472.0,-10318554.0,-10390150.0,-10987824.0,-11612802.0,-11166357.0,-10580188.0,-10089427.0,-10084408.0,-10372061.0,-10912492.0,-10493224.0,-9132820.0,-7385613.0,-5122137.0],\"y\":[1,6,11,16,21,26,31,36,41,46,51,56,61,66,71,76,81],\"type\":\"bar\"}],                        {\"barmode\":\"overlay\",\"xaxis\":{\"title\":{\"text\":\"Number\"},\"tickvals\":[-10000000,-5000000,0,5000000,10000000],\"ticktext\":[\"10M\",\"5M\",\"0\",\"5M\",\"10M\"]},\"yaxis\":{\"range\":[0,90],\"title\":{\"text\":\"Age\"}},\"template\":{\"data\":{\"bar\":[{\"error_x\":{\"color\":\"#2a3f5f\"},\"error_y\":{\"color\":\"#2a3f5f\"},\"marker\":{\"line\":{\"color\":\"#E5ECF6\",\"width\":0.5},\"pattern\":{\"fillmode\":\"overlay\",\"size\":10,\"solidity\":0.2}},\"type\":\"bar\"}],\"barpolar\":[{\"marker\":{\"line\":{\"color\":\"#E5ECF6\",\"width\":0.5},\"pattern\":{\"fillmode\":\"overlay\",\"size\":10,\"solidity\":0.2}},\"type\":\"barpolar\"}],\"carpet\":[{\"aaxis\":{\"endlinecolor\":\"#2a3f5f\",\"gridcolor\":\"white\",\"linecolor\":\"white\",\"minorgridcolor\":\"white\",\"startlinecolor\":\"#2a3f5f\"},\"baxis\":{\"endlinecolor\":\"#2a3f5f\",\"gridcolor\":\"white\",\"linecolor\":\"white\",\"minorgridcolor\":\"white\",\"startlinecolor\":\"#2a3f5f\"},\"type\":\"carpet\"}],\"choropleth\":[{\"colorbar\":{\"outlinewidth\":0,\"ticks\":\"\"},\"type\":\"choropleth\"}],\"contour\":[{\"colorbar\":{\"outlinewidth\":0,\"ticks\":\"\"},\"colorscale\":[[0.0,\"#0d0887\"],[0.1111111111111111,\"#46039f\"],[0.2222222222222222,\"#7201a8\"],[0.3333333333333333,\"#9c179e\"],[0.4444444444444444,\"#bd3786\"],[0.5555555555555556,\"#d8576b\"],[0.6666666666666666,\"#ed7953\"],[0.7777777777777778,\"#fb9f3a\"],[0.8888888888888888,\"#fdca26\"],[1.0,\"#f0f921\"]],\"type\":\"contour\"}],\"contourcarpet\":[{\"colorbar\":{\"outlinewidth\":0,\"ticks\":\"\"},\"type\":\"contourcarpet\"}],\"heatmap\":[{\"colorbar\":{\"outlinewidth\":0,\"ticks\":\"\"},\"colorscale\":[[0.0,\"#0d0887\"],[0.1111111111111111,\"#46039f\"],[0.2222222222222222,\"#7201a8\"],[0.3333333333333333,\"#9c179e\"],[0.4444444444444444,\"#bd3786\"],[0.5555555555555556,\"#d8576b\"],[0.6666666666666666,\"#ed7953\"],[0.7777777777777778,\"#fb9f3a\"],[0.8888888888888888,\"#fdca26\"],[1.0,\"#f0f921\"]],\"type\":\"heatmap\"}],\"heatmapgl\":[{\"colorbar\":{\"outlinewidth\":0,\"ticks\":\"\"},\"colorscale\":[[0.0,\"#0d0887\"],[0.1111111111111111,\"#46039f\"],[0.2222222222222222,\"#7201a8\"],[0.3333333333333333,\"#9c179e\"],[0.4444444444444444,\"#bd3786\"],[0.5555555555555556,\"#d8576b\"],[0.6666666666666666,\"#ed7953\"],[0.7777777777777778,\"#fb9f3a\"],[0.8888888888888888,\"#fdca26\"],[1.0,\"#f0f921\"]],\"type\":\"heatmapgl\"}],\"histogram\":[{\"marker\":{\"pattern\":{\"fillmode\":\"overlay\",\"size\":10,\"solidity\":0.2}},\"type\":\"histogram\"}],\"histogram2d\":[{\"colorbar\":{\"outlinewidth\":0,\"ticks\":\"\"},\"colorscale\":[[0.0,\"#0d0887\"],[0.1111111111111111,\"#46039f\"],[0.2222222222222222,\"#7201a8\"],[0.3333333333333333,\"#9c179e\"],[0.4444444444444444,\"#bd3786\"],[0.5555555555555556,\"#d8576b\"],[0.6666666666666666,\"#ed7953\"],[0.7777777777777778,\"#fb9f3a\"],[0.8888888888888888,\"#fdca26\"],[1.0,\"#f0f921\"]],\"type\":\"histogram2d\"}],\"histogram2dcontour\":[{\"colorbar\":{\"outlinewidth\":0,\"ticks\":\"\"},\"colorscale\":[[0.0,\"#0d0887\"],[0.1111111111111111,\"#46039f\"],[0.2222222222222222,\"#7201a8\"],[0.3333333333333333,\"#9c179e\"],[0.4444444444444444,\"#bd3786\"],[0.5555555555555556,\"#d8576b\"],[0.6666666666666666,\"#ed7953\"],[0.7777777777777778,\"#fb9f3a\"],[0.8888888888888888,\"#fdca26\"],[1.0,\"#f0f921\"]],\"type\":\"histogram2dcontour\"}],\"mesh3d\":[{\"colorbar\":{\"outlinewidth\":0,\"ticks\":\"\"},\"type\":\"mesh3d\"}],\"parcoords\":[{\"line\":{\"colorbar\":{\"outlinewidth\":0,\"ticks\":\"\"}},\"type\":\"parcoords\"}],\"pie\":[{\"automargin\":true,\"type\":\"pie\"}],\"scatter\":[{\"marker\":{\"colorbar\":{\"outlinewidth\":0,\"ticks\":\"\"}},\"type\":\"scatter\"}],\"scatter3d\":[{\"line\":{\"colorbar\":{\"outlinewidth\":0,\"ticks\":\"\"}},\"marker\":{\"colorbar\":{\"outlinewidth\":0,\"ticks\":\"\"}},\"type\":\"scatter3d\"}],\"scattercarpet\":[{\"marker\":{\"colorbar\":{\"outlinewidth\":0,\"ticks\":\"\"}},\"type\":\"scattercarpet\"}],\"scattergeo\":[{\"marker\":{\"colorbar\":{\"outlinewidth\":0,\"ticks\":\"\"}},\"type\":\"scattergeo\"}],\"scattergl\":[{\"marker\":{\"colorbar\":{\"outlinewidth\":0,\"ticks\":\"\"}},\"type\":\"scattergl\"}],\"scattermapbox\":[{\"marker\":{\"colorbar\":{\"outlinewidth\":0,\"ticks\":\"\"}},\"type\":\"scattermapbox\"}],\"scatterpolar\":[{\"marker\":{\"colorbar\":{\"outlinewidth\":0,\"ticks\":\"\"}},\"type\":\"scatterpolar\"}],\"scatterpolargl\":[{\"marker\":{\"colorbar\":{\"outlinewidth\":0,\"ticks\":\"\"}},\"type\":\"scatterpolargl\"}],\"scatterternary\":[{\"marker\":{\"colorbar\":{\"outlinewidth\":0,\"ticks\":\"\"}},\"type\":\"scatterternary\"}],\"surface\":[{\"colorbar\":{\"outlinewidth\":0,\"ticks\":\"\"},\"colorscale\":[[0.0,\"#0d0887\"],[0.1111111111111111,\"#46039f\"],[0.2222222222222222,\"#7201a8\"],[0.3333333333333333,\"#9c179e\"],[0.4444444444444444,\"#bd3786\"],[0.5555555555555556,\"#d8576b\"],[0.6666666666666666,\"#ed7953\"],[0.7777777777777778,\"#fb9f3a\"],[0.8888888888888888,\"#fdca26\"],[1.0,\"#f0f921\"]],\"type\":\"surface\"}],\"table\":[{\"cells\":{\"fill\":{\"color\":\"#EBF0F8\"},\"line\":{\"color\":\"white\"}},\"header\":{\"fill\":{\"color\":\"#C8D4E3\"},\"line\":{\"color\":\"white\"}},\"type\":\"table\"}]},\"layout\":{\"annotationdefaults\":{\"arrowcolor\":\"#2a3f5f\",\"arrowhead\":0,\"arrowwidth\":1},\"autotypenumbers\":\"strict\",\"coloraxis\":{\"colorbar\":{\"outlinewidth\":0,\"ticks\":\"\"}},\"colorscale\":{\"diverging\":[[0,\"#8e0152\"],[0.1,\"#c51b7d\"],[0.2,\"#de77ae\"],[0.3,\"#f1b6da\"],[0.4,\"#fde0ef\"],[0.5,\"#f7f7f7\"],[0.6,\"#e6f5d0\"],[0.7,\"#b8e186\"],[0.8,\"#7fbc41\"],[0.9,\"#4d9221\"],[1,\"#276419\"]],\"sequential\":[[0.0,\"#0d0887\"],[0.1111111111111111,\"#46039f\"],[0.2222222222222222,\"#7201a8\"],[0.3333333333333333,\"#9c179e\"],[0.4444444444444444,\"#bd3786\"],[0.5555555555555556,\"#d8576b\"],[0.6666666666666666,\"#ed7953\"],[0.7777777777777778,\"#fb9f3a\"],[0.8888888888888888,\"#fdca26\"],[1.0,\"#f0f921\"]],\"sequentialminus\":[[0.0,\"#0d0887\"],[0.1111111111111111,\"#46039f\"],[0.2222222222222222,\"#7201a8\"],[0.3333333333333333,\"#9c179e\"],[0.4444444444444444,\"#bd3786\"],[0.5555555555555556,\"#d8576b\"],[0.6666666666666666,\"#ed7953\"],[0.7777777777777778,\"#fb9f3a\"],[0.8888888888888888,\"#fdca26\"],[1.0,\"#f0f921\"]]},\"colorway\":[\"#636efa\",\"#EF553B\",\"#00cc96\",\"#ab63fa\",\"#FFA15A\",\"#19d3f3\",\"#FF6692\",\"#B6E880\",\"#FF97FF\",\"#FECB52\"],\"font\":{\"color\":\"#2a3f5f\"},\"geo\":{\"bgcolor\":\"white\",\"lakecolor\":\"white\",\"landcolor\":\"#E5ECF6\",\"showlakes\":true,\"showland\":true,\"subunitcolor\":\"white\"},\"hoverlabel\":{\"align\":\"left\"},\"hovermode\":\"closest\",\"mapbox\":{\"style\":\"light\"},\"paper_bgcolor\":\"white\",\"plot_bgcolor\":\"#E5ECF6\",\"polar\":{\"angularaxis\":{\"gridcolor\":\"white\",\"linecolor\":\"white\",\"ticks\":\"\"},\"bgcolor\":\"#E5ECF6\",\"radialaxis\":{\"gridcolor\":\"white\",\"linecolor\":\"white\",\"ticks\":\"\"}},\"scene\":{\"xaxis\":{\"backgroundcolor\":\"#E5ECF6\",\"gridcolor\":\"white\",\"gridwidth\":2,\"linecolor\":\"white\",\"showbackground\":true,\"ticks\":\"\",\"zerolinecolor\":\"white\"},\"yaxis\":{\"backgroundcolor\":\"#E5ECF6\",\"gridcolor\":\"white\",\"gridwidth\":2,\"linecolor\":\"white\",\"showbackground\":true,\"ticks\":\"\",\"zerolinecolor\":\"white\"},\"zaxis\":{\"backgroundcolor\":\"#E5ECF6\",\"gridcolor\":\"white\",\"gridwidth\":2,\"linecolor\":\"white\",\"showbackground\":true,\"ticks\":\"\",\"zerolinecolor\":\"white\"}},\"shapedefaults\":{\"line\":{\"color\":\"#2a3f5f\"}},\"ternary\":{\"aaxis\":{\"gridcolor\":\"white\",\"linecolor\":\"white\",\"ticks\":\"\"},\"baxis\":{\"gridcolor\":\"white\",\"linecolor\":\"white\",\"ticks\":\"\"},\"bgcolor\":\"#E5ECF6\",\"caxis\":{\"gridcolor\":\"white\",\"linecolor\":\"white\",\"ticks\":\"\"}},\"title\":{\"x\":0.05},\"xaxis\":{\"automargin\":true,\"gridcolor\":\"white\",\"linecolor\":\"white\",\"ticks\":\"\",\"title\":{\"standoff\":15},\"zerolinecolor\":\"white\",\"zerolinewidth\":2},\"yaxis\":{\"automargin\":true,\"gridcolor\":\"white\",\"linecolor\":\"white\",\"ticks\":\"\",\"title\":{\"standoff\":15},\"zerolinecolor\":\"white\",\"zerolinewidth\":2}}}},                        {\"responsive\": true}                    ).then(function(){\n",
              "                            \n",
              "var gd = document.getElementById('ceedfc77-4e91-43d3-8077-391d794af87e');\n",
              "var x = new MutationObserver(function (mutations, observer) {{\n",
              "        var display = window.getComputedStyle(gd).display;\n",
              "        if (!display || display === 'none') {{\n",
              "            console.log([gd, 'removed!']);\n",
              "            Plotly.purge(gd);\n",
              "            observer.disconnect();\n",
              "        }}\n",
              "}});\n",
              "\n",
              "// Listen for the removal of the full notebook cells\n",
              "var notebookContainer = gd.closest('#notebook-container');\n",
              "if (notebookContainer) {{\n",
              "    x.observe(notebookContainer, {childList: true});\n",
              "}}\n",
              "\n",
              "// Listen for the clearing of the current output cell\n",
              "var outputEl = gd.closest('.output');\n",
              "if (outputEl) {{\n",
              "    x.observe(outputEl, {childList: true});\n",
              "}}\n",
              "\n",
              "                        })                };                });            </script>        </div>"
            ],
            "application/vnd.plotly.v1+json": {
              "layout": {
                "barmode": "overlay",
                "template": {
                  "layout": {
                    "shapedefaults": {
                      "line": {
                        "color": "#2a3f5f"
                      }
                    },
                    "polar": {
                      "radialaxis": {
                        "ticks": "",
                        "gridcolor": "white",
                        "linecolor": "white"
                      },
                      "bgcolor": "#E5ECF6",
                      "angularaxis": {
                        "ticks": "",
                        "gridcolor": "white",
                        "linecolor": "white"
                      }
                    },
                    "colorway": [
                      "#636efa",
                      "#EF553B",
                      "#00cc96",
                      "#ab63fa",
                      "#FFA15A",
                      "#19d3f3",
                      "#FF6692",
                      "#B6E880",
                      "#FF97FF",
                      "#FECB52"
                    ],
                    "xaxis": {
                      "automargin": true,
                      "title": {
                        "standoff": 15
                      },
                      "zerolinewidth": 2,
                      "ticks": "",
                      "zerolinecolor": "white",
                      "gridcolor": "white",
                      "linecolor": "white"
                    },
                    "colorscale": {
                      "diverging": [
                        [
                          0,
                          "#8e0152"
                        ],
                        [
                          0.1,
                          "#c51b7d"
                        ],
                        [
                          0.2,
                          "#de77ae"
                        ],
                        [
                          0.3,
                          "#f1b6da"
                        ],
                        [
                          0.4,
                          "#fde0ef"
                        ],
                        [
                          0.5,
                          "#f7f7f7"
                        ],
                        [
                          0.6,
                          "#e6f5d0"
                        ],
                        [
                          0.7,
                          "#b8e186"
                        ],
                        [
                          0.8,
                          "#7fbc41"
                        ],
                        [
                          0.9,
                          "#4d9221"
                        ],
                        [
                          1,
                          "#276419"
                        ]
                      ],
                      "sequential": [
                        [
                          0,
                          "#0d0887"
                        ],
                        [
                          0.1111111111111111,
                          "#46039f"
                        ],
                        [
                          0.2222222222222222,
                          "#7201a8"
                        ],
                        [
                          0.3333333333333333,
                          "#9c179e"
                        ],
                        [
                          0.4444444444444444,
                          "#bd3786"
                        ],
                        [
                          0.5555555555555556,
                          "#d8576b"
                        ],
                        [
                          0.6666666666666666,
                          "#ed7953"
                        ],
                        [
                          0.7777777777777778,
                          "#fb9f3a"
                        ],
                        [
                          0.8888888888888888,
                          "#fdca26"
                        ],
                        [
                          1,
                          "#f0f921"
                        ]
                      ],
                      "sequentialminus": [
                        [
                          0,
                          "#0d0887"
                        ],
                        [
                          0.1111111111111111,
                          "#46039f"
                        ],
                        [
                          0.2222222222222222,
                          "#7201a8"
                        ],
                        [
                          0.3333333333333333,
                          "#9c179e"
                        ],
                        [
                          0.4444444444444444,
                          "#bd3786"
                        ],
                        [
                          0.5555555555555556,
                          "#d8576b"
                        ],
                        [
                          0.6666666666666666,
                          "#ed7953"
                        ],
                        [
                          0.7777777777777778,
                          "#fb9f3a"
                        ],
                        [
                          0.8888888888888888,
                          "#fdca26"
                        ],
                        [
                          1,
                          "#f0f921"
                        ]
                      ]
                    },
                    "paper_bgcolor": "white",
                    "plot_bgcolor": "#E5ECF6",
                    "title": {
                      "x": 0.05
                    },
                    "yaxis": {
                      "automargin": true,
                      "title": {
                        "standoff": 15
                      },
                      "zerolinewidth": 2,
                      "ticks": "",
                      "zerolinecolor": "white",
                      "gridcolor": "white",
                      "linecolor": "white"
                    },
                    "hoverlabel": {
                      "align": "left"
                    },
                    "scene": {
                      "zaxis": {
                        "backgroundcolor": "#E5ECF6",
                        "ticks": "",
                        "gridwidth": 2,
                        "showbackground": true,
                        "zerolinecolor": "white",
                        "gridcolor": "white",
                        "linecolor": "white"
                      },
                      "xaxis": {
                        "backgroundcolor": "#E5ECF6",
                        "ticks": "",
                        "gridwidth": 2,
                        "showbackground": true,
                        "zerolinecolor": "white",
                        "gridcolor": "white",
                        "linecolor": "white"
                      },
                      "yaxis": {
                        "backgroundcolor": "#E5ECF6",
                        "ticks": "",
                        "gridwidth": 2,
                        "showbackground": true,
                        "zerolinecolor": "white",
                        "gridcolor": "white",
                        "linecolor": "white"
                      }
                    },
                    "annotationdefaults": {
                      "arrowwidth": 1,
                      "arrowhead": 0,
                      "arrowcolor": "#2a3f5f"
                    },
                    "autotypenumbers": "strict",
                    "ternary": {
                      "bgcolor": "#E5ECF6",
                      "baxis": {
                        "ticks": "",
                        "gridcolor": "white",
                        "linecolor": "white"
                      },
                      "caxis": {
                        "ticks": "",
                        "gridcolor": "white",
                        "linecolor": "white"
                      },
                      "aaxis": {
                        "ticks": "",
                        "gridcolor": "white",
                        "linecolor": "white"
                      }
                    },
                    "mapbox": {
                      "style": "light"
                    },
                    "hovermode": "closest",
                    "font": {
                      "color": "#2a3f5f"
                    },
                    "geo": {
                      "showland": true,
                      "landcolor": "#E5ECF6",
                      "showlakes": true,
                      "bgcolor": "white",
                      "subunitcolor": "white",
                      "lakecolor": "white"
                    },
                    "coloraxis": {
                      "colorbar": {
                        "outlinewidth": 0,
                        "ticks": ""
                      }
                    }
                  },
                  "data": {
                    "mesh3d": [
                      {
                        "colorbar": {
                          "outlinewidth": 0,
                          "ticks": ""
                        },
                        "type": "mesh3d"
                      }
                    ],
                    "scattercarpet": [
                      {
                        "marker": {
                          "colorbar": {
                            "outlinewidth": 0,
                            "ticks": ""
                          }
                        },
                        "type": "scattercarpet"
                      }
                    ],
                    "pie": [
                      {
                        "automargin": true,
                        "type": "pie"
                      }
                    ],
                    "surface": [
                      {
                        "colorbar": {
                          "outlinewidth": 0,
                          "ticks": ""
                        },
                        "type": "surface",
                        "colorscale": [
                          [
                            0,
                            "#0d0887"
                          ],
                          [
                            0.1111111111111111,
                            "#46039f"
                          ],
                          [
                            0.2222222222222222,
                            "#7201a8"
                          ],
                          [
                            0.3333333333333333,
                            "#9c179e"
                          ],
                          [
                            0.4444444444444444,
                            "#bd3786"
                          ],
                          [
                            0.5555555555555556,
                            "#d8576b"
                          ],
                          [
                            0.6666666666666666,
                            "#ed7953"
                          ],
                          [
                            0.7777777777777778,
                            "#fb9f3a"
                          ],
                          [
                            0.8888888888888888,
                            "#fdca26"
                          ],
                          [
                            1,
                            "#f0f921"
                          ]
                        ]
                      }
                    ],
                    "table": [
                      {
                        "header": {
                          "line": {
                            "color": "white"
                          },
                          "fill": {
                            "color": "#C8D4E3"
                          }
                        },
                        "cells": {
                          "line": {
                            "color": "white"
                          },
                          "fill": {
                            "color": "#EBF0F8"
                          }
                        },
                        "type": "table"
                      }
                    ],
                    "scatterpolargl": [
                      {
                        "marker": {
                          "colorbar": {
                            "outlinewidth": 0,
                            "ticks": ""
                          }
                        },
                        "type": "scatterpolargl"
                      }
                    ],
                    "contour": [
                      {
                        "colorbar": {
                          "outlinewidth": 0,
                          "ticks": ""
                        },
                        "type": "contour",
                        "colorscale": [
                          [
                            0,
                            "#0d0887"
                          ],
                          [
                            0.1111111111111111,
                            "#46039f"
                          ],
                          [
                            0.2222222222222222,
                            "#7201a8"
                          ],
                          [
                            0.3333333333333333,
                            "#9c179e"
                          ],
                          [
                            0.4444444444444444,
                            "#bd3786"
                          ],
                          [
                            0.5555555555555556,
                            "#d8576b"
                          ],
                          [
                            0.6666666666666666,
                            "#ed7953"
                          ],
                          [
                            0.7777777777777778,
                            "#fb9f3a"
                          ],
                          [
                            0.8888888888888888,
                            "#fdca26"
                          ],
                          [
                            1,
                            "#f0f921"
                          ]
                        ]
                      }
                    ],
                    "carpet": [
                      {
                        "type": "carpet",
                        "baxis": {
                          "minorgridcolor": "white",
                          "gridcolor": "white",
                          "linecolor": "white",
                          "endlinecolor": "#2a3f5f",
                          "startlinecolor": "#2a3f5f"
                        },
                        "aaxis": {
                          "minorgridcolor": "white",
                          "gridcolor": "white",
                          "linecolor": "white",
                          "endlinecolor": "#2a3f5f",
                          "startlinecolor": "#2a3f5f"
                        }
                      }
                    ],
                    "contourcarpet": [
                      {
                        "colorbar": {
                          "outlinewidth": 0,
                          "ticks": ""
                        },
                        "type": "contourcarpet"
                      }
                    ],
                    "heatmap": [
                      {
                        "colorbar": {
                          "outlinewidth": 0,
                          "ticks": ""
                        },
                        "type": "heatmap",
                        "colorscale": [
                          [
                            0,
                            "#0d0887"
                          ],
                          [
                            0.1111111111111111,
                            "#46039f"
                          ],
                          [
                            0.2222222222222222,
                            "#7201a8"
                          ],
                          [
                            0.3333333333333333,
                            "#9c179e"
                          ],
                          [
                            0.4444444444444444,
                            "#bd3786"
                          ],
                          [
                            0.5555555555555556,
                            "#d8576b"
                          ],
                          [
                            0.6666666666666666,
                            "#ed7953"
                          ],
                          [
                            0.7777777777777778,
                            "#fb9f3a"
                          ],
                          [
                            0.8888888888888888,
                            "#fdca26"
                          ],
                          [
                            1,
                            "#f0f921"
                          ]
                        ]
                      }
                    ],
                    "scattermapbox": [
                      {
                        "marker": {
                          "colorbar": {
                            "outlinewidth": 0,
                            "ticks": ""
                          }
                        },
                        "type": "scattermapbox"
                      }
                    ],
                    "scatter3d": [
                      {
                        "marker": {
                          "colorbar": {
                            "outlinewidth": 0,
                            "ticks": ""
                          }
                        },
                        "line": {
                          "colorbar": {
                            "outlinewidth": 0,
                            "ticks": ""
                          }
                        },
                        "type": "scatter3d"
                      }
                    ],
                    "scattergl": [
                      {
                        "marker": {
                          "colorbar": {
                            "outlinewidth": 0,
                            "ticks": ""
                          }
                        },
                        "type": "scattergl"
                      }
                    ],
                    "scatterternary": [
                      {
                        "marker": {
                          "colorbar": {
                            "outlinewidth": 0,
                            "ticks": ""
                          }
                        },
                        "type": "scatterternary"
                      }
                    ],
                    "histogram": [
                      {
                        "marker": {
                          "pattern": {
                            "fillmode": "overlay",
                            "solidity": 0.2,
                            "size": 10
                          }
                        },
                        "type": "histogram"
                      }
                    ],
                    "heatmapgl": [
                      {
                        "colorbar": {
                          "outlinewidth": 0,
                          "ticks": ""
                        },
                        "type": "heatmapgl",
                        "colorscale": [
                          [
                            0,
                            "#0d0887"
                          ],
                          [
                            0.1111111111111111,
                            "#46039f"
                          ],
                          [
                            0.2222222222222222,
                            "#7201a8"
                          ],
                          [
                            0.3333333333333333,
                            "#9c179e"
                          ],
                          [
                            0.4444444444444444,
                            "#bd3786"
                          ],
                          [
                            0.5555555555555556,
                            "#d8576b"
                          ],
                          [
                            0.6666666666666666,
                            "#ed7953"
                          ],
                          [
                            0.7777777777777778,
                            "#fb9f3a"
                          ],
                          [
                            0.8888888888888888,
                            "#fdca26"
                          ],
                          [
                            1,
                            "#f0f921"
                          ]
                        ]
                      }
                    ],
                    "scatterpolar": [
                      {
                        "marker": {
                          "colorbar": {
                            "outlinewidth": 0,
                            "ticks": ""
                          }
                        },
                        "type": "scatterpolar"
                      }
                    ],
                    "histogram2d": [
                      {
                        "colorbar": {
                          "outlinewidth": 0,
                          "ticks": ""
                        },
                        "type": "histogram2d",
                        "colorscale": [
                          [
                            0,
                            "#0d0887"
                          ],
                          [
                            0.1111111111111111,
                            "#46039f"
                          ],
                          [
                            0.2222222222222222,
                            "#7201a8"
                          ],
                          [
                            0.3333333333333333,
                            "#9c179e"
                          ],
                          [
                            0.4444444444444444,
                            "#bd3786"
                          ],
                          [
                            0.5555555555555556,
                            "#d8576b"
                          ],
                          [
                            0.6666666666666666,
                            "#ed7953"
                          ],
                          [
                            0.7777777777777778,
                            "#fb9f3a"
                          ],
                          [
                            0.8888888888888888,
                            "#fdca26"
                          ],
                          [
                            1,
                            "#f0f921"
                          ]
                        ]
                      }
                    ],
                    "scattergeo": [
                      {
                        "marker": {
                          "colorbar": {
                            "outlinewidth": 0,
                            "ticks": ""
                          }
                        },
                        "type": "scattergeo"
                      }
                    ],
                    "bar": [
                      {
                        "marker": {
                          "pattern": {
                            "fillmode": "overlay",
                            "solidity": 0.2,
                            "size": 10
                          },
                          "line": {
                            "color": "#E5ECF6",
                            "width": 0.5
                          }
                        },
                        "type": "bar",
                        "error_x": {
                          "color": "#2a3f5f"
                        },
                        "error_y": {
                          "color": "#2a3f5f"
                        }
                      }
                    ],
                    "choropleth": [
                      {
                        "colorbar": {
                          "outlinewidth": 0,
                          "ticks": ""
                        },
                        "type": "choropleth"
                      }
                    ],
                    "parcoords": [
                      {
                        "line": {
                          "colorbar": {
                            "outlinewidth": 0,
                            "ticks": ""
                          }
                        },
                        "type": "parcoords"
                      }
                    ],
                    "barpolar": [
                      {
                        "marker": {
                          "pattern": {
                            "fillmode": "overlay",
                            "solidity": 0.2,
                            "size": 10
                          },
                          "line": {
                            "color": "#E5ECF6",
                            "width": 0.5
                          }
                        },
                        "type": "barpolar"
                      }
                    ],
                    "histogram2dcontour": [
                      {
                        "colorbar": {
                          "outlinewidth": 0,
                          "ticks": ""
                        },
                        "type": "histogram2dcontour",
                        "colorscale": [
                          [
                            0,
                            "#0d0887"
                          ],
                          [
                            0.1111111111111111,
                            "#46039f"
                          ],
                          [
                            0.2222222222222222,
                            "#7201a8"
                          ],
                          [
                            0.3333333333333333,
                            "#9c179e"
                          ],
                          [
                            0.4444444444444444,
                            "#bd3786"
                          ],
                          [
                            0.5555555555555556,
                            "#d8576b"
                          ],
                          [
                            0.6666666666666666,
                            "#ed7953"
                          ],
                          [
                            0.7777777777777778,
                            "#fb9f3a"
                          ],
                          [
                            0.8888888888888888,
                            "#fdca26"
                          ],
                          [
                            1,
                            "#f0f921"
                          ]
                        ]
                      }
                    ],
                    "scatter": [
                      {
                        "marker": {
                          "colorbar": {
                            "outlinewidth": 0,
                            "ticks": ""
                          }
                        },
                        "type": "scatter"
                      }
                    ]
                  }
                },
                "xaxis": {
                  "ticktext": [
                    "10M",
                    "5M",
                    "0",
                    "5M",
                    "10M"
                  ],
                  "tickvals": [
                    -10000000,
                    -5000000,
                    0,
                    5000000,
                    10000000
                  ],
                  "title": {
                    "text": "Number"
                  }
                },
                "yaxis": {
                  "range": [
                    0,
                    90
                  ],
                  "title": {
                    "text": "Age"
                  }
                }
              },
              "config": {
                "plotlyServerURL": "https://plot.ly"
              },
              "data": [
                {
                  "orientation": "h",
                  "y": [
                    1,
                    6,
                    11,
                    16,
                    21,
                    26,
                    31,
                    36,
                    41,
                    46,
                    51,
                    56,
                    61,
                    66,
                    71,
                    76,
                    81
                  ],
                  "hoverinfo": "skip",
                  "marker": {
                    "color": "blue"
                  },
                  "x": [
                    9996862,
                    5125216,
                    10347964,
                    10781682,
                    10812989,
                    11398033,
                    12077266,
                    11486356,
                    10648938,
                    10017138,
                    10007483,
                    10447798,
                    10730282,
                    9890799,
                    8243728,
                    6342514,
                    4107578
                  ],
                  "type": "bar",
                  "name": "Men"
                },
                {
                  "orientation": "h",
                  "y": [
                    1,
                    6,
                    11,
                    16,
                    21,
                    26,
                    31,
                    36,
                    41,
                    46,
                    51,
                    56,
                    61,
                    66,
                    71,
                    76,
                    81
                  ],
                  "hoverinfo": "skip",
                  "marker": {
                    "color": "orange"
                  },
                  "x": [
                    -9563448,
                    -7761346,
                    -9894472,
                    -10318554,
                    -10390150,
                    -10987824,
                    -11612802,
                    -11166357,
                    -10580188,
                    -10089427,
                    -10084408,
                    -10372061,
                    -10912492,
                    -10493224,
                    -9132820,
                    -7385613,
                    -5122137
                  ],
                  "type": "bar",
                  "name": "Women"
                }
              ]
            }
          },
          "metadata": {}
        }
      ],
      "source": [
        "#testing part B\n",
        "pyramid(test.loc[0,:])"
      ]
    },
    {
      "cell_type": "code",
      "source": [
        "#formatting our test dataframe to run \n",
        "test['date'] = test['date'].astype(str)\n",
        "test = test.set_index('date')"
      ],
      "metadata": {
        "id": "xYKiBgbla-Vj"
      },
      "execution_count": null,
      "outputs": []
    },
    {
      "cell_type": "code",
      "source": [
        "#setting up a test for animated pyramids and to show Georgia stuff\n",
        "georgia = Groups_of_People(['GEO'],[1961,2020])\n",
        "georgia = georgia.reset_index()\n",
        "georgia['date'] = georgia['date'].astype(str)\n",
        "georgia = georgia.set_index('date')\n",
        "georgia = georgia.drop(columns = ['country'])"
      ],
      "metadata": {
        "colab": {
          "base_uri": "https://localhost:8080/",
          "height": 234
        },
        "id": "_nPtEd1WvacX",
        "outputId": "fb1f080c-381f-43c5-e307-f820619736d2"
      },
      "execution_count": null,
      "outputs": [
        {
          "output_type": "error",
          "ename": "NameError",
          "evalue": "ignored",
          "traceback": [
            "\u001b[0;31m---------------------------------------------------------------------------\u001b[0m",
            "\u001b[0;31mNameError\u001b[0m                                 Traceback (most recent call last)",
            "\u001b[0;32m<ipython-input-1-52a145d6acad>\u001b[0m in \u001b[0;36m<module>\u001b[0;34m()\u001b[0m\n\u001b[1;32m      1\u001b[0m \u001b[0;34m\u001b[0m\u001b[0m\n\u001b[0;32m----> 2\u001b[0;31m \u001b[0mgeorgia\u001b[0m \u001b[0;34m=\u001b[0m \u001b[0mGroups_of_People\u001b[0m\u001b[0;34m(\u001b[0m\u001b[0;34m[\u001b[0m\u001b[0;34m'GEO'\u001b[0m\u001b[0;34m]\u001b[0m\u001b[0;34m,\u001b[0m\u001b[0;34m[\u001b[0m\u001b[0;36m1961\u001b[0m\u001b[0;34m,\u001b[0m\u001b[0;36m2020\u001b[0m\u001b[0;34m]\u001b[0m\u001b[0;34m)\u001b[0m\u001b[0;34m\u001b[0m\u001b[0;34m\u001b[0m\u001b[0m\n\u001b[0m\u001b[1;32m      3\u001b[0m \u001b[0mgeorgia\u001b[0m \u001b[0;34m=\u001b[0m \u001b[0mgeorgia\u001b[0m\u001b[0;34m.\u001b[0m\u001b[0mreset_index\u001b[0m\u001b[0;34m(\u001b[0m\u001b[0;34m)\u001b[0m\u001b[0;34m\u001b[0m\u001b[0;34m\u001b[0m\u001b[0m\n\u001b[1;32m      4\u001b[0m \u001b[0mgeorgia\u001b[0m\u001b[0;34m[\u001b[0m\u001b[0;34m'date'\u001b[0m\u001b[0;34m]\u001b[0m \u001b[0;34m=\u001b[0m \u001b[0mgeorgia\u001b[0m\u001b[0;34m[\u001b[0m\u001b[0;34m'date'\u001b[0m\u001b[0;34m]\u001b[0m\u001b[0;34m.\u001b[0m\u001b[0mastype\u001b[0m\u001b[0;34m(\u001b[0m\u001b[0mstr\u001b[0m\u001b[0;34m)\u001b[0m\u001b[0;34m\u001b[0m\u001b[0;34m\u001b[0m\u001b[0m\n\u001b[1;32m      5\u001b[0m \u001b[0mgeorgia\u001b[0m \u001b[0;34m=\u001b[0m \u001b[0mgeorgia\u001b[0m\u001b[0;34m.\u001b[0m\u001b[0mset_index\u001b[0m\u001b[0;34m(\u001b[0m\u001b[0;34m'date'\u001b[0m\u001b[0;34m)\u001b[0m\u001b[0;34m\u001b[0m\u001b[0;34m\u001b[0m\u001b[0m\n",
            "\u001b[0;31mNameError\u001b[0m: name 'Groups_of_People' is not defined"
          ]
        }
      ]
    },
    {
      "cell_type": "code",
      "execution_count": null,
      "metadata": {
        "id": "33aL2S0yt1Kb"
      },
      "outputs": [],
      "source": [
        "# C animated pyramid\n",
        "#animated pyramid Part C Deliverable\n",
        "#df fed into animated pyramid must be indexed by date and columns must be different age/sex ranges\n",
        "#need to make the year range the range of years in the dataset manually\n",
        "#the date column must be a string type, not an int or float\n",
        "def animated_pyramid(df):\n",
        "    def pyramid_builder(year):\n",
        "        py.init_notebook_mode(connected=True)\n",
        "        layout = go.Layout(barmode='overlay',\n",
        "                   yaxis=go.layout.YAxis(range=[0, 90], title='Age'),\n",
        "                   xaxis=go.layout.XAxis(title='Number'))\n",
        "        bins = [go.Bar(x = df.loc[str(year),:].filter(regex=\"Male\").values,\n",
        "               y = [int(s[:2])+1 for s in age_ranges],\n",
        "               orientation='h',\n",
        "               name='Men',\n",
        "               marker=dict(color='blue'),\n",
        "               hoverinfo='skip'\n",
        "               ),\n",
        "        go.Bar(x = -df.loc[str(year),:].filter(regex=\"Female\").values,\n",
        "               y=[int(s[:2])+1 for s in age_ranges],\n",
        "               orientation='h',\n",
        "               name='Women',\n",
        "               marker=dict(color='orange'),\n",
        "               hoverinfo='skip',\n",
        "               )\n",
        "        ]\n",
        "        fig = go.Figure(dict(data = bins, layout = layout))\n",
        "        fig.update_xaxes(tickvals = [-150000,-100000,50000,0,50000,100000,150000])\n",
        "        fig.update_xaxes(ticktext = ['150K','100K','50K','0','50K','100K','150K'])\n",
        "        fig.show()\n",
        "        #py.iplot(dict(data=bins, layout=layout))\n",
        "    ipywidgets.interact(pyramid_builder, year=(1961, 2020, 1))"
      ]
    },
    {
      "cell_type": "code",
      "execution_count": null,
      "metadata": {
        "colab": {
          "base_uri": "https://localhost:8080/",
          "height": 645,
          "referenced_widgets": [
            "2a77c6388ded4a1faa377bdad971862e",
            "b9cb19fa1d4c4bc58c6f414ca3fb21e3",
            "e6e26cd264ea4d01aea6855b0f561575",
            "6759aa6191434aac9c63d29be9a81dac",
            "4bc8391bdfce4172b467a54a294f970c",
            "930eb722e23a4309a1668e4491b1a2ee",
            "56648650cc2b40deb7bcf94f782622ed"
          ]
        },
        "id": "EooVArpMfJQ-",
        "outputId": "c48db374-0944-46a5-ef3e-6f403df64489"
      },
      "outputs": [
        {
          "output_type": "display_data",
          "data": {
            "application/vnd.jupyter.widget-view+json": {
              "model_id": "2a77c6388ded4a1faa377bdad971862e",
              "version_minor": 0,
              "version_major": 2
            },
            "text/plain": [
              "interactive(children=(IntSlider(value=1989, description='year', max=2018, min=1961), Output()), _dom_classes=(…"
            ]
          },
          "metadata": {}
        }
      ],
      "source": [
        "#importing package to make a slider\n",
        "#year range must be within the range of our dataframe, set in the cell above\n",
        "import ipywidgets\n",
        "from ipywidgets import interactive, HBox, VBox\n",
        "animated_pyramid(georgia)"
      ]
    },
    {
      "cell_type": "code",
      "execution_count": null,
      "metadata": {
        "colab": {
          "base_uri": "https://localhost:8080/",
          "height": 1000
        },
        "id": "bAb-0DHrkAGX",
        "outputId": "f0deda71-752e-41a6-fe88-ae643882ba38"
      },
      "outputs": [
        {
          "output_type": "stream",
          "name": "stdout",
          "text": [
            "Requirement already satisfied: geopandas in /usr/local/lib/python3.7/dist-packages (0.10.2)\n",
            "Requirement already satisfied: shapely>=1.6 in /usr/local/lib/python3.7/dist-packages (from geopandas) (1.8.0)\n",
            "Requirement already satisfied: fiona>=1.8 in /usr/local/lib/python3.7/dist-packages (from geopandas) (1.8.21)\n",
            "Requirement already satisfied: pandas>=0.25.0 in /usr/local/lib/python3.7/dist-packages (from geopandas) (1.3.5)\n",
            "Requirement already satisfied: pyproj>=2.2.0 in /usr/local/lib/python3.7/dist-packages (from geopandas) (3.2.1)\n",
            "Requirement already satisfied: munch in /usr/local/lib/python3.7/dist-packages (from fiona>=1.8->geopandas) (2.5.0)\n",
            "Requirement already satisfied: click-plugins>=1.0 in /usr/local/lib/python3.7/dist-packages (from fiona>=1.8->geopandas) (1.1.1)\n",
            "Requirement already satisfied: click>=4.0 in /usr/local/lib/python3.7/dist-packages (from fiona>=1.8->geopandas) (7.1.2)\n",
            "Requirement already satisfied: certifi in /usr/local/lib/python3.7/dist-packages (from fiona>=1.8->geopandas) (2021.10.8)\n",
            "Requirement already satisfied: attrs>=17 in /usr/local/lib/python3.7/dist-packages (from fiona>=1.8->geopandas) (21.4.0)\n",
            "Requirement already satisfied: cligj>=0.5 in /usr/local/lib/python3.7/dist-packages (from fiona>=1.8->geopandas) (0.7.2)\n",
            "Requirement already satisfied: six>=1.7 in /usr/local/lib/python3.7/dist-packages (from fiona>=1.8->geopandas) (1.15.0)\n",
            "Requirement already satisfied: setuptools in /usr/local/lib/python3.7/dist-packages (from fiona>=1.8->geopandas) (57.4.0)\n",
            "Requirement already satisfied: numpy>=1.17.3 in /usr/local/lib/python3.7/dist-packages (from pandas>=0.25.0->geopandas) (1.19.5)\n",
            "Requirement already satisfied: pytz>=2017.3 in /usr/local/lib/python3.7/dist-packages (from pandas>=0.25.0->geopandas) (2018.9)\n",
            "Requirement already satisfied: python-dateutil>=2.7.3 in /usr/local/lib/python3.7/dist-packages (from pandas>=0.25.0->geopandas) (2.8.2)\n",
            "Requirement already satisfied: wbdata in /usr/local/lib/python3.7/dist-packages (0.3.0)\n",
            "Requirement already satisfied: requests>=2.0 in /usr/local/lib/python3.7/dist-packages (from wbdata) (2.23.0)\n",
            "Requirement already satisfied: decorator>=4.0 in /usr/local/lib/python3.7/dist-packages (from wbdata) (4.4.2)\n",
            "Requirement already satisfied: appdirs<2.0,>=1.4 in /usr/local/lib/python3.7/dist-packages (from wbdata) (1.4.4)\n",
            "Requirement already satisfied: tabulate>=0.8.5 in /usr/local/lib/python3.7/dist-packages (from wbdata) (0.8.9)\n",
            "Requirement already satisfied: urllib3!=1.25.0,!=1.25.1,<1.26,>=1.21.1 in /usr/local/lib/python3.7/dist-packages (from requests>=2.0->wbdata) (1.24.3)\n",
            "Requirement already satisfied: certifi>=2017.4.17 in /usr/local/lib/python3.7/dist-packages (from requests>=2.0->wbdata) (2021.10.8)\n",
            "Requirement already satisfied: chardet<4,>=3.0.2 in /usr/local/lib/python3.7/dist-packages (from requests>=2.0->wbdata) (3.0.4)\n",
            "Requirement already satisfied: idna<3,>=2.5 in /usr/local/lib/python3.7/dist-packages (from requests>=2.0->wbdata) (2.10)\n",
            "Requirement already satisfied: cufflinks in /usr/local/lib/python3.7/dist-packages (0.17.3)\n",
            "Requirement already satisfied: numpy>=1.9.2 in /usr/local/lib/python3.7/dist-packages (from cufflinks) (1.19.5)\n",
            "Requirement already satisfied: ipywidgets>=7.0.0 in /usr/local/lib/python3.7/dist-packages (from cufflinks) (7.6.5)\n",
            "Requirement already satisfied: six>=1.9.0 in /usr/local/lib/python3.7/dist-packages (from cufflinks) (1.15.0)\n",
            "Requirement already satisfied: colorlover>=0.2.1 in /usr/local/lib/python3.7/dist-packages (from cufflinks) (0.3.0)\n",
            "Requirement already satisfied: ipython>=5.3.0 in /usr/local/lib/python3.7/dist-packages (from cufflinks) (5.5.0)\n",
            "Requirement already satisfied: setuptools>=34.4.1 in /usr/local/lib/python3.7/dist-packages (from cufflinks) (57.4.0)\n",
            "Requirement already satisfied: pandas>=0.19.2 in /usr/local/lib/python3.7/dist-packages (from cufflinks) (1.3.5)\n",
            "Requirement already satisfied: plotly>=4.1.1 in /usr/local/lib/python3.7/dist-packages (from cufflinks) (5.5.0)\n",
            "Requirement already satisfied: simplegeneric>0.8 in /usr/local/lib/python3.7/dist-packages (from ipython>=5.3.0->cufflinks) (0.8.1)\n",
            "Requirement already satisfied: traitlets>=4.2 in /usr/local/lib/python3.7/dist-packages (from ipython>=5.3.0->cufflinks) (5.1.1)\n",
            "Requirement already satisfied: pickleshare in /usr/local/lib/python3.7/dist-packages (from ipython>=5.3.0->cufflinks) (0.7.5)\n",
            "Requirement already satisfied: decorator in /usr/local/lib/python3.7/dist-packages (from ipython>=5.3.0->cufflinks) (4.4.2)\n",
            "Requirement already satisfied: pygments in /usr/local/lib/python3.7/dist-packages (from ipython>=5.3.0->cufflinks) (2.6.1)\n",
            "Requirement already satisfied: pexpect in /usr/local/lib/python3.7/dist-packages (from ipython>=5.3.0->cufflinks) (4.8.0)\n",
            "Requirement already satisfied: prompt-toolkit<2.0.0,>=1.0.4 in /usr/local/lib/python3.7/dist-packages (from ipython>=5.3.0->cufflinks) (1.0.18)\n",
            "Requirement already satisfied: jupyterlab-widgets>=1.0.0 in /usr/local/lib/python3.7/dist-packages (from ipywidgets>=7.0.0->cufflinks) (1.0.2)\n",
            "Requirement already satisfied: nbformat>=4.2.0 in /usr/local/lib/python3.7/dist-packages (from ipywidgets>=7.0.0->cufflinks) (5.1.3)\n",
            "Requirement already satisfied: widgetsnbextension~=3.5.0 in /usr/local/lib/python3.7/dist-packages (from ipywidgets>=7.0.0->cufflinks) (3.5.2)\n",
            "Requirement already satisfied: ipython-genutils~=0.2.0 in /usr/local/lib/python3.7/dist-packages (from ipywidgets>=7.0.0->cufflinks) (0.2.0)\n",
            "Requirement already satisfied: ipykernel>=4.5.1 in /usr/local/lib/python3.7/dist-packages (from ipywidgets>=7.0.0->cufflinks) (4.10.1)\n",
            "Requirement already satisfied: jupyter-client in /usr/local/lib/python3.7/dist-packages (from ipykernel>=4.5.1->ipywidgets>=7.0.0->cufflinks) (5.3.5)\n",
            "Requirement already satisfied: tornado>=4.0 in /usr/local/lib/python3.7/dist-packages (from ipykernel>=4.5.1->ipywidgets>=7.0.0->cufflinks) (5.1.1)\n",
            "Requirement already satisfied: jsonschema!=2.5.0,>=2.4 in /usr/local/lib/python3.7/dist-packages (from nbformat>=4.2.0->ipywidgets>=7.0.0->cufflinks) (4.3.3)\n",
            "Requirement already satisfied: jupyter-core in /usr/local/lib/python3.7/dist-packages (from nbformat>=4.2.0->ipywidgets>=7.0.0->cufflinks) (4.9.1)\n",
            "Requirement already satisfied: importlib-metadata in /usr/local/lib/python3.7/dist-packages (from jsonschema!=2.5.0,>=2.4->nbformat>=4.2.0->ipywidgets>=7.0.0->cufflinks) (4.10.1)\n",
            "Requirement already satisfied: typing-extensions in /usr/local/lib/python3.7/dist-packages (from jsonschema!=2.5.0,>=2.4->nbformat>=4.2.0->ipywidgets>=7.0.0->cufflinks) (3.10.0.2)\n",
            "Requirement already satisfied: importlib-resources>=1.4.0 in /usr/local/lib/python3.7/dist-packages (from jsonschema!=2.5.0,>=2.4->nbformat>=4.2.0->ipywidgets>=7.0.0->cufflinks) (5.4.0)\n",
            "Requirement already satisfied: pyrsistent!=0.17.0,!=0.17.1,!=0.17.2,>=0.14.0 in /usr/local/lib/python3.7/dist-packages (from jsonschema!=2.5.0,>=2.4->nbformat>=4.2.0->ipywidgets>=7.0.0->cufflinks) (0.18.1)\n",
            "Requirement already satisfied: attrs>=17.4.0 in /usr/local/lib/python3.7/dist-packages (from jsonschema!=2.5.0,>=2.4->nbformat>=4.2.0->ipywidgets>=7.0.0->cufflinks) (21.4.0)\n",
            "Requirement already satisfied: zipp>=3.1.0 in /usr/local/lib/python3.7/dist-packages (from importlib-resources>=1.4.0->jsonschema!=2.5.0,>=2.4->nbformat>=4.2.0->ipywidgets>=7.0.0->cufflinks) (3.7.0)\n",
            "Requirement already satisfied: pytz>=2017.3 in /usr/local/lib/python3.7/dist-packages (from pandas>=0.19.2->cufflinks) (2018.9)\n",
            "Requirement already satisfied: python-dateutil>=2.7.3 in /usr/local/lib/python3.7/dist-packages (from pandas>=0.19.2->cufflinks) (2.8.2)\n",
            "Requirement already satisfied: tenacity>=6.2.0 in /usr/local/lib/python3.7/dist-packages (from plotly>=4.1.1->cufflinks) (8.0.1)\n",
            "Requirement already satisfied: wcwidth in /usr/local/lib/python3.7/dist-packages (from prompt-toolkit<2.0.0,>=1.0.4->ipython>=5.3.0->cufflinks) (0.2.5)\n",
            "Requirement already satisfied: notebook>=4.4.1 in /usr/local/lib/python3.7/dist-packages (from widgetsnbextension~=3.5.0->ipywidgets>=7.0.0->cufflinks) (5.3.1)\n",
            "Requirement already satisfied: jinja2 in /usr/local/lib/python3.7/dist-packages (from notebook>=4.4.1->widgetsnbextension~=3.5.0->ipywidgets>=7.0.0->cufflinks) (2.11.3)\n",
            "Requirement already satisfied: terminado>=0.8.1 in /usr/local/lib/python3.7/dist-packages (from notebook>=4.4.1->widgetsnbextension~=3.5.0->ipywidgets>=7.0.0->cufflinks) (0.13.1)\n",
            "Requirement already satisfied: nbconvert in /usr/local/lib/python3.7/dist-packages (from notebook>=4.4.1->widgetsnbextension~=3.5.0->ipywidgets>=7.0.0->cufflinks) (5.6.1)\n",
            "Requirement already satisfied: Send2Trash in /usr/local/lib/python3.7/dist-packages (from notebook>=4.4.1->widgetsnbextension~=3.5.0->ipywidgets>=7.0.0->cufflinks) (1.8.0)\n",
            "Requirement already satisfied: pyzmq>=13 in /usr/local/lib/python3.7/dist-packages (from jupyter-client->ipykernel>=4.5.1->ipywidgets>=7.0.0->cufflinks) (22.3.0)\n",
            "Requirement already satisfied: ptyprocess in /usr/local/lib/python3.7/dist-packages (from terminado>=0.8.1->notebook>=4.4.1->widgetsnbextension~=3.5.0->ipywidgets>=7.0.0->cufflinks) (0.7.0)\n",
            "Requirement already satisfied: MarkupSafe>=0.23 in /usr/local/lib/python3.7/dist-packages (from jinja2->notebook>=4.4.1->widgetsnbextension~=3.5.0->ipywidgets>=7.0.0->cufflinks) (2.0.1)\n",
            "Requirement already satisfied: testpath in /usr/local/lib/python3.7/dist-packages (from nbconvert->notebook>=4.4.1->widgetsnbextension~=3.5.0->ipywidgets>=7.0.0->cufflinks) (0.5.0)\n",
            "Requirement already satisfied: defusedxml in /usr/local/lib/python3.7/dist-packages (from nbconvert->notebook>=4.4.1->widgetsnbextension~=3.5.0->ipywidgets>=7.0.0->cufflinks) (0.7.1)\n",
            "Requirement already satisfied: entrypoints>=0.2.2 in /usr/local/lib/python3.7/dist-packages (from nbconvert->notebook>=4.4.1->widgetsnbextension~=3.5.0->ipywidgets>=7.0.0->cufflinks) (0.4)\n",
            "Requirement already satisfied: mistune<2,>=0.8.1 in /usr/local/lib/python3.7/dist-packages (from nbconvert->notebook>=4.4.1->widgetsnbextension~=3.5.0->ipywidgets>=7.0.0->cufflinks) (0.8.4)\n",
            "Requirement already satisfied: bleach in /usr/local/lib/python3.7/dist-packages (from nbconvert->notebook>=4.4.1->widgetsnbextension~=3.5.0->ipywidgets>=7.0.0->cufflinks) (4.1.0)\n",
            "Requirement already satisfied: pandocfilters>=1.4.1 in /usr/local/lib/python3.7/dist-packages (from nbconvert->notebook>=4.4.1->widgetsnbextension~=3.5.0->ipywidgets>=7.0.0->cufflinks) (1.5.0)\n",
            "Requirement already satisfied: packaging in /usr/local/lib/python3.7/dist-packages (from bleach->nbconvert->notebook>=4.4.1->widgetsnbextension~=3.5.0->ipywidgets>=7.0.0->cufflinks) (21.3)\n",
            "Requirement already satisfied: webencodings in /usr/local/lib/python3.7/dist-packages (from bleach->nbconvert->notebook>=4.4.1->widgetsnbextension~=3.5.0->ipywidgets>=7.0.0->cufflinks) (0.5.1)\n",
            "Requirement already satisfied: pyparsing!=3.0.5,>=2.0.2 in /usr/local/lib/python3.7/dist-packages (from packaging->bleach->nbconvert->notebook>=4.4.1->widgetsnbextension~=3.5.0->ipywidgets>=7.0.0->cufflinks) (3.0.7)\n",
            "Requirement already satisfied: iso3166 in /usr/local/lib/python3.7/dist-packages (2.0.2)\n"
          ]
        },
        {
          "output_type": "display_data",
          "data": {
            "text/html": [
              "        <script type=\"text/javascript\">\n",
              "        window.PlotlyConfig = {MathJaxConfig: 'local'};\n",
              "        if (window.MathJax) {MathJax.Hub.Config({SVG: {font: \"STIX-Web\"}});}\n",
              "        if (typeof require !== 'undefined') {\n",
              "        require.undef(\"plotly\");\n",
              "        requirejs.config({\n",
              "            paths: {\n",
              "                'plotly': ['https://cdn.plot.ly/plotly-2.8.3.min']\n",
              "            }\n",
              "        });\n",
              "        require(['plotly'], function(Plotly) {\n",
              "            window._Plotly = Plotly;\n",
              "        });\n",
              "        }\n",
              "        </script>\n",
              "        "
            ]
          },
          "metadata": {}
        }
      ],
      "source": [
        "#Deliverable C (Population Maps) (Possibly Delete)\n",
        "!pip install geopandas\n",
        "!pip install wbdata\n",
        "!pip install cufflinks\n",
        "!pip install iso3166\n",
        "\n",
        "import iso3166 #iso3166.countries.get('country details')\n",
        "import wbdata\n",
        "import cufflinks as cf\n",
        "import pandas as pd\n",
        "import numpy as np\n",
        "import plotly\n",
        "import matplotlib.pyplot as plt\n",
        "import seaborn as sns\n",
        "cf.go_offline()\n",
        "import geopandas"
      ]
    },
    {
      "cell_type": "code",
      "source": [
        "#A function that draws a geopanda graph, accepting a query_dictionary, the year and the title as arguments\n",
        "#countries_ussr = ['Armenia', 'Azerbaijan', 'Belarus', 'Estonia', 'Georgia', 'Kazakhstan', 'Kyrgyz Republic', 'Latvia', 'Lithuania', 'Moldova', 'Russia', 'Tajikistan', 'Turkmenistan', 'Ukraine', 'Uzbekistan']\n",
        "#countries_iso3166 = ['ARM', 'AZE', 'BLR', 'EST', 'GEO','KAZ', 'KGZ', 'LVA', 'LTU', 'MDA', 'RUS', 'TJK', 'TKM', 'UKR', 'UZB' ]\n",
        "\n",
        "#countries: Armenia', 'Azerbaijan', 'Belarus', 'Estonia', 'Georgia', 'Kazakhstan', 'Kyrgyz Republic', 'Latvia', 'Lithuania', 'Moldova', 'Russia', 'Tajikistan', 'Turkmenistan', 'Ukraine', 'Uzbekistan'\n",
        "\n",
        "def geopand_ussr(indi_dict, year, title):\n",
        "    countries_ussr = ['Armenia', 'Azerbaijan', 'Belarus', 'Estonia', 'Georgia','Kyrgyzstan', 'Kazakhstan', 'Latvia', 'Lithuania', 'Moldova', 'Russia','Tajikistan', 'Turkmenistan', 'Ukraine', 'Uzbekistan']\n",
        "    countries_iso3166 = ['ARM', 'AZE', 'BLR', 'EST', 'GEO','KAZ', 'KGZ', 'LVA', 'LTU', 'MDA', 'RUS','TJK', 'TKM', 'UKR', 'UZB']\n",
        "    \n",
        "    df = wbdata.get_dataframe(indicators=indi_dict, country=countries_iso3166)\n",
        "    df.reset_index(inplace=True)\n",
        "    df['date'] = df['date'].astype(int)\n",
        "    df = df[df['date'] == year]\n",
        "    df = df.sort_values(by=['country'])\n",
        "\n",
        "    world = geopandas.read_file(geopandas.datasets.get_path('naturalearth_lowres'))\n",
        "    world = world[world['name'].isin(countries_ussr)]\n",
        "    world = world.sort_values(by=['name'])\n",
        "    world['data_column'] = df['data_column'].values\n",
        "\n",
        "    graph = world.plot('data_column', cmap='Spectral', figsize=(20,20), legend=True, legend_kwds={'shrink': 0.75}, aspect= 'auto', edgecolor= 'black')\n",
        "    \n",
        "    graph.set_xlim(right = 185)\n",
        "    graph.set_xlim(left = -1)\n",
        "    \n",
        "    graph.set_title(title, size=22, pad=20);\n",
        "\n",
        "    world.apply(lambda x: graph.annotate(text=x['name'], xy=x.geometry.centroid.coords[0], \n",
        "                                         ha='center'),axis=1);\n",
        "    \n"
      ],
      "metadata": {
        "id": "uF_JAY_2cBju"
      },
      "execution_count": null,
      "outputs": []
    },
    {
      "cell_type": "code",
      "source": [
        "#indicator for year 1991: GDP per capita growth (annual %)\n",
        "#note that the Baltic countries did not have data between period 1991-1994\n",
        "indi_dict = {'NY.GDP.PCAP.KD.ZG': 'data_column'}\n",
        "geopand_ussr(indi_dict, 1991, 'GDP per capita growth 1991 (%)')"
      ],
      "metadata": {
        "colab": {
          "base_uri": "https://localhost:8080/",
          "height": 883
        },
        "id": "S8WWBCGkcIbI",
        "outputId": "6fccd469-2878-42b7-9c31-9f03d10f6f0d"
      },
      "execution_count": null,
      "outputs": [
        {
          "output_type": "error",
          "ename": "TypeError",
          "evalue": "ignored",
          "traceback": [
            "\u001b[0;31m---------------------------------------------------------------------------\u001b[0m",
            "\u001b[0;31mTypeError\u001b[0m                                 Traceback (most recent call last)",
            "\u001b[0;32m<ipython-input-15-af95a146f9b4>\u001b[0m in \u001b[0;36m<module>\u001b[0;34m()\u001b[0m\n\u001b[1;32m      2\u001b[0m \u001b[0;31m#note that the Baltic countries did not have data between period 1991-1994\u001b[0m\u001b[0;34m\u001b[0m\u001b[0;34m\u001b[0m\u001b[0;34m\u001b[0m\u001b[0m\n\u001b[1;32m      3\u001b[0m \u001b[0mindi_dict\u001b[0m \u001b[0;34m=\u001b[0m \u001b[0;34m{\u001b[0m\u001b[0;34m'NY.GDP.PCAP.KD.ZG'\u001b[0m\u001b[0;34m:\u001b[0m \u001b[0;34m'data_column'\u001b[0m\u001b[0;34m}\u001b[0m\u001b[0;34m\u001b[0m\u001b[0;34m\u001b[0m\u001b[0m\n\u001b[0;32m----> 4\u001b[0;31m \u001b[0mgeopand_ussr\u001b[0m\u001b[0;34m(\u001b[0m\u001b[0mindi_dict\u001b[0m\u001b[0;34m,\u001b[0m \u001b[0;36m1991\u001b[0m\u001b[0;34m,\u001b[0m \u001b[0;34m'GDP per capita growth 1991 (%)'\u001b[0m\u001b[0;34m)\u001b[0m\u001b[0;34m\u001b[0m\u001b[0;34m\u001b[0m\u001b[0m\n\u001b[0m",
            "\u001b[0;32m<ipython-input-14-2abf81c3954f>\u001b[0m in \u001b[0;36mgeopand_ussr\u001b[0;34m(indi_dict, year, title)\u001b[0m\n\u001b[1;32m     28\u001b[0m \u001b[0;34m\u001b[0m\u001b[0m\n\u001b[1;32m     29\u001b[0m     world.apply(lambda x: graph.annotate(text=x['name'], xy=x.geometry.centroid.coords[0], \n\u001b[0;32m---> 30\u001b[0;31m                                          ha='center'),axis=1);\n\u001b[0m\u001b[1;32m     31\u001b[0m \u001b[0;34m\u001b[0m\u001b[0m\n",
            "\u001b[0;32m/usr/local/lib/python3.7/dist-packages/geopandas/geodataframe.py\u001b[0m in \u001b[0;36mapply\u001b[0;34m(self, func, axis, raw, result_type, args, **kwargs)\u001b[0m\n\u001b[1;32m   1389\u001b[0m     \u001b[0;32mdef\u001b[0m \u001b[0mapply\u001b[0m\u001b[0;34m(\u001b[0m\u001b[0mself\u001b[0m\u001b[0;34m,\u001b[0m \u001b[0mfunc\u001b[0m\u001b[0;34m,\u001b[0m \u001b[0maxis\u001b[0m\u001b[0;34m=\u001b[0m\u001b[0;36m0\u001b[0m\u001b[0;34m,\u001b[0m \u001b[0mraw\u001b[0m\u001b[0;34m=\u001b[0m\u001b[0;32mFalse\u001b[0m\u001b[0;34m,\u001b[0m \u001b[0mresult_type\u001b[0m\u001b[0;34m=\u001b[0m\u001b[0;32mNone\u001b[0m\u001b[0;34m,\u001b[0m \u001b[0margs\u001b[0m\u001b[0;34m=\u001b[0m\u001b[0;34m(\u001b[0m\u001b[0;34m)\u001b[0m\u001b[0;34m,\u001b[0m \u001b[0;34m**\u001b[0m\u001b[0mkwargs\u001b[0m\u001b[0;34m)\u001b[0m\u001b[0;34m:\u001b[0m\u001b[0;34m\u001b[0m\u001b[0;34m\u001b[0m\u001b[0m\n\u001b[1;32m   1390\u001b[0m         result = super().apply(\n\u001b[0;32m-> 1391\u001b[0;31m             \u001b[0mfunc\u001b[0m\u001b[0;34m,\u001b[0m \u001b[0maxis\u001b[0m\u001b[0;34m=\u001b[0m\u001b[0maxis\u001b[0m\u001b[0;34m,\u001b[0m \u001b[0mraw\u001b[0m\u001b[0;34m=\u001b[0m\u001b[0mraw\u001b[0m\u001b[0;34m,\u001b[0m \u001b[0mresult_type\u001b[0m\u001b[0;34m=\u001b[0m\u001b[0mresult_type\u001b[0m\u001b[0;34m,\u001b[0m \u001b[0margs\u001b[0m\u001b[0;34m=\u001b[0m\u001b[0margs\u001b[0m\u001b[0;34m,\u001b[0m \u001b[0;34m**\u001b[0m\u001b[0mkwargs\u001b[0m\u001b[0;34m\u001b[0m\u001b[0;34m\u001b[0m\u001b[0m\n\u001b[0m\u001b[1;32m   1392\u001b[0m         )\n\u001b[1;32m   1393\u001b[0m         if (\n",
            "\u001b[0;32m/usr/local/lib/python3.7/dist-packages/pandas/core/frame.py\u001b[0m in \u001b[0;36mapply\u001b[0;34m(self, func, axis, raw, result_type, args, **kwargs)\u001b[0m\n\u001b[1;32m   8738\u001b[0m             \u001b[0mkwargs\u001b[0m\u001b[0;34m=\u001b[0m\u001b[0mkwargs\u001b[0m\u001b[0;34m,\u001b[0m\u001b[0;34m\u001b[0m\u001b[0;34m\u001b[0m\u001b[0m\n\u001b[1;32m   8739\u001b[0m         )\n\u001b[0;32m-> 8740\u001b[0;31m         \u001b[0;32mreturn\u001b[0m \u001b[0mop\u001b[0m\u001b[0;34m.\u001b[0m\u001b[0mapply\u001b[0m\u001b[0;34m(\u001b[0m\u001b[0;34m)\u001b[0m\u001b[0;34m\u001b[0m\u001b[0;34m\u001b[0m\u001b[0m\n\u001b[0m\u001b[1;32m   8741\u001b[0m \u001b[0;34m\u001b[0m\u001b[0m\n\u001b[1;32m   8742\u001b[0m     def applymap(\n",
            "\u001b[0;32m/usr/local/lib/python3.7/dist-packages/pandas/core/apply.py\u001b[0m in \u001b[0;36mapply\u001b[0;34m(self)\u001b[0m\n\u001b[1;32m    686\u001b[0m             \u001b[0;32mreturn\u001b[0m \u001b[0mself\u001b[0m\u001b[0;34m.\u001b[0m\u001b[0mapply_raw\u001b[0m\u001b[0;34m(\u001b[0m\u001b[0;34m)\u001b[0m\u001b[0;34m\u001b[0m\u001b[0;34m\u001b[0m\u001b[0m\n\u001b[1;32m    687\u001b[0m \u001b[0;34m\u001b[0m\u001b[0m\n\u001b[0;32m--> 688\u001b[0;31m         \u001b[0;32mreturn\u001b[0m \u001b[0mself\u001b[0m\u001b[0;34m.\u001b[0m\u001b[0mapply_standard\u001b[0m\u001b[0;34m(\u001b[0m\u001b[0;34m)\u001b[0m\u001b[0;34m\u001b[0m\u001b[0;34m\u001b[0m\u001b[0m\n\u001b[0m\u001b[1;32m    689\u001b[0m \u001b[0;34m\u001b[0m\u001b[0m\n\u001b[1;32m    690\u001b[0m     \u001b[0;32mdef\u001b[0m \u001b[0magg\u001b[0m\u001b[0;34m(\u001b[0m\u001b[0mself\u001b[0m\u001b[0;34m)\u001b[0m\u001b[0;34m:\u001b[0m\u001b[0;34m\u001b[0m\u001b[0;34m\u001b[0m\u001b[0m\n",
            "\u001b[0;32m/usr/local/lib/python3.7/dist-packages/pandas/core/apply.py\u001b[0m in \u001b[0;36mapply_standard\u001b[0;34m(self)\u001b[0m\n\u001b[1;32m    810\u001b[0m \u001b[0;34m\u001b[0m\u001b[0m\n\u001b[1;32m    811\u001b[0m     \u001b[0;32mdef\u001b[0m \u001b[0mapply_standard\u001b[0m\u001b[0;34m(\u001b[0m\u001b[0mself\u001b[0m\u001b[0;34m)\u001b[0m\u001b[0;34m:\u001b[0m\u001b[0;34m\u001b[0m\u001b[0;34m\u001b[0m\u001b[0m\n\u001b[0;32m--> 812\u001b[0;31m         \u001b[0mresults\u001b[0m\u001b[0;34m,\u001b[0m \u001b[0mres_index\u001b[0m \u001b[0;34m=\u001b[0m \u001b[0mself\u001b[0m\u001b[0;34m.\u001b[0m\u001b[0mapply_series_generator\u001b[0m\u001b[0;34m(\u001b[0m\u001b[0;34m)\u001b[0m\u001b[0;34m\u001b[0m\u001b[0;34m\u001b[0m\u001b[0m\n\u001b[0m\u001b[1;32m    813\u001b[0m \u001b[0;34m\u001b[0m\u001b[0m\n\u001b[1;32m    814\u001b[0m         \u001b[0;31m# wrap results\u001b[0m\u001b[0;34m\u001b[0m\u001b[0;34m\u001b[0m\u001b[0;34m\u001b[0m\u001b[0m\n",
            "\u001b[0;32m/usr/local/lib/python3.7/dist-packages/pandas/core/apply.py\u001b[0m in \u001b[0;36mapply_series_generator\u001b[0;34m(self)\u001b[0m\n\u001b[1;32m    826\u001b[0m             \u001b[0;32mfor\u001b[0m \u001b[0mi\u001b[0m\u001b[0;34m,\u001b[0m \u001b[0mv\u001b[0m \u001b[0;32min\u001b[0m \u001b[0menumerate\u001b[0m\u001b[0;34m(\u001b[0m\u001b[0mseries_gen\u001b[0m\u001b[0;34m)\u001b[0m\u001b[0;34m:\u001b[0m\u001b[0;34m\u001b[0m\u001b[0;34m\u001b[0m\u001b[0m\n\u001b[1;32m    827\u001b[0m                 \u001b[0;31m# ignore SettingWithCopy here in case the user mutates\u001b[0m\u001b[0;34m\u001b[0m\u001b[0;34m\u001b[0m\u001b[0;34m\u001b[0m\u001b[0m\n\u001b[0;32m--> 828\u001b[0;31m                 \u001b[0mresults\u001b[0m\u001b[0;34m[\u001b[0m\u001b[0mi\u001b[0m\u001b[0;34m]\u001b[0m \u001b[0;34m=\u001b[0m \u001b[0mself\u001b[0m\u001b[0;34m.\u001b[0m\u001b[0mf\u001b[0m\u001b[0;34m(\u001b[0m\u001b[0mv\u001b[0m\u001b[0;34m)\u001b[0m\u001b[0;34m\u001b[0m\u001b[0;34m\u001b[0m\u001b[0m\n\u001b[0m\u001b[1;32m    829\u001b[0m                 \u001b[0;32mif\u001b[0m \u001b[0misinstance\u001b[0m\u001b[0;34m(\u001b[0m\u001b[0mresults\u001b[0m\u001b[0;34m[\u001b[0m\u001b[0mi\u001b[0m\u001b[0;34m]\u001b[0m\u001b[0;34m,\u001b[0m \u001b[0mABCSeries\u001b[0m\u001b[0;34m)\u001b[0m\u001b[0;34m:\u001b[0m\u001b[0;34m\u001b[0m\u001b[0;34m\u001b[0m\u001b[0m\n\u001b[1;32m    830\u001b[0m                     \u001b[0;31m# If we have a view on v, we need to make a copy because\u001b[0m\u001b[0;34m\u001b[0m\u001b[0;34m\u001b[0m\u001b[0;34m\u001b[0m\u001b[0m\n",
            "\u001b[0;32m<ipython-input-14-2abf81c3954f>\u001b[0m in \u001b[0;36m<lambda>\u001b[0;34m(x)\u001b[0m\n\u001b[1;32m     28\u001b[0m \u001b[0;34m\u001b[0m\u001b[0m\n\u001b[1;32m     29\u001b[0m     world.apply(lambda x: graph.annotate(text=x['name'], xy=x.geometry.centroid.coords[0], \n\u001b[0;32m---> 30\u001b[0;31m                                          ha='center'),axis=1);\n\u001b[0m\u001b[1;32m     31\u001b[0m \u001b[0;34m\u001b[0m\u001b[0m\n",
            "\u001b[0;31mTypeError\u001b[0m: annotate() missing 1 required positional argument: 's'"
          ]
        },
        {
          "output_type": "display_data",
          "data": {
            "image/png": "[encoded data removed]",
            "text/plain": [
              "<Figure size 1440x1440 with 2 Axes>"
            ]
          },
          "metadata": {
            "needs_background": "light"
          }
        }
      ]
    },
    {
      "cell_type": "code",
      "source": [
        "#indicator: Population Growth Rate (%)\n",
        "indi_dict = {'SP.POP.GROW': 'data_column'}\n",
        "geopand_ussr(indi_dict, 1991, 'Population Growth Rate 1990 (%)')"
      ],
      "metadata": {
        "id": "u-hbF7BtFo_w"
      },
      "execution_count": null,
      "outputs": []
    },
    {
      "cell_type": "code",
      "source": [
        "#indicator for year 1996: GDP per capita growth (annual %)\n",
        "#note that the Baltic countries did not have data between period 1991-1995\n",
        "indi_dict = {'NY.GDP.PCAP.KD.ZG': 'data_column'}\n",
        "geopand_ussr(indi_dict, 1996, 'GDP per capita growth 1996 (%)')"
      ],
      "metadata": {
        "id": "FqXHYzFaFpJP"
      },
      "execution_count": null,
      "outputs": []
    },
    {
      "cell_type": "code",
      "source": [
        "#indicator: Population Growth Rate (%)\n",
        "indi_dict = {'SP.POP.GROW': 'data_column'}\n",
        "geopand_ussr(indi_dict, 2000, 'Population Growth Rate 2000 (%)')"
      ],
      "metadata": {
        "id": "aNkIvClRFpNO"
      },
      "execution_count": null,
      "outputs": []
    },
    {
      "cell_type": "code",
      "source": [
        "#A function that draws a geopanda graph, accepting a query_dictionary, the year and the title as arguments\n",
        "#countries_ussr = ['Armenia', 'Azerbaijan', 'Belarus', 'Estonia', 'Georgia', 'Kazakhstan', 'Kyrgyz Republic', 'Latvia', 'Lithuania', 'Moldova', 'Russia', 'Tajikistan', 'Turkmenistan', 'Ukraine', 'Uzbekistan']\n",
        "#countries_iso3166 = ['ARM', 'AZE', 'BLR', 'EST', 'GEO','KAZ', 'KGZ', 'LVA', 'LTU', 'MDA', 'RUS', 'TJK', 'TKM', 'UKR', 'UZB' ]\n",
        "\n",
        "#countries: Armenia', 'Azerbaijan', 'Belarus', 'Estonia', 'Georgia', 'Kazakhstan', 'Kyrgyz Republic', 'Latvia', 'Lithuania', 'Moldova', 'Russia', 'Tajikistan', 'Turkmenistan', 'Ukraine', 'Uzbekistan'\n",
        "\n",
        "def geopand_ussr(indi_dict, year, title):\n",
        "    countries_ussr = ['Kyrgyzstan', 'Kazakhstan', 'Russia','Tajikistan', 'Turkmenistan','Uzbekistan']\n",
        "    countries_iso3166 = ['KAZ', 'KGZ','RUS','TJK', 'TKM','UZB']\n",
        "    \n",
        "    df = wbdata.get_dataframe(indicators=indi_dict, country=countries_iso3166)\n",
        "    df.reset_index(inplace=True)\n",
        "    df['date'] = df['date'].astype(int)\n",
        "    df = df[df['date'] == year]\n",
        "    df = df.sort_values(by=['country'])\n",
        "\n",
        "    world = geopandas.read_file(geopandas.datasets.get_path('naturalearth_lowres'))\n",
        "    world = world[world['name'].isin(countries_ussr)]\n",
        "    world = world.sort_values(by=['name'])\n",
        "    world['data_column'] = df['data_column'].values\n",
        "\n",
        "    graph = world.plot('data_column', cmap='Spectral', figsize=(20,20), legend=True, legend_kwds={'shrink': 0.75}, aspect= 'auto', edgecolor= 'black')\n",
        "    \n",
        "    graph.set_xlim(right = 185)\n",
        "    graph.set_xlim(left = -1)\n",
        "    \n",
        "    graph.set_title(title, size=22, pad=20);\n",
        "\n",
        "    world.apply(lambda x: graph.annotate(text=x['name'], xy=x.geometry.centroid.coords[0], \n",
        "                                         ha='center'),axis=1);"
      ],
      "metadata": {
        "id": "q6_AzjDfGH7G"
      },
      "execution_count": null,
      "outputs": []
    },
    {
      "cell_type": "code",
      "source": [
        "#indicator for year 1991: GDP per capita growth (annual %)\n",
        "#note that the Baltic countries did not have data between period 1991-1994\n",
        "indi_dict = {'NY.GDP.PCAP.KD.ZG': 'data_column'}\n",
        "geopand_ussr(indi_dict, 1991, 'GDP per capita growth 1991 (%)')"
      ],
      "metadata": {
        "id": "piXRojlyFpP7"
      },
      "execution_count": null,
      "outputs": []
    },
    {
      "cell_type": "code",
      "source": [
        "#A function that draws a geopanda graph, accepting a query_dictionary, the year and the title as arguments\n",
        "#countries_ussr = ['Armenia', 'Azerbaijan', 'Belarus', 'Estonia', 'Georgia', 'Kazakhstan', 'Kyrgyz Republic', 'Latvia', 'Lithuania', 'Moldova', 'Russia', 'Tajikistan', 'Turkmenistan', 'Ukraine', 'Uzbekistan']\n",
        "#countries_iso3166 = ['ARM', 'AZE', 'BLR', 'EST', 'GEO','KAZ', 'KGZ', 'LVA', 'LTU', 'MDA', 'RUS', 'TJK', 'TKM', 'UKR', 'UZB' ]\n",
        "\n",
        "#countries: Armenia', 'Azerbaijan', 'Belarus', 'Estonia', 'Georgia', 'Kazakhstan', 'Kyrgyz Republic', 'Latvia', 'Lithuania', 'Moldova', 'Russia', 'Tajikistan', 'Turkmenistan', 'Ukraine', 'Uzbekistan'\n",
        "\n",
        "def geopand_ussr(indi_dict, year, title):\n",
        "    countries_ussr = ['Belarus', 'Estonia','Latvia', 'Lithuania', 'Moldova','Ukraine']\n",
        "    countries_iso3166 = ['BLR', 'EST', 'LVA', 'LTU', 'MDA', 'UKR' ]\n",
        "    \n",
        "    df = wbdata.get_dataframe(indicators=indi_dict, country=countries_iso3166)\n",
        "    df.reset_index(inplace=True)\n",
        "    df['date'] = df['date'].astype(int)\n",
        "    df = df[df['date'] == year]\n",
        "    df = df.sort_values(by=['country'])\n",
        "\n",
        "    world = geopandas.read_file(geopandas.datasets.get_path('naturalearth_lowres'))\n",
        "    world = world[world['name'].isin(countries_ussr)]\n",
        "    world = world.sort_values(by=['name'])\n",
        "    world['data_column'] = df['data_column'].values\n",
        "\n",
        "    graph = world.plot('data_column', cmap='Spectral', figsize=(15,15), legend=True, aspect= 'auto', edgecolor= 'black')\n",
        "    \n",
        "    graph.set_title(title, size=22, pad=20);\n",
        "\n",
        "    world.apply(lambda x: graph.annotate(text=x['name'], xy=x.geometry.centroid.coords[0], \n",
        "                                         ha='center'),axis=1);"
      ],
      "metadata": {
        "id": "O8KYpyTsFpTn"
      },
      "execution_count": null,
      "outputs": []
    },
    {
      "cell_type": "code",
      "source": [
        "#indicator for year 1991: GDP per capita growth (annual %)\n",
        "#note that the Baltic countries & Moldova did not have data between period 1991-1994\n",
        "indi_dict = {'NY.GDP.PCAP.KD.ZG': 'data_column'}\n",
        "geopand_ussr(indi_dict, 1991, 'GDP per capita growth 1991 (%)')"
      ],
      "metadata": {
        "id": "PUhFsoDfFpWW"
      },
      "execution_count": null,
      "outputs": []
    },
    {
      "cell_type": "code",
      "source": [
        "#indicator for year 1991: GDP per capita growth (annual %)\n",
        "#note that the Baltic countries did not have data between period 1991-1994\n",
        "indi_dict = {'NY.GDP.PCAP.KD.ZG': 'data_column'}\n",
        "geopand_ussr(indi_dict, 1996, 'GDP per capita growth 1996 (%)')"
      ],
      "metadata": {
        "id": "Zd_tQwzpFpZ1"
      },
      "execution_count": null,
      "outputs": []
    },
    {
      "cell_type": "code",
      "source": [
        "#indicator: Population Growth Rate (%)\n",
        "indi_dict = {'SP.POP.GROW': 'data_column'}\n",
        "geopand_ussr(indi_dict, 1990, 'Population Growth Rate 1990 (%)')"
      ],
      "metadata": {
        "id": "guyZhzDJFpcV"
      },
      "execution_count": null,
      "outputs": []
    },
    {
      "cell_type": "code",
      "source": [
        "#indicator: Population Growth Rate (%)\n",
        "indi_dict = {'SP.POP.GROW': 'data_column'}\n",
        "geopand_ussr(indi_dict, 1991, 'Population Growth Rate 1991 (%)')"
      ],
      "metadata": {
        "id": "V8IF0UtKGTj8"
      },
      "execution_count": null,
      "outputs": []
    },
    {
      "cell_type": "code",
      "source": [
        "#indicator: Population Growth Rate (%)\n",
        "indi_dict = {'SP.POP.GROW': 'data_column'}\n",
        "geopand_ussr(indi_dict, 1995, 'Population Growth Rate 1995 (%)')"
      ],
      "metadata": {
        "id": "mFo5a44DGWfi"
      },
      "execution_count": null,
      "outputs": []
    },
    {
      "cell_type": "code",
      "source": [
        "#indicator: Population Growth Rate (%)\n",
        "indi_dict = {'SP.POP.GROW': 'data_column'}\n",
        "geopand_ussr(indi_dict, 2000, 'Population Growth Rate 2000 (%)')"
      ],
      "metadata": {
        "id": "jVo8LQbmGZ8k"
      },
      "execution_count": null,
      "outputs": []
    },
    {
      "cell_type": "code",
      "source": [
        "#countries_ussr = ['Armenia', 'Azerbaijan', 'Belarus', 'Estonia', 'Georgia', 'Kazakhstan', 'Kyrgyz Republic', 'Latvia', 'Lithuania', 'Moldova', 'Russia', 'Tajikistan', 'Turkmenistan', 'Ukraine', 'Uzbekistan']\n",
        "#countries_iso3166 = ['ARM', 'AZE', 'BLR', 'EST', 'GEO','KAZ', 'KGZ', 'LVA', 'LTU', 'MDA', 'RUS', 'TJK', 'TKM', 'UKR', 'UZB' ]\n",
        "\n",
        "#countries: Armenia', 'Azerbaijan', 'Belarus', 'Estonia', 'Georgia', 'Kazakhstan', 'Kyrgyz Republic', 'Latvia', 'Lithuania', 'Moldova', 'Russia', 'Tajikistan', 'Turkmenistan', 'Ukraine', 'Uzbekistan'\n",
        "\n",
        "def geopand_ussr(indi_dict, year, title):\n",
        "    countries_ussr = ['Armenia', 'Azerbaijan', 'Georgia']\n",
        "    countries_iso3166 = ['ARM', 'AZE','GEO']\n",
        "    \n",
        "    df = wbdata.get_dataframe(indicators=indi_dict, country=countries_iso3166)\n",
        "    df.reset_index(inplace=True)\n",
        "    df['date'] = df['date'].astype(int)\n",
        "    df = df[df['date'] == year]\n",
        "    df = df.sort_values(by=['country'])\n",
        "\n",
        "    world = geopandas.read_file(geopandas.datasets.get_path('naturalearth_lowres'))\n",
        "    world = world[world['name'].isin(countries_ussr)]\n",
        "    world = world.sort_values(by=['name'])\n",
        "    world['data_column'] = df['data_column'].values\n",
        "\n",
        "    graph = world.plot('data_column', cmap='Spectral', figsize=(20,20), legend=True, legend_kwds={'shrink': 0.75}, aspect= 'auto', edgecolor= 'black')\n",
        "    \n",
        "    graph.set_title(title, size=22, pad=20);\n",
        "\n",
        "    world.apply(lambda x: graph.annotate(text=x['name'], xy=x.geometry.centroid.coords[0], \n",
        "                                         ha='center'),axis=1);"
      ],
      "metadata": {
        "id": "gRB-yiu1GjdS"
      },
      "execution_count": null,
      "outputs": []
    },
    {
      "cell_type": "code",
      "source": [
        "#indicator for year 1991: GDP per capita growth (annual %)\n",
        "#note that the Baltic countries & Moldova did not have data between period 1991-1994\n",
        "indi_dict = {'NY.GDP.PCAP.KD.ZG': 'data_column'}\n",
        "geopand_ussr(indi_dict, 1991, 'GDP per capita growth 1991 (%)')"
      ],
      "metadata": {
        "id": "gPHPZpiwGjid"
      },
      "execution_count": null,
      "outputs": []
    },
    {
      "cell_type": "code",
      "source": [
        "#indicator: Population Growth Rate (%)\n",
        "indi_dict = {'SP.POP.GROW': 'data_column'}\n",
        "geopand_ussr(indi_dict, 1990, 'Population Growth Rate 1990 (%)')"
      ],
      "metadata": {
        "id": "lDKkTH5LGjmv"
      },
      "execution_count": null,
      "outputs": []
    },
    {
      "cell_type": "code",
      "source": [
        "#indicator: Population Growth Rate (%)\n",
        "indi_dict = {'SP.POP.GROW': 'data_column'}\n",
        "geopand_ussr(indi_dict, 1991, 'Population Growth Rate 1991 (%)')"
      ],
      "metadata": {
        "id": "wP7BSaPXGjqK"
      },
      "execution_count": null,
      "outputs": []
    },
    {
      "cell_type": "code",
      "source": [
        "#indicator: Population Growth Rate (%)\n",
        "indi_dict = {'SP.POP.GROW': 'data_column'}\n",
        "geopand_ussr(indi_dict, 1995, 'Population Growth Rate 1995 (%)')"
      ],
      "metadata": {
        "id": "d7kkAirZGjtE"
      },
      "execution_count": null,
      "outputs": []
    },
    {
      "cell_type": "code",
      "source": [
        "#indicator: Population Growth Rate (%)\n",
        "indi_dict = {'SP.POP.GROW': 'data_column'}\n",
        "geopand_ussr(indi_dict, 2000, 'Population Growth Rate 2000 (%)')"
      ],
      "metadata": {
        "id": "b84jXM5LGvXH"
      },
      "execution_count": null,
      "outputs": []
    },
    {
      "cell_type": "code",
      "source": [
        "#A function that draws a geopanda graph, accepting a query_dictionary, the year and the title as arguments\n",
        "#countries_ussr = ['Armenia', 'Azerbaijan', 'Belarus', 'Estonia', 'Georgia', 'Kazakhstan', 'Kyrgyz Republic', 'Latvia', 'Lithuania', 'Moldova', 'Russia', 'Tajikistan', 'Turkmenistan', 'Ukraine', 'Uzbekistan']\n",
        "#countries_iso3166 = ['ARM', 'AZE', 'BLR', 'EST', 'GEO','KAZ', 'KGZ', 'LVA', 'LTU', 'MDA', 'RUS', 'TJK', 'TKM', 'UKR', 'UZB' ]\n",
        "\n",
        "#countries: Armenia', 'Azerbaijan', 'Belarus', 'Estonia', 'Georgia', 'Kazakhstan', 'Kyrgyz Republic', 'Latvia', 'Lithuania', 'Moldova', 'Russia', 'Tajikistan', 'Turkmenistan', 'Ukraine', 'Uzbekistan'\n",
        "\n",
        "def geopand_ussr(indi_dict, year, title):\n",
        "    countries_ussr = ['Kyrgyzstan','Tajikistan', 'Turkmenistan','Uzbekistan']\n",
        "    countries_iso3166 = ['KGZ','TJK', 'TKM','UZB']\n",
        "    \n",
        "    df = wbdata.get_dataframe(indicators=indi_dict, country=countries_iso3166)\n",
        "    df.reset_index(inplace=True)\n",
        "    df['date'] = df['date'].astype(int)\n",
        "    df = df[df['date'] == year]\n",
        "    df = df.sort_values(by=['country'])\n",
        "\n",
        "    world = geopandas.read_file(geopandas.datasets.get_path('naturalearth_lowres'))\n",
        "    world = world[world['name'].isin(countries_ussr)]\n",
        "    world = world.sort_values(by=['name'])\n",
        "    world['data_column'] = df['data_column'].values\n",
        "\n",
        "    graph = world.plot('data_column', cmap='Spectral', figsize=(20,20), legend=True, legend_kwds={'shrink': 0.75}, aspect= 'auto', edgecolor= 'black')\n",
        "    \n",
        "    graph.set_title(title, size=22, pad=20);\n",
        "\n",
        "    world.apply(lambda x: graph.annotate(text=x['name'], xy=x.geometry.centroid.coords[0], \n",
        "                                         ha='center'),axis=1)"
      ],
      "metadata": {
        "id": "jZWN0qeEGvZ7"
      },
      "execution_count": null,
      "outputs": []
    },
    {
      "cell_type": "code",
      "source": [
        "#indicator: Population Growth Rate (%)\n",
        "indi_dict = {'SP.POP.GROW': 'data_column'}\n",
        "geopand_ussr(indi_dict, 1990, 'Population Growth Rate 1990 (%)')"
      ],
      "metadata": {
        "id": "rkV5fvsaGvcv"
      },
      "execution_count": null,
      "outputs": []
    },
    {
      "cell_type": "code",
      "source": [
        "#indicator: Population Growth Rate (%)\n",
        "indi_dict = {'SP.POP.GROW': 'data_column'}\n",
        "geopand_ussr(indi_dict, 1991, 'Population Growth Rate 1991 (%)')"
      ],
      "metadata": {
        "id": "oL-rD_5EGvfY"
      },
      "execution_count": null,
      "outputs": []
    },
    {
      "cell_type": "code",
      "source": [
        "#indicator: Population Growth Rate (%)\n",
        "indi_dict = {'SP.POP.GROW': 'data_column'}\n",
        "geopand_ussr(indi_dict, 1995, 'Population Growth Rate 1995 (%)')"
      ],
      "metadata": {
        "id": "tyR8CesRGvhy"
      },
      "execution_count": null,
      "outputs": []
    },
    {
      "cell_type": "code",
      "source": [
        "#indicator: Population Growth Rate (%)\n",
        "indi_dict = {'SP.POP.GROW': 'data_column'}\n",
        "geopand_ussr(indi_dict, 2000, 'Population Growth Rate 2000 (%)')"
      ],
      "metadata": {
        "id": "ahgsGpJ3GvkR"
      },
      "execution_count": null,
      "outputs": []
    },
    {
      "cell_type": "code",
      "source": [
        "#A function that draws a geopanda graph, accepting a query_dictionary, the year and the title as arguments\n",
        "#countries_ussr = ['Armenia', 'Azerbaijan', 'Belarus', 'Estonia', 'Georgia', 'Kazakhstan', 'Kyrgyz Republic', 'Latvia', 'Lithuania', 'Moldova', 'Russia', 'Tajikistan', 'Turkmenistan', 'Ukraine', 'Uzbekistan']\n",
        "#countries_iso3166 = ['ARM', 'AZE', 'BLR', 'EST', 'GEO','KAZ', 'KGZ', 'LVA', 'LTU', 'MDA', 'RUS', 'TJK', 'TKM', 'UKR', 'UZB' ]\n",
        "\n",
        "#countries: Armenia', 'Azerbaijan', 'Belarus', 'Estonia', 'Georgia', 'Kazakhstan', 'Kyrgyz Republic', 'Latvia', 'Lithuania', 'Moldova', 'Russia', 'Tajikistan', 'Turkmenistan', 'Ukraine', 'Uzbekistan'\n",
        "\n",
        "def geopand_ussr(indi_dict, year, title):\n",
        "    countries_ussr = ['Kazakhstan', 'Russia']\n",
        "    countries_iso3166 = ['KAZ','RUS']\n",
        "    \n",
        "    df = wbdata.get_dataframe(indicators=indi_dict, country=countries_iso3166)\n",
        "    df.reset_index(inplace=True)\n",
        "    df['date'] = df['date'].astype(int)\n",
        "    df = df[df['date'] == year]\n",
        "    df = df.sort_values(by=['country'])\n",
        "\n",
        "    world = geopandas.read_file(geopandas.datasets.get_path('naturalearth_lowres'))\n",
        "    world = world[world['name'].isin(countries_ussr)]\n",
        "    world = world.sort_values(by=['name'])\n",
        "    world['data_column'] = df['data_column'].values\n",
        "\n",
        "    graph = world.plot('data_column', cmap='Spectral', figsize=(20,20), legend=True, legend_kwds={'shrink': 0.75}, aspect= 'auto', edgecolor= 'black')\n",
        "    \n",
        "    graph.set_xlim(right = 185)\n",
        "    graph.set_xlim(left = -1)\n",
        "    \n",
        "    graph.set_title(title, size=22, pad=20);\n",
        "\n",
        "    world.apply(lambda x: graph.annotate(text=x['name'], xy=x.geometry.centroid.coords[0], \n",
        "                                         ha='center'),axis=1)"
      ],
      "metadata": {
        "id": "UyxJtl6IG-ct"
      },
      "execution_count": null,
      "outputs": []
    },
    {
      "cell_type": "code",
      "source": [
        "#indicator: Population Growth Rate (%)\n",
        "indi_dict = {'SP.POP.GROW': 'data_column'}\n",
        "geopand_ussr(indi_dict, 1990, 'Population Growth Rate 1990 (%)')"
      ],
      "metadata": {
        "id": "ruRz-H0QG-fg"
      },
      "execution_count": null,
      "outputs": []
    },
    {
      "cell_type": "code",
      "source": [
        "#indicator: Population Growth Rate (%)\n",
        "indi_dict = {'SP.POP.GROW': 'data_column'}\n",
        "geopand_ussr(indi_dict, 1991, 'Population Growth Rate 1991 (%)')"
      ],
      "metadata": {
        "id": "VLcQjyetG-iC"
      },
      "execution_count": null,
      "outputs": []
    },
    {
      "cell_type": "code",
      "source": [
        "#indicator: Population Growth Rate (%)\n",
        "indi_dict = {'SP.POP.GROW': 'data_column'}\n",
        "geopand_ussr(indi_dict, 1995, 'Population Growth Rate 1995 (%)')"
      ],
      "metadata": {
        "id": "81_qVLL1HFr9"
      },
      "execution_count": null,
      "outputs": []
    },
    {
      "cell_type": "code",
      "source": [
        "#indicator: Population Growth Rate (%)\n",
        "indi_dict = {'SP.POP.GROW': 'data_column'}\n",
        "geopand_ussr(indi_dict, 2000, 'Population Growth Rate 2000 (%)')"
      ],
      "metadata": {
        "id": "ydG5mtz1HFxz"
      },
      "execution_count": null,
      "outputs": []
    },
    {
      "cell_type": "markdown",
      "source": [
        "[C] Other Visualisations - Population & Demographics"
      ],
      "metadata": {
        "id": "RCFSUWC2HblL"
      }
    },
    {
      "cell_type": "code",
      "source": [
        "#Population over Time (Eastern Europe)\n",
        "variable_labels = {\"SP.POP.TOTL\":\"Population\"}\n",
        "\n",
        "# Three letter codes come from wbdata.get_country()\n",
        "countries = {\"BLR\":\"Belarus\",\n",
        "             \"MDA\":\"Moldova\",\n",
        "             \"RUS\":\"Russian Federation\",\n",
        "             \"UKR\":\"Ukraine\",\n",
        "             \"WLD\":\"World\"\n",
        "            }\n",
        "\n",
        "df = wbdata.get_dataframe(variable_labels, country = countries).squeeze()\n",
        "\n",
        "df = df.unstack('country')\n",
        "# Date index is of type string; change to integers\n",
        "df.index = df.index.astype(int)\n",
        "\n",
        "# Differences (over time) in logs give us growth rates\n",
        "new_df = np.log(df).diff()\n",
        "\n",
        "# Useful arguments to pass include xTitle, yTitle, Title\n",
        "#Using a small subset of former Soviet Countries with the horizontal line representing the fall of the Soviet Union\n",
        "fig, ax = plt.subplots()\n",
        "sns.lineplot(data=new_df, x=\"date\", y=\"Belarus\", \n",
        "             label = 'Belarus', color='orange', linewidth=1.5, dashes=(5, 1), ax = ax)\n",
        "sns.lineplot(data=new_df, x=\"date\", y=\"Moldova\", \n",
        "             label = 'Moldova', color='blue', linewidth=1.5, ax = ax)\n",
        "sns.lineplot(data=new_df, x=\"date\", y=\"Russian Federation\", \n",
        "             label = 'Russia', color='purple', linewidth=1.5, ax = ax)\n",
        "sns.lineplot(data=new_df, x=\"date\", y=\"Ukraine\", \n",
        "             label = 'Ukraine', color='cyan', linewidth=1.5, ax = ax)\n",
        "sns.lineplot(data=new_df, x=\"date\", y=\"World\", \n",
        "             label = 'World', color='black', linewidth=2.5, ax = ax)\n",
        "plt.axvline(x = 1991, color = 'red', linestyle = '--')\n",
        "ax.set(xlabel='Year', ylabel='Growth Rate');"
      ],
      "metadata": {
        "id": "Qd7F2WnqHF1X"
      },
      "execution_count": null,
      "outputs": []
    },
    {
      "cell_type": "code",
      "source": [
        "#Population over Time (Baltics)\n",
        "variable_labels = {\"SP.POP.TOTL\":\"Population\"}\n",
        "\n",
        "# Three letter codes come from wbdata.get_country()\n",
        "countries = {\"EST\":\"Estonia\",\n",
        "             \"LTU\":\"Lithuania\",\n",
        "             \"LVA\":\"Latvia\",\n",
        "             \"WLD\":\"World\"\n",
        "            }\n",
        "\n",
        "df = wbdata.get_dataframe(variable_labels, country = countries).squeeze()\n",
        "\n",
        "df = df.unstack('country')\n",
        "# Date index is of type string; change to integers\n",
        "df.index = df.index.astype(int)\n",
        "\n",
        "# Differences (over time) in logs give us growth rates\n",
        "new_df = np.log(df).diff()\n",
        "\n",
        "# Useful arguments to pass include xTitle, yTitle, Title\n",
        "#Using a small subset of former Soviet Countries with the horizontal line representing the fall of the Soviet Union\n",
        "fig, ax = plt.subplots()\n",
        "sns.lineplot(data=new_df, x=\"date\", y=\"Estonia\", \n",
        "             label = 'Estonia', color='green', linewidth=1.5, ax = ax)\n",
        "sns.lineplot(data=new_df, x=\"date\", y=\"Latvia\", \n",
        "             label = 'Latvia', color='purple', linewidth=1.5, ax = ax)\n",
        "sns.lineplot(data=new_df, x=\"date\", y=\"Lithuania\", \n",
        "             label = 'Lithuania', color='cyan', linewidth=1.5, ax = ax)\n",
        "sns.lineplot(data=new_df, x=\"date\", y=\"World\", \n",
        "             label = 'World', color='black', linewidth=2.5, ax = ax)\n",
        "plt.axvline(x = 1991, color = 'red', linestyle = '--')\n",
        "ax.set(xlabel='Year', ylabel='Growth Rate');"
      ],
      "metadata": {
        "id": "5nuZmaLyHgU_"
      },
      "execution_count": null,
      "outputs": []
    },
    {
      "cell_type": "code",
      "source": [
        "#Population over Time (Caucasus)\n",
        "variable_labels = {\"SP.POP.TOTL\":\"Population\"}\n",
        "\n",
        "# Three letter codes come from wbdata.get_country()\n",
        "countries = {\"ARM\":\"Armenia\",\n",
        "             \"AZE\":\"Azerbaijan\",\n",
        "             \"GEO\":\"Georgia\",\n",
        "             \"WLD\":\"World\"\n",
        "            }\n",
        "\n",
        "df = wbdata.get_dataframe(variable_labels, country = countries).squeeze()\n",
        "\n",
        "df = df.unstack('country')\n",
        "# Date index is of type string; change to integers\n",
        "df.index = df.index.astype(int)\n",
        "\n",
        "# Differences (over time) in logs give us growth rates\n",
        "new_df = np.log(df).diff()\n",
        "\n",
        "# Useful arguments to pass include xTitle, yTitle, Title\n",
        "#Using a small subset of former Soviet Countries with the horizontal line representing the fall of the Soviet Union\n",
        "fig, ax = plt.subplots()\n",
        "sns.lineplot(data=new_df, x=\"date\", y=\"Armenia\", \n",
        "             label = 'Armenia', color='purple', linewidth=1.5, ax = ax)\n",
        "sns.lineplot(data=new_df, x=\"date\", y=\"Azerbaijan\", \n",
        "             label = 'Azerbaijan', color='green', linewidth=1.5, ax = ax)\n",
        "sns.lineplot(data=new_df, x=\"date\", y=\"Georgia\", \n",
        "             label = 'Georgia', color='cyan', linewidth=1.5, ax = ax)\n",
        "sns.lineplot(data=new_df, x=\"date\", y=\"World\", \n",
        "             label = 'World', color='black', linewidth=2.5, ax = ax)\n",
        "plt.axvline(x = 1991, color = 'red', linestyle = '--')\n",
        "ax.set(xlabel='Year', ylabel='Growth Rate');"
      ],
      "metadata": {
        "id": "c4ne_LcyHgXI"
      },
      "execution_count": null,
      "outputs": []
    },
    {
      "cell_type": "code",
      "source": [
        "#Population over Time (Central Asia)\n",
        "variable_labels = {\"SP.POP.TOTL\":\"Population\"}\n",
        "\n",
        "# Three letter codes come from wbdata.get_country()\n",
        "countries = {\"KAZ\":\"Kazakhstan\",\n",
        "             \"KGZ\":\"Kyrgyzstan\",\n",
        "             \"TJK\":\"Tajikistan\",\n",
        "             \"TKM\":\"Turkmenistan\",\n",
        "             \"UZB\":\"Uzbekistan\",\n",
        "             \"WLD\":\"World\"\n",
        "            }\n",
        "\n",
        "df = wbdata.get_dataframe(variable_labels, country = countries).squeeze()\n",
        "\n",
        "df = df.unstack('country')\n",
        "# Date index is of type string; change to integers\n",
        "df.index = df.index.astype(int)\n",
        "\n",
        "# Differences (over time) in logs give us growth rates\n",
        "new_df = np.log(df).diff()\n",
        "\n",
        "# Useful arguments to pass include xTitle, yTitle, Title\n",
        "#Using a small subset of former Soviet Countries with the horizontal line representing the fall of the Soviet Union\n",
        "fig, ax = plt.subplots()\n",
        "sns.lineplot(data=new_df, x=\"date\", y=\"Kazakhstan\", \n",
        "             label = 'Kazakhstan', color='red', linewidth=1.5, dashes=(5, 1), ax = ax)\n",
        "sns.lineplot(data=new_df, x=\"date\", y=\"Kyrgyz Republic\", \n",
        "             label = 'Kyrgyz Republic', color='blue', linewidth=1.5, ax = ax)\n",
        "sns.lineplot(data=new_df, x=\"date\", y=\"Tajikistan\", \n",
        "             label = 'Tajikistan', color='purple', linewidth=1.5, ax = ax)\n",
        "sns.lineplot(data=new_df, x=\"date\", y=\"Turkmenistan\", \n",
        "             label = 'Turkmenistan', color='orange', linewidth=1.5, ax = ax)\n",
        "sns.lineplot(data=new_df, x=\"date\", y=\"Uzbekistan\", \n",
        "             label = 'Uzbekistan', color='cyan', linewidth=1.5, ax = ax)\n",
        "sns.lineplot(data=new_df, x=\"date\", y=\"World\", \n",
        "             label = 'World', color='black', linewidth=2.5, ax = ax)\n",
        "plt.axvline(x = 1991, color = 'red', linestyle = '--')\n",
        "ax.set(xlabel='Year', ylabel='Growth Rate');"
      ],
      "metadata": {
        "id": "JoATUZV9HgZe"
      },
      "execution_count": null,
      "outputs": []
    },
    {
      "cell_type": "code",
      "source": [
        "#Select Countries Compared to the World: Deeper Look at Some Countries' Demographics\n",
        "variable_labels = {\"SP.POP.TOTL\":\"Population\"}\n",
        "\n",
        "# Three letter codes come from wbdata.get_country()\n",
        "countries = {\"KAZ\":\"Kazakhstan\",\n",
        "             \"WLD\":\"World\"\n",
        "            }\n",
        "\n",
        "df = wbdata.get_dataframe(variable_labels, country = countries).squeeze()\n",
        "\n",
        "df = df.unstack('country')\n",
        "# Date index is of type string; change to integers\n",
        "df.index = df.index.astype(int)\n",
        "\n",
        "# Differences (over time) in logs give us growth rates\n",
        "new_df = np.log(df).diff()\n",
        "\n",
        "# Useful arguments to pass include xTitle, yTitle, Title\n",
        "#Using a small subset of former Soviet Countries with the horizontal line representing the fall of the Soviet Union\n",
        "fig, ax = plt.subplots()\n",
        "sns.lineplot(data=new_df, x=\"date\", y=\"Kazakhstan\", \n",
        "             label = 'Kazakhstan', color='red', linewidth=1.5, dashes=(5, 1), ax = ax)\n",
        "sns.lineplot(data=new_df, x=\"date\", y=\"World\", \n",
        "             label = 'World', color='black', linewidth=2.5, ax = ax)\n",
        "plt.axvline(x = 1991, color = 'red', linestyle = '--')\n",
        "ax.set(xlabel='Year', ylabel='Growth Rate');"
      ],
      "metadata": {
        "id": "goeYlD2GHgb4"
      },
      "execution_count": null,
      "outputs": []
    },
    {
      "cell_type": "code",
      "source": [
        "#Select Countries Compared to the World: Deeper Look at Some Countries' Demographics\n",
        "variable_labels = {\"SP.POP.TOTL\":\"Population\"}\n",
        "\n",
        "# Three letter codes come from wbdata.get_country()\n",
        "countries = {\"KGZ\":\"Kyrgyzstan\",\n",
        "             \"WLD\":\"World\"\n",
        "            }\n",
        "\n",
        "df = wbdata.get_dataframe(variable_labels, country = countries).squeeze()\n",
        "\n",
        "df = df.unstack('country')\n",
        "# Date index is of type string; change to integers\n",
        "df.index = df.index.astype(int)\n",
        "\n",
        "# Differences (over time) in logs give us growth rates\n",
        "new_df = np.log(df).diff()\n",
        "\n",
        "# Useful arguments to pass include xTitle, yTitle, Title\n",
        "#Using a small subset of former Soviet Countries with the horizontal line representing the fall of the Soviet Union\n",
        "fig, ax = plt.subplots()\n",
        "sns.lineplot(data=new_df, x=\"date\", y=\"Kyrgyz Republic\", \n",
        "             label = 'Kyrgyz Republic', color='blue', linewidth=1.5, ax = ax)\n",
        "sns.lineplot(data=new_df, x=\"date\", y=\"World\", \n",
        "             label = 'World', color='black', linewidth=2.5, ax = ax)\n",
        "plt.axvline(x = 1991, color = 'red', linestyle = '--')\n",
        "ax.set(xlabel='Year', ylabel='Growth Rate');"
      ],
      "metadata": {
        "id": "w9X0WleCHgeU"
      },
      "execution_count": null,
      "outputs": []
    },
    {
      "cell_type": "code",
      "source": [
        "#Select Countries Compared to the World: Deeper Look at Some Countries' Demographics\n",
        "variable_labels = {\"SP.POP.TOTL\":\"Population\"}\n",
        "\n",
        "# Three letter codes come from wbdata.get_country()\n",
        "countries = {\"RUS\":\"Russian Federation\",\n",
        "             \"WLD\":\"World\"\n",
        "            }\n",
        "\n",
        "df = wbdata.get_dataframe(variable_labels, country = countries).squeeze()\n",
        "\n",
        "df = df.unstack('country')\n",
        "# Date index is of type string; change to integers\n",
        "df.index = df.index.astype(int)\n",
        "\n",
        "# Differences (over time) in logs give us growth rates\n",
        "new_df = np.log(df).diff()\n",
        "\n",
        "# Useful arguments to pass include xTitle, yTitle, Title\n",
        "#Using a small subset of former Soviet Countries with the horizontal line representing the fall of the Soviet Union\n",
        "fig, ax = plt.subplots()\n",
        "sns.lineplot(data=new_df, x=\"date\", y=\"Russian Federation\", \n",
        "             label = 'Russia', color='blue', linewidth=1.5, ax = ax)\n",
        "sns.lineplot(data=new_df, x=\"date\", y=\"World\", \n",
        "             label = 'World', color='black', linewidth=2.5, ax = ax)\n",
        "plt.axvline(x = 1991, color = 'red', linestyle = '--')\n",
        "ax.set(xlabel='Year', ylabel='Growth Rate');"
      ],
      "metadata": {
        "id": "VTiuDiVoHs4b"
      },
      "execution_count": null,
      "outputs": []
    },
    {
      "cell_type": "code",
      "source": [
        "#Select Countries Compared to the World: Deeper Look at Some Countries' Demographics\n",
        "variable_labels = {\"SP.POP.TOTL\":\"Population\"}\n",
        "\n",
        "# Three letter codes come from wbdata.get_country()\n",
        "countries = {\"GEO\":\"Georgia\",\n",
        "             \"WLD\":\"World\"\n",
        "            }\n",
        "\n",
        "df = wbdata.get_dataframe(variable_labels, country = countries).squeeze()\n",
        "\n",
        "df = df.unstack('country')\n",
        "# Date index is of type string; change to integers\n",
        "df.index = df.index.astype(int)\n",
        "\n",
        "# Differences (over time) in logs give us growth rates\n",
        "new_df = np.log(df).diff()\n",
        "\n",
        "# Useful arguments to pass include xTitle, yTitle, Title\n",
        "#Using a small subset of former Soviet Countries with the horizontal line representing the fall of the Soviet Union\n",
        "fig, ax = plt.subplots()\n",
        "sns.lineplot(data=new_df, x=\"date\", y=\"Georgia\", \n",
        "             label = 'Georgia', color='blue', linewidth=1.5, ax = ax)\n",
        "sns.lineplot(data=new_df, x=\"date\", y=\"World\", \n",
        "             label = 'World', color='black', linewidth=2.5, ax = ax)\n",
        "plt.axvline(x = 1991, color = 'red', linestyle = '--')\n",
        "ax.set(xlabel='Year', ylabel='Growth Rate');"
      ],
      "metadata": {
        "id": "Ke4NDfgtHs9N"
      },
      "execution_count": null,
      "outputs": []
    },
    {
      "cell_type": "code",
      "source": [
        "#Select Countries Compared to the World: Deeper Look at Some Countries' Demographics\n",
        "variable_labels = {\"SP.POP.TOTL\":\"Population\"}\n",
        "\n",
        "# Three letter codes come from wbdata.get_country()\n",
        "countries = {\"AZE\":\"Azerbaijan\",\n",
        "             \"WLD\":\"World\"\n",
        "            }\n",
        "\n",
        "df = wbdata.get_dataframe(variable_labels, country = countries).squeeze()\n",
        "\n",
        "df = df.unstack('country')\n",
        "# Date index is of type string; change to integers\n",
        "df.index = df.index.astype(int)\n",
        "\n",
        "# Differences (over time) in logs give us growth rates\n",
        "new_df = np.log(df).diff()\n",
        "\n",
        "# Useful arguments to pass include xTitle, yTitle, Title\n",
        "#Using a small subset of former Soviet Countries with the horizontal line representing the fall of the Soviet Union\n",
        "fig, ax = plt.subplots()\n",
        "sns.lineplot(data=new_df, x=\"date\", y=\"Azerbaijan\", \n",
        "             label = 'Azerbaijan', color='pink', linewidth=1.5, dashes=(5, 1), ax = ax)\n",
        "sns.lineplot(data=new_df, x=\"date\", y=\"World\", \n",
        "             label = 'World', color='black', linewidth=2.5, ax = ax)\n",
        "plt.axvline(x = 1991, color = 'red', linestyle = '--')\n",
        "ax.set(xlabel='Year', ylabel='Growth Rate');"
      ],
      "metadata": {
        "id": "qw90LCcXHs_5"
      },
      "execution_count": null,
      "outputs": []
    },
    {
      "cell_type": "code",
      "source": [
        "#GDP over Time (Caucasus)\n",
        "variable_labels = {\"NY.GDP.PCAP.KD.ZG\":\"GDP Over Time\"}\n",
        "\n",
        "# Three letter codes come from wbdata.get_country()\n",
        "countries = {\"ARM\":\"Armenia\",\n",
        "             \"AZE\":\"Azerbaijan\",\n",
        "             \"GEO\":\"Georgia\",\n",
        "             \"WLD\":\"World\"\n",
        "            }\n",
        "\n",
        "df = wbdata.get_dataframe(variable_labels, country = countries).squeeze()\n",
        "\n",
        "df = df.unstack('country')\n",
        "# Date index is of type string; change to integers\n",
        "df.index = df.index.astype(int)\n",
        "\n",
        "# Differences (over time) in logs give us growth rates\n",
        "new_df = np.log(df).diff()\n",
        "\n",
        "# Useful arguments to pass include xTitle, yTitle, Title\n",
        "#Using a small subset of former Soviet Countries with the horizontal line representing the fall of the Soviet Union\n",
        "fig, ax = plt.subplots()\n",
        "sns.lineplot(data=new_df, x=\"date\", y=\"Armenia\", \n",
        "             label = 'Armenia', color='purple', linewidth=1.5, ax = ax)\n",
        "sns.lineplot(data=new_df, x=\"date\", y=\"Azerbaijan\", \n",
        "             label = 'Azerbaijan', color='green', linewidth=1.5, ax = ax)\n",
        "sns.lineplot(data=new_df, x=\"date\", y=\"Georgia\", \n",
        "             label = 'Georgia', color='cyan', linewidth=1.5, ax = ax)\n",
        "sns.lineplot(data=new_df, x=\"date\", y=\"World\", \n",
        "             label = 'World', color='black', linewidth=2.5, ax = ax)\n",
        "plt.axvline(x = 1991, color = 'red', linestyle = '--')\n",
        "ax.set(xlabel='Year', ylabel='Growth Rate');"
      ],
      "metadata": {
        "id": "2HQtqsgeHtCb"
      },
      "execution_count": null,
      "outputs": []
    },
    {
      "cell_type": "code",
      "source": [
        "#agricultural supply list\n",
        "!pip install eep153_tools\n",
        "!pip install python_gnupg\n",
        "#from eep153_tools.sheets import decrypt_credentials\n",
        "#decrypt_credentials('../students.json.gpg')"
      ],
      "metadata": {
        "id": "ASgZtc6SKfXn"
      },
      "execution_count": null,
      "outputs": []
    },
    {
      "cell_type": "code",
      "source": [
        "!ls ~/.eep153.service_accounts/"
      ],
      "metadata": {
        "id": "ukl8tZ-IKfa6"
      },
      "execution_count": null,
      "outputs": []
    },
    {
      "cell_type": "code",
      "source": [
        "from eep153_tools.sheets import read_sheets\n",
        "#getting data for aggircultural data\n",
        "#### Read a bunch of google worksheets into a dictionary of dataframes\n",
        "data = read_sheets('https://docs.google.com/spreadsheets/d/1DLn9owcS7ggojJGWlI9vKSz0hqozn6cbcqNGWgzMZ8k',force_numeric=False)\n",
        "\n",
        "data.keys()"
      ],
      "metadata": {
        "id": "g5wpDYYbKfeL"
      },
      "execution_count": null,
      "outputs": []
    },
    {
      "cell_type": "code",
      "source": [
        "#creating a dataframe with the agricultural factors included\n",
        "import pandas as pd\n",
        "\n",
        "def get_international_ag_productivity_data(series):\n",
        "\n",
        "    columns=series.iloc[1,:]  # Need to fix columns\n",
        "    series = series.iloc[2:,:]\n",
        "    series.columns = columns\n",
        "\n",
        "    # Set index to country code\n",
        "    series = series.set_index('WDI Code')\n",
        "\n",
        "    series = series[['%d' % t for t in range(1961,2020)]]\n",
        "\n",
        "    series = series.replace({',':''},regex=True) # Get rid of commas in number strings\n",
        "    series = series.replace({'':'NaN'}) # Change empty cells to NaN strings\n",
        "    series = series.apply(lambda x: pd.to_numeric(x,errors='ignore'))\n",
        "    series = series.astype(float) # Convert to floats\n",
        "\n",
        "    series = series.stack()\n",
        "    \n",
        "    series = series.loc[~series.index.duplicated(keep='first')] \n",
        "\n",
        "    series.index.names = ['WDI Code','Year']\n",
        "\n",
        "    return series\n",
        "   \n",
        "\n",
        "Data = ['Output','Ag TFP','Ag Land','Irrig','Pasture','Labor','Livestock',\n",
        "        'Machinery','Fertilizer','Feed']\n",
        "\n",
        "D = {}\n",
        "for key in Data:\n",
        "    D[key] = get_international_ag_productivity_data(data[key])\n",
        "countries = {\"WLD\":\"World\"\n",
        "            }\n",
        "#Choosing world data and reformating it for later dataframe concatanation \n",
        "growth_ag = pd.DataFrame(D)\n",
        "growth_ag = growth_ag.reset_index()\n",
        "growth_ag = growth_ag[growth_ag['WDI Code'].isin(['WLD'])]\n",
        "growth_ag['date'] = growth_ag['Year']\n",
        "growth_ag['date'] = growth_ag['date'].astype(int)\n",
        "growth_ag = growth_ag[growth_ag['date'] < 2015]\n",
        "growth_ag = growth_ag[growth_ag['date'] > 1980]\n",
        "growth_ag['country'] = growth_ag['WDI Code']\n",
        "growth_ag = growth_ag.drop(columns = ['Year','WDI Code'])\n",
        "growth_ag = growth_ag.replace({\"country\": countries})\n",
        "growth_ag = growth_ag.set_index(['country','date'])\n",
        "growth_ag"
      ],
      "metadata": {
        "id": "_uBWy745JvTK"
      },
      "execution_count": null,
      "outputs": []
    },
    {
      "cell_type": "code",
      "source": [
        "#creating a dataframe with population growth rate data\n",
        "df = wbdata.get_dataframe(variable_labels, country = countries)\n",
        "growth_rates = np.log(df).diff()\n",
        "growth_rates = growth_rates.reset_index()\n",
        "#reformating for later concatanation\n",
        "growth_rates = growth_rates[growth_rates['country'].isin(['World'])]\n",
        "growth_rates['date'] = growth_rates['date'].astype(int)\n",
        "growth_rates = growth_rates[growth_rates['date'] < 2015]\n",
        "growth_rates = growth_rates[growth_rates['date'] > 1980]\n",
        "growth_rates = growth_rates.set_index(['country','date'])\n",
        "growth_rates"
      ],
      "metadata": {
        "id": "cAZ3c5mxJvV-"
      },
      "execution_count": null,
      "outputs": []
    },
    {
      "cell_type": "code",
      "source": [
        "#getting correlation, importantly includes correlation between total agricultural output and population growth rate\n",
        "ag_growth = pd.concat([growth_ag,growth_rates],axis = 1)\n",
        "ag_growth.corr()"
      ],
      "metadata": {
        "id": "E2YVQ230JvYs"
      },
      "execution_count": null,
      "outputs": []
    },
    {
      "cell_type": "code",
      "source": [
        "#agricultural factor correlation among soviet union countries\n",
        "ag.corr()"
      ],
      "metadata": {
        "id": "SUm7721zJvbM"
      },
      "execution_count": null,
      "outputs": []
    },
    {
      "cell_type": "code",
      "source": [
        "#georgia/usa machinery graph\n",
        "import pandas as pd\n",
        "\n",
        "def get_international_ag_productivity_data(series):\n",
        "\n",
        "    columns=series.iloc[1,:]  # Need to fix columns\n",
        "    series = series.iloc[2:,:]\n",
        "    series.columns = columns\n",
        "\n",
        "    # Set index to country code\n",
        "    series = series.set_index('WDI Code')\n",
        "\n",
        "    series = series[['%d' % t for t in range(1961,2020)]]\n",
        "\n",
        "    series = series.replace({',':''},regex=True) # Get rid of commas in number strings\n",
        "    series = series.replace({'':'NaN'}) # Change empty cells to NaN strings\n",
        "    series = series.apply(lambda x: pd.to_numeric(x,errors='ignore'))\n",
        "    series = series.astype(float) # Convert to floats\n",
        "\n",
        "    series = series.stack()\n",
        "    \n",
        "    series = series.loc[~series.index.duplicated(keep='first')] \n",
        "\n",
        "    series.index.names = ['WDI Code','Year']\n",
        "\n",
        "    return series\n",
        "   \n",
        "\n",
        "Data = ['Output','Ag TFP','Ag Land','Irrig','Pasture','Labor','Livestock',\n",
        "        'Machinery','Fertilizer','Feed']\n",
        "\n",
        "D = {}\n",
        "for key in Data:\n",
        "    D[key] = get_international_ag_productivity_data(data[key])\n",
        "\n",
        "comp = pd.DataFrame(D)\n",
        "comp = comp.reset_index()\n",
        "comp = comp[comp['WDI Code'].isin(['RUS','GEO'])]\n",
        "comp = comp[comp['Year'].astype(int) > 1985]\n",
        "comp = comp.set_index('WDI Code')\n",
        "comp"
      ],
      "metadata": {
        "id": "9yGhgJVfJvdk"
      },
      "execution_count": null,
      "outputs": []
    },
    {
      "cell_type": "code",
      "source": [
        "#graphing machinery data for Russia and Georgia\n",
        "comp = comp.reset_index()\n",
        "comp = comp[['Year','Machinery','WDI Code']]\n",
        "comp['Year'] = comp['Year'].astype(int)\n",
        "fig, ax = plt.subplots(figsize=(18,6))\n",
        "for name, group in comp.groupby('WDI Code'):\n",
        "    group.plot(x= 'Year', y='Machinery', ax=ax, label=name,title = 'Machinery')\n",
        "plt.axvline(x = 1991, color = 'red', linestyle = '--')\n",
        "plt.show()"
      ],
      "metadata": {
        "id": "OqnPixEKJvgU"
      },
      "execution_count": null,
      "outputs": []
    },
    {
      "cell_type": "code",
      "source": [
        "#graphing labor data for Russia and Georgia\n",
        "comp = comp.reset_index()\n",
        "comp = comp[['Year','Labor','WDI Code']]\n",
        "comp['Year'] = comp['Year'].astype(int)\n",
        "fig, ax = plt.subplots(figsize=(18,6))\n",
        "for name, group in comp.groupby('WDI Code'):\n",
        "    group.plot(x= 'Year', y='Labor', ax=ax, label=name,title = 'Labor')\n",
        "plt.axvline(x = 1991, color = 'red', linestyle = '--')\n",
        "plt.show()"
      ],
      "metadata": {
        "id": "BkcDzN2EJvii"
      },
      "execution_count": null,
      "outputs": []
    },
    {
      "cell_type": "code",
      "source": [
        "#georgia/usa machinery graph\n",
        "import pandas as pd\n",
        "\n",
        "def get_international_ag_productivity_data(series):\n",
        "\n",
        "    columns=series.iloc[1,:]  # Need to fix columns\n",
        "    series = series.iloc[2:,:]\n",
        "    series.columns = columns\n",
        "\n",
        "    # Set index to country code\n",
        "    series = series.set_index('WDI Code')\n",
        "\n",
        "    series = series[['%d' % t for t in range(1961,2020)]]\n",
        "\n",
        "    series = series.replace({',':''},regex=True) # Get rid of commas in number strings\n",
        "    series = series.replace({'':'NaN'}) # Change empty cells to NaN strings\n",
        "    series = series.apply(lambda x: pd.to_numeric(x,errors='ignore'))\n",
        "    series = series.astype(float) # Convert to floats\n",
        "\n",
        "    series = series.stack()\n",
        "    \n",
        "    series = series.loc[~series.index.duplicated(keep='first')] \n",
        "\n",
        "    series.index.names = ['WDI Code','Year']\n",
        "\n",
        "    return series\n",
        "   \n",
        "\n",
        "Data = ['Output','Ag TFP','Ag Land','Irrig','Pasture','Labor','Livestock',\n",
        "        'Machinery','Fertilizer','Feed']\n",
        "\n",
        "D = {}\n",
        "for key in Data:\n",
        "    D[key] = get_international_ag_productivity_data(data[key])\n",
        "\n",
        "comp = pd.DataFrame(D)\n",
        "comp = comp.reset_index()\n",
        "comp = comp[comp['WDI Code'].isin(['USA','GEO'])]\n",
        "comp = comp[comp['Year'].astype(int) > 1985]\n",
        "comp = comp.set_index('WDI Code')\n",
        "comp"
      ],
      "metadata": {
        "id": "ro-XPzE9KEmE"
      },
      "execution_count": null,
      "outputs": []
    },
    {
      "cell_type": "code",
      "source": [
        "#graphing machinery for USA and Georgia\n",
        "comp = comp.reset_index()\n",
        "comp = comp[['Year','Machinery','WDI Code']]\n",
        "comp['Year'] = comp['Year'].astype(int)\n",
        "fig, ax = plt.subplots(figsize=(18,6))\n",
        "for name, group in comp.groupby('WDI Code'):\n",
        "    group.plot(x= 'Year', y='Machinery', ax=ax, label=name,title = 'Machinery')\n",
        "plt.axvline(x = 1991, color = 'red', linestyle = '--')\n",
        "plt.show()"
      ],
      "metadata": {
        "id": "QN5MzTSPKEq6"
      },
      "execution_count": null,
      "outputs": []
    },
    {
      "cell_type": "code",
      "source": [
        "#graphing labor for USA and Georgia\n",
        "comp = comp.reset_index()\n",
        "comp = comp[['Year','Labor','WDI Code']]\n",
        "comp['Year'] = comp['Year'].astype(int)\n",
        "fig, ax = plt.subplots(figsize=(18,6))\n",
        "for name, group in comp.groupby('WDI Code'):\n",
        "    group.plot(x= 'Year', y='Labor', ax=ax, label=name,title = 'Labor')\n",
        "plt.axvline(x = 1991, color = 'red', linestyle = '--')\n",
        "plt.show()"
      ],
      "metadata": {
        "id": "KiUBxMA0KOjJ"
      },
      "execution_count": null,
      "outputs": []
    },
    {
      "cell_type": "code",
      "source": [
        "#getting aggricultural dataframe for only Uzbekistan and Georgia\n",
        "import pandas as pd\n",
        "\n",
        "def get_international_ag_productivity_data(series):\n",
        "\n",
        "    columns=series.iloc[1,:]  # Need to fix columns\n",
        "    series = series.iloc[2:,:]\n",
        "    series.columns = columns\n",
        "\n",
        "    # Set index to country code\n",
        "    series = series.set_index('WDI Code')\n",
        "\n",
        "    series = series[['%d' % t for t in range(1961,2020)]]\n",
        "\n",
        "    series = series.replace({',':''},regex=True) # Get rid of commas in number strings\n",
        "    series = series.replace({'':'NaN'}) # Change empty cells to NaN strings\n",
        "    series = series.apply(lambda x: pd.to_numeric(x,errors='ignore'))\n",
        "    series = series.astype(float) # Convert to floats\n",
        "\n",
        "    series = series.stack()\n",
        "    \n",
        "    series = series.loc[~series.index.duplicated(keep='first')] \n",
        "\n",
        "    series.index.names = ['WDI Code','Year']\n",
        "\n",
        "    return series\n",
        "   \n",
        "\n",
        "Data = ['Output','Ag TFP','Ag Land','Irrig','Pasture','Labor','Livestock',\n",
        "        'Machinery','Fertilizer','Feed']\n",
        "\n",
        "D = {}\n",
        "for key in Data:\n",
        "    D[key] = get_international_ag_productivity_data(data[key])\n",
        "\n",
        "comp = pd.DataFrame(D)\n",
        "comp = comp.reset_index()\n",
        "comp = comp[comp['WDI Code'].isin(['UZB','GEO'])]\n",
        "comp = comp[comp['Year'].astype(int) > 1985]\n",
        "comp = comp.set_index('WDI Code')\n",
        "comp"
      ],
      "metadata": {
        "id": "8RgQBIWfKOo9"
      },
      "execution_count": null,
      "outputs": []
    },
    {
      "cell_type": "code",
      "source": [
        "#graphing machinery for Uzbekistan and Georgia\n",
        "comp = comp.reset_index()\n",
        "comp = comp[['Year','Machinery','WDI Code']]\n",
        "comp['Year'] = comp['Year'].astype(int)\n",
        "fig, ax = plt.subplots(figsize=(18,6))\n",
        "for name, group in comp.groupby('WDI Code'):\n",
        "    group.plot(x= 'Year', y='Machinery', ax=ax, label=name,title = 'Machinery')\n",
        "plt.axvline(x = 1991, color = 'red', linestyle = '--')\n",
        "plt.show()"
      ],
      "metadata": {
        "id": "4I_EDu53KU4X"
      },
      "execution_count": null,
      "outputs": []
    },
    {
      "cell_type": "code",
      "source": [
        "#graphing labor for Uzbekistan and Georgia\n",
        "comp = comp.reset_index()\n",
        "comp = comp[['Year','Labor','WDI Code']]\n",
        "comp['Year'] = comp['Year'].astype(int)\n",
        "fig, ax = plt.subplots(figsize=(18,6))\n",
        "for name, group in comp.groupby('WDI Code'):\n",
        "    group.plot(x= 'Year', y='Labor', ax=ax, label=name,title = 'Labor')\n",
        "plt.axvline(x = 1991, color = 'red', linestyle = '--')\n",
        "plt.show()"
      ],
      "metadata": {
        "id": "04r5UafNKW19"
      },
      "execution_count": null,
      "outputs": []
    }
  ],
  "metadata": {
    "colab": {
      "collapsed_sections": [],
      "name": "EEP153 Project #1",
      "provenance": []
    },
    "kernelspec": {
      "display_name": "Python 3",
      "name": "python3"
    },
    "language_info": {
      "name": "python"
    },
    "widgets": {
      "application/vnd.jupyter.widget-state+json": {
        "2a77c6388ded4a1faa377bdad971862e": {
          "model_module": "@jupyter-widgets/controls",
          "model_name": "VBoxModel",
          "model_module_version": "1.5.0",
          "state": {
            "_view_name": "VBoxView",
            "_dom_classes": [
              "widget-interact"
            ],
            "_model_name": "VBoxModel",
            "_view_module": "@jupyter-widgets/controls",
            "_model_module_version": "1.5.0",
            "_view_count": null,
            "_view_module_version": "1.5.0",
            "box_style": "",
            "layout": "IPY_MODEL_b9cb19fa1d4c4bc58c6f414ca3fb21e3",
            "_model_module": "@jupyter-widgets/controls",
            "children": [
              "IPY_MODEL_e6e26cd264ea4d01aea6855b0f561575",
              "IPY_MODEL_6759aa6191434aac9c63d29be9a81dac"
            ]
          }
        },
        "b9cb19fa1d4c4bc58c6f414ca3fb21e3": {
          "model_module": "@jupyter-widgets/base",
          "model_name": "LayoutModel",
          "model_module_version": "1.2.0",
          "state": {
            "_view_name": "LayoutView",
            "grid_template_rows": null,
            "right": null,
            "justify_content": null,
            "_view_module": "@jupyter-widgets/base",
            "overflow": null,
            "_model_module_version": "1.2.0",
            "_view_count": null,
            "flex_flow": null,
            "width": null,
            "min_width": null,
            "border": null,
            "align_items": null,
            "bottom": null,
            "_model_module": "@jupyter-widgets/base",
            "top": null,
            "grid_column": null,
            "overflow_y": null,
            "overflow_x": null,
            "grid_auto_flow": null,
            "grid_area": null,
            "grid_template_columns": null,
            "flex": null,
            "_model_name": "LayoutModel",
            "justify_items": null,
            "grid_row": null,
            "max_height": null,
            "align_content": null,
            "visibility": null,
            "align_self": null,
            "height": null,
            "min_height": null,
            "padding": null,
            "grid_auto_rows": null,
            "grid_gap": null,
            "max_width": null,
            "order": null,
            "_view_module_version": "1.2.0",
            "grid_template_areas": null,
            "object_position": null,
            "object_fit": null,
            "grid_auto_columns": null,
            "margin": null,
            "display": null,
            "left": null
          }
        },
        "e6e26cd264ea4d01aea6855b0f561575": {
          "model_module": "@jupyter-widgets/controls",
          "model_name": "IntSliderModel",
          "model_module_version": "1.5.0",
          "state": {
            "_view_name": "IntSliderView",
            "style": "IPY_MODEL_4bc8391bdfce4172b467a54a294f970c",
            "_dom_classes": [],
            "description": "year",
            "step": 1,
            "_model_name": "IntSliderModel",
            "orientation": "horizontal",
            "max": 2018,
            "_view_module": "@jupyter-widgets/controls",
            "_model_module_version": "1.5.0",
            "value": 1989,
            "_view_count": null,
            "disabled": false,
            "_view_module_version": "1.5.0",
            "min": 1961,
            "continuous_update": true,
            "readout_format": "d",
            "description_tooltip": null,
            "readout": true,
            "_model_module": "@jupyter-widgets/controls",
            "layout": "IPY_MODEL_930eb722e23a4309a1668e4491b1a2ee"
          }
        },
        "6759aa6191434aac9c63d29be9a81dac": {
          "model_module": "@jupyter-widgets/output",
          "model_name": "OutputModel",
          "model_module_version": "1.0.0",
          "state": {
            "_view_name": "OutputView",
            "msg_id": "",
            "_dom_classes": [],
            "_model_name": "OutputModel",
            "outputs": [
              {
                "output_type": "display_data",
                "data": {
                  "text/html": "        <script type=\"text/javascript\">\n        window.PlotlyConfig = {MathJaxConfig: 'local'};\n        if (window.MathJax) {MathJax.Hub.Config({SVG: {font: \"STIX-Web\"}});}\n        if (typeof require !== 'undefined') {\n        require.undef(\"plotly\");\n        requirejs.config({\n            paths: {\n                'plotly': ['https://cdn.plot.ly/plotly-2.8.3.min']\n            }\n        });\n        require(['plotly'], function(Plotly) {\n            window._Plotly = Plotly;\n        });\n        }\n        </script>\n        "
                },
                "metadata": {}
              },
              {
                "output_type": "error",
                "ename": "KeyError",
                "evalue": "ignored",
                "traceback": [
                  "\u001b[0;31m---------------------------------------------------------------------------\u001b[0m",
                  "\u001b[0;31mKeyError\u001b[0m                                  Traceback (most recent call last)",
                  "\u001b[0;32m/usr/local/lib/python3.7/dist-packages/pandas/core/indexes/base.py\u001b[0m in \u001b[0;36mget_loc\u001b[0;34m(self, key, method, tolerance)\u001b[0m\n\u001b[1;32m   3360\u001b[0m             \u001b[0;32mtry\u001b[0m\u001b[0;34m:\u001b[0m\u001b[0;34m\u001b[0m\u001b[0;34m\u001b[0m\u001b[0m\n\u001b[0;32m-> 3361\u001b[0;31m                 \u001b[0;32mreturn\u001b[0m \u001b[0mself\u001b[0m\u001b[0;34m.\u001b[0m\u001b[0m_engine\u001b[0m\u001b[0;34m.\u001b[0m\u001b[0mget_loc\u001b[0m\u001b[0;34m(\u001b[0m\u001b[0mcasted_key\u001b[0m\u001b[0;34m)\u001b[0m\u001b[0;34m\u001b[0m\u001b[0;34m\u001b[0m\u001b[0m\n\u001b[0m\u001b[1;32m   3362\u001b[0m             \u001b[0;32mexcept\u001b[0m \u001b[0mKeyError\u001b[0m \u001b[0;32mas\u001b[0m \u001b[0merr\u001b[0m\u001b[0;34m:\u001b[0m\u001b[0;34m\u001b[0m\u001b[0;34m\u001b[0m\u001b[0m\n",
                  "\u001b[0;32m/usr/local/lib/python3.7/dist-packages/pandas/_libs/index.pyx\u001b[0m in \u001b[0;36mpandas._libs.index.IndexEngine.get_loc\u001b[0;34m()\u001b[0m\n",
                  "\u001b[0;32m/usr/local/lib/python3.7/dist-packages/pandas/_libs/index.pyx\u001b[0m in \u001b[0;36mpandas._libs.index.IndexEngine.get_loc\u001b[0;34m()\u001b[0m\n",
                  "\u001b[0;32mpandas/_libs/hashtable_class_helper.pxi\u001b[0m in \u001b[0;36mpandas._libs.hashtable.PyObjectHashTable.get_item\u001b[0;34m()\u001b[0m\n",
                  "\u001b[0;32mpandas/_libs/hashtable_class_helper.pxi\u001b[0m in \u001b[0;36mpandas._libs.hashtable.PyObjectHashTable.get_item\u001b[0;34m()\u001b[0m\n",
                  "\u001b[0;31mKeyError\u001b[0m: '1989'",
                  "\nThe above exception was the direct cause of the following exception:\n",
                  "\u001b[0;31mKeyError\u001b[0m                                  Traceback (most recent call last)",
                  "\u001b[0;32m/usr/local/lib/python3.7/dist-packages/ipywidgets/widgets/interaction.py\u001b[0m in \u001b[0;36mupdate\u001b[0;34m(self, *args)\u001b[0m\n\u001b[1;32m    255\u001b[0m                     \u001b[0mvalue\u001b[0m \u001b[0;34m=\u001b[0m \u001b[0mwidget\u001b[0m\u001b[0;34m.\u001b[0m\u001b[0mget_interact_value\u001b[0m\u001b[0;34m(\u001b[0m\u001b[0;34m)\u001b[0m\u001b[0;34m\u001b[0m\u001b[0;34m\u001b[0m\u001b[0m\n\u001b[1;32m    256\u001b[0m                     \u001b[0mself\u001b[0m\u001b[0;34m.\u001b[0m\u001b[0mkwargs\u001b[0m\u001b[0;34m[\u001b[0m\u001b[0mwidget\u001b[0m\u001b[0;34m.\u001b[0m\u001b[0m_kwarg\u001b[0m\u001b[0;34m]\u001b[0m \u001b[0;34m=\u001b[0m \u001b[0mvalue\u001b[0m\u001b[0;34m\u001b[0m\u001b[0;34m\u001b[0m\u001b[0m\n\u001b[0;32m--> 257\u001b[0;31m                 \u001b[0mself\u001b[0m\u001b[0;34m.\u001b[0m\u001b[0mresult\u001b[0m \u001b[0;34m=\u001b[0m \u001b[0mself\u001b[0m\u001b[0;34m.\u001b[0m\u001b[0mf\u001b[0m\u001b[0;34m(\u001b[0m\u001b[0;34m**\u001b[0m\u001b[0mself\u001b[0m\u001b[0;34m.\u001b[0m\u001b[0mkwargs\u001b[0m\u001b[0;34m)\u001b[0m\u001b[0;34m\u001b[0m\u001b[0;34m\u001b[0m\u001b[0m\n\u001b[0m\u001b[1;32m    258\u001b[0m                 \u001b[0mshow_inline_matplotlib_plots\u001b[0m\u001b[0;34m(\u001b[0m\u001b[0;34m)\u001b[0m\u001b[0;34m\u001b[0m\u001b[0;34m\u001b[0m\u001b[0m\n\u001b[1;32m    259\u001b[0m                 \u001b[0;32mif\u001b[0m \u001b[0mself\u001b[0m\u001b[0;34m.\u001b[0m\u001b[0mauto_display\u001b[0m \u001b[0;32mand\u001b[0m \u001b[0mself\u001b[0m\u001b[0;34m.\u001b[0m\u001b[0mresult\u001b[0m \u001b[0;32mis\u001b[0m \u001b[0;32mnot\u001b[0m \u001b[0;32mNone\u001b[0m\u001b[0;34m:\u001b[0m\u001b[0;34m\u001b[0m\u001b[0;34m\u001b[0m\u001b[0m\n",
                  "\u001b[0;32m<ipython-input-11-864f685d3247>\u001b[0m in \u001b[0;36mpyramid_builder\u001b[0;34m(year)\u001b[0m\n\u001b[1;32m     10\u001b[0m                    \u001b[0myaxis\u001b[0m\u001b[0;34m=\u001b[0m\u001b[0mgo\u001b[0m\u001b[0;34m.\u001b[0m\u001b[0mlayout\u001b[0m\u001b[0;34m.\u001b[0m\u001b[0mYAxis\u001b[0m\u001b[0;34m(\u001b[0m\u001b[0mrange\u001b[0m\u001b[0;34m=\u001b[0m\u001b[0;34m[\u001b[0m\u001b[0;36m0\u001b[0m\u001b[0;34m,\u001b[0m \u001b[0;36m90\u001b[0m\u001b[0;34m]\u001b[0m\u001b[0;34m,\u001b[0m \u001b[0mtitle\u001b[0m\u001b[0;34m=\u001b[0m\u001b[0;34m'Age'\u001b[0m\u001b[0;34m)\u001b[0m\u001b[0;34m,\u001b[0m\u001b[0;34m\u001b[0m\u001b[0;34m\u001b[0m\u001b[0m\n\u001b[1;32m     11\u001b[0m                    xaxis=go.layout.XAxis(title='Number'))\n\u001b[0;32m---> 12\u001b[0;31m         bins = [go.Bar(x = df.loc[str(year),:].filter(regex=\"Male\").values,\n\u001b[0m\u001b[1;32m     13\u001b[0m                \u001b[0my\u001b[0m \u001b[0;34m=\u001b[0m \u001b[0;34m[\u001b[0m\u001b[0mint\u001b[0m\u001b[0;34m(\u001b[0m\u001b[0ms\u001b[0m\u001b[0;34m[\u001b[0m\u001b[0;34m:\u001b[0m\u001b[0;36m2\u001b[0m\u001b[0;34m]\u001b[0m\u001b[0;34m)\u001b[0m\u001b[0;34m+\u001b[0m\u001b[0;36m1\u001b[0m \u001b[0;32mfor\u001b[0m \u001b[0ms\u001b[0m \u001b[0;32min\u001b[0m \u001b[0mage_ranges\u001b[0m\u001b[0;34m]\u001b[0m\u001b[0;34m,\u001b[0m\u001b[0;34m\u001b[0m\u001b[0;34m\u001b[0m\u001b[0m\n\u001b[1;32m     14\u001b[0m                \u001b[0morientation\u001b[0m\u001b[0;34m=\u001b[0m\u001b[0;34m'h'\u001b[0m\u001b[0;34m,\u001b[0m\u001b[0;34m\u001b[0m\u001b[0;34m\u001b[0m\u001b[0m\n",
                  "\u001b[0;32m/usr/local/lib/python3.7/dist-packages/pandas/core/indexing.py\u001b[0m in \u001b[0;36m__getitem__\u001b[0;34m(self, key)\u001b[0m\n\u001b[1;32m    923\u001b[0m                 \u001b[0;32mwith\u001b[0m \u001b[0msuppress\u001b[0m\u001b[0;34m(\u001b[0m\u001b[0mKeyError\u001b[0m\u001b[0;34m,\u001b[0m \u001b[0mIndexError\u001b[0m\u001b[0;34m)\u001b[0m\u001b[0;34m:\u001b[0m\u001b[0;34m\u001b[0m\u001b[0;34m\u001b[0m\u001b[0m\n\u001b[1;32m    924\u001b[0m                     \u001b[0;32mreturn\u001b[0m \u001b[0mself\u001b[0m\u001b[0;34m.\u001b[0m\u001b[0mobj\u001b[0m\u001b[0;34m.\u001b[0m\u001b[0m_get_value\u001b[0m\u001b[0;34m(\u001b[0m\u001b[0;34m*\u001b[0m\u001b[0mkey\u001b[0m\u001b[0;34m,\u001b[0m \u001b[0mtakeable\u001b[0m\u001b[0;34m=\u001b[0m\u001b[0mself\u001b[0m\u001b[0;34m.\u001b[0m\u001b[0m_takeable\u001b[0m\u001b[0;34m)\u001b[0m\u001b[0;34m\u001b[0m\u001b[0;34m\u001b[0m\u001b[0m\n\u001b[0;32m--> 925\u001b[0;31m             \u001b[0;32mreturn\u001b[0m \u001b[0mself\u001b[0m\u001b[0;34m.\u001b[0m\u001b[0m_getitem_tuple\u001b[0m\u001b[0;34m(\u001b[0m\u001b[0mkey\u001b[0m\u001b[0;34m)\u001b[0m\u001b[0;34m\u001b[0m\u001b[0;34m\u001b[0m\u001b[0m\n\u001b[0m\u001b[1;32m    926\u001b[0m         \u001b[0;32melse\u001b[0m\u001b[0;34m:\u001b[0m\u001b[0;34m\u001b[0m\u001b[0;34m\u001b[0m\u001b[0m\n\u001b[1;32m    927\u001b[0m             \u001b[0;31m# we by definition only have the 0th axis\u001b[0m\u001b[0;34m\u001b[0m\u001b[0;34m\u001b[0m\u001b[0;34m\u001b[0m\u001b[0m\n",
                  "\u001b[0;32m/usr/local/lib/python3.7/dist-packages/pandas/core/indexing.py\u001b[0m in \u001b[0;36m_getitem_tuple\u001b[0;34m(self, tup)\u001b[0m\n\u001b[1;32m   1098\u001b[0m     \u001b[0;32mdef\u001b[0m \u001b[0m_getitem_tuple\u001b[0m\u001b[0;34m(\u001b[0m\u001b[0mself\u001b[0m\u001b[0;34m,\u001b[0m \u001b[0mtup\u001b[0m\u001b[0;34m:\u001b[0m \u001b[0mtuple\u001b[0m\u001b[0;34m)\u001b[0m\u001b[0;34m:\u001b[0m\u001b[0;34m\u001b[0m\u001b[0;34m\u001b[0m\u001b[0m\n\u001b[1;32m   1099\u001b[0m         \u001b[0;32mwith\u001b[0m \u001b[0msuppress\u001b[0m\u001b[0;34m(\u001b[0m\u001b[0mIndexingError\u001b[0m\u001b[0;34m)\u001b[0m\u001b[0;34m:\u001b[0m\u001b[0;34m\u001b[0m\u001b[0;34m\u001b[0m\u001b[0m\n\u001b[0;32m-> 1100\u001b[0;31m             \u001b[0;32mreturn\u001b[0m \u001b[0mself\u001b[0m\u001b[0;34m.\u001b[0m\u001b[0m_getitem_lowerdim\u001b[0m\u001b[0;34m(\u001b[0m\u001b[0mtup\u001b[0m\u001b[0;34m)\u001b[0m\u001b[0;34m\u001b[0m\u001b[0;34m\u001b[0m\u001b[0m\n\u001b[0m\u001b[1;32m   1101\u001b[0m \u001b[0;34m\u001b[0m\u001b[0m\n\u001b[1;32m   1102\u001b[0m         \u001b[0;31m# no multi-index, so validate all of the indexers\u001b[0m\u001b[0;34m\u001b[0m\u001b[0;34m\u001b[0m\u001b[0;34m\u001b[0m\u001b[0m\n",
                  "\u001b[0;32m/usr/local/lib/python3.7/dist-packages/pandas/core/indexing.py\u001b[0m in \u001b[0;36m_getitem_lowerdim\u001b[0;34m(self, tup)\u001b[0m\n\u001b[1;32m    836\u001b[0m                 \u001b[0;31m# We don't need to check for tuples here because those are\u001b[0m\u001b[0;34m\u001b[0m\u001b[0;34m\u001b[0m\u001b[0;34m\u001b[0m\u001b[0m\n\u001b[1;32m    837\u001b[0m                 \u001b[0;31m#  caught by the _is_nested_tuple_indexer check above.\u001b[0m\u001b[0;34m\u001b[0m\u001b[0;34m\u001b[0m\u001b[0;34m\u001b[0m\u001b[0m\n\u001b[0;32m--> 838\u001b[0;31m                 \u001b[0msection\u001b[0m \u001b[0;34m=\u001b[0m \u001b[0mself\u001b[0m\u001b[0;34m.\u001b[0m\u001b[0m_getitem_axis\u001b[0m\u001b[0;34m(\u001b[0m\u001b[0mkey\u001b[0m\u001b[0;34m,\u001b[0m \u001b[0maxis\u001b[0m\u001b[0;34m=\u001b[0m\u001b[0mi\u001b[0m\u001b[0;34m)\u001b[0m\u001b[0;34m\u001b[0m\u001b[0;34m\u001b[0m\u001b[0m\n\u001b[0m\u001b[1;32m    839\u001b[0m \u001b[0;34m\u001b[0m\u001b[0m\n\u001b[1;32m    840\u001b[0m                 \u001b[0;31m# We should never have a scalar section here, because\u001b[0m\u001b[0;34m\u001b[0m\u001b[0;34m\u001b[0m\u001b[0;34m\u001b[0m\u001b[0m\n",
                  "\u001b[0;32m/usr/local/lib/python3.7/dist-packages/pandas/core/indexing.py\u001b[0m in \u001b[0;36m_getitem_axis\u001b[0;34m(self, key, axis)\u001b[0m\n\u001b[1;32m   1162\u001b[0m         \u001b[0;31m# fall thru to straight lookup\u001b[0m\u001b[0;34m\u001b[0m\u001b[0;34m\u001b[0m\u001b[0;34m\u001b[0m\u001b[0m\n\u001b[1;32m   1163\u001b[0m         \u001b[0mself\u001b[0m\u001b[0;34m.\u001b[0m\u001b[0m_validate_key\u001b[0m\u001b[0;34m(\u001b[0m\u001b[0mkey\u001b[0m\u001b[0;34m,\u001b[0m \u001b[0maxis\u001b[0m\u001b[0;34m)\u001b[0m\u001b[0;34m\u001b[0m\u001b[0;34m\u001b[0m\u001b[0m\n\u001b[0;32m-> 1164\u001b[0;31m         \u001b[0;32mreturn\u001b[0m \u001b[0mself\u001b[0m\u001b[0;34m.\u001b[0m\u001b[0m_get_label\u001b[0m\u001b[0;34m(\u001b[0m\u001b[0mkey\u001b[0m\u001b[0;34m,\u001b[0m \u001b[0maxis\u001b[0m\u001b[0;34m=\u001b[0m\u001b[0maxis\u001b[0m\u001b[0;34m)\u001b[0m\u001b[0;34m\u001b[0m\u001b[0;34m\u001b[0m\u001b[0m\n\u001b[0m\u001b[1;32m   1165\u001b[0m \u001b[0;34m\u001b[0m\u001b[0m\n\u001b[1;32m   1166\u001b[0m     \u001b[0;32mdef\u001b[0m \u001b[0m_get_slice_axis\u001b[0m\u001b[0;34m(\u001b[0m\u001b[0mself\u001b[0m\u001b[0;34m,\u001b[0m \u001b[0mslice_obj\u001b[0m\u001b[0;34m:\u001b[0m \u001b[0mslice\u001b[0m\u001b[0;34m,\u001b[0m \u001b[0maxis\u001b[0m\u001b[0;34m:\u001b[0m \u001b[0mint\u001b[0m\u001b[0;34m)\u001b[0m\u001b[0;34m:\u001b[0m\u001b[0;34m\u001b[0m\u001b[0;34m\u001b[0m\u001b[0m\n",
                  "\u001b[0;32m/usr/local/lib/python3.7/dist-packages/pandas/core/indexing.py\u001b[0m in \u001b[0;36m_get_label\u001b[0;34m(self, label, axis)\u001b[0m\n\u001b[1;32m   1111\u001b[0m     \u001b[0;32mdef\u001b[0m \u001b[0m_get_label\u001b[0m\u001b[0;34m(\u001b[0m\u001b[0mself\u001b[0m\u001b[0;34m,\u001b[0m \u001b[0mlabel\u001b[0m\u001b[0;34m,\u001b[0m \u001b[0maxis\u001b[0m\u001b[0;34m:\u001b[0m \u001b[0mint\u001b[0m\u001b[0;34m)\u001b[0m\u001b[0;34m:\u001b[0m\u001b[0;34m\u001b[0m\u001b[0;34m\u001b[0m\u001b[0m\n\u001b[1;32m   1112\u001b[0m         \u001b[0;31m# GH#5667 this will fail if the label is not present in the axis.\u001b[0m\u001b[0;34m\u001b[0m\u001b[0;34m\u001b[0m\u001b[0;34m\u001b[0m\u001b[0m\n\u001b[0;32m-> 1113\u001b[0;31m         \u001b[0;32mreturn\u001b[0m \u001b[0mself\u001b[0m\u001b[0;34m.\u001b[0m\u001b[0mobj\u001b[0m\u001b[0;34m.\u001b[0m\u001b[0mxs\u001b[0m\u001b[0;34m(\u001b[0m\u001b[0mlabel\u001b[0m\u001b[0;34m,\u001b[0m \u001b[0maxis\u001b[0m\u001b[0;34m=\u001b[0m\u001b[0maxis\u001b[0m\u001b[0;34m)\u001b[0m\u001b[0;34m\u001b[0m\u001b[0;34m\u001b[0m\u001b[0m\n\u001b[0m\u001b[1;32m   1114\u001b[0m \u001b[0;34m\u001b[0m\u001b[0m\n\u001b[1;32m   1115\u001b[0m     \u001b[0;32mdef\u001b[0m \u001b[0m_handle_lowerdim_multi_index_axis0\u001b[0m\u001b[0;34m(\u001b[0m\u001b[0mself\u001b[0m\u001b[0;34m,\u001b[0m \u001b[0mtup\u001b[0m\u001b[0;34m:\u001b[0m \u001b[0mtuple\u001b[0m\u001b[0;34m)\u001b[0m\u001b[0;34m:\u001b[0m\u001b[0;34m\u001b[0m\u001b[0;34m\u001b[0m\u001b[0m\n",
                  "\u001b[0;32m/usr/local/lib/python3.7/dist-packages/pandas/core/generic.py\u001b[0m in \u001b[0;36mxs\u001b[0;34m(self, key, axis, level, drop_level)\u001b[0m\n\u001b[1;32m   3774\u001b[0m                 \u001b[0;32mraise\u001b[0m \u001b[0mTypeError\u001b[0m\u001b[0;34m(\u001b[0m\u001b[0;34mf\"Expected label or tuple of labels, got {key}\"\u001b[0m\u001b[0;34m)\u001b[0m \u001b[0;32mfrom\u001b[0m \u001b[0me\u001b[0m\u001b[0;34m\u001b[0m\u001b[0;34m\u001b[0m\u001b[0m\n\u001b[1;32m   3775\u001b[0m         \u001b[0;32melse\u001b[0m\u001b[0;34m:\u001b[0m\u001b[0;34m\u001b[0m\u001b[0;34m\u001b[0m\u001b[0m\n\u001b[0;32m-> 3776\u001b[0;31m             \u001b[0mloc\u001b[0m \u001b[0;34m=\u001b[0m \u001b[0mindex\u001b[0m\u001b[0;34m.\u001b[0m\u001b[0mget_loc\u001b[0m\u001b[0;34m(\u001b[0m\u001b[0mkey\u001b[0m\u001b[0;34m)\u001b[0m\u001b[0;34m\u001b[0m\u001b[0;34m\u001b[0m\u001b[0m\n\u001b[0m\u001b[1;32m   3777\u001b[0m \u001b[0;34m\u001b[0m\u001b[0m\n\u001b[1;32m   3778\u001b[0m             \u001b[0;32mif\u001b[0m \u001b[0misinstance\u001b[0m\u001b[0;34m(\u001b[0m\u001b[0mloc\u001b[0m\u001b[0;34m,\u001b[0m \u001b[0mnp\u001b[0m\u001b[0;34m.\u001b[0m\u001b[0mndarray\u001b[0m\u001b[0;34m)\u001b[0m\u001b[0;34m:\u001b[0m\u001b[0;34m\u001b[0m\u001b[0;34m\u001b[0m\u001b[0m\n",
                  "\u001b[0;32m/usr/local/lib/python3.7/dist-packages/pandas/core/indexes/base.py\u001b[0m in \u001b[0;36mget_loc\u001b[0;34m(self, key, method, tolerance)\u001b[0m\n\u001b[1;32m   3361\u001b[0m                 \u001b[0;32mreturn\u001b[0m \u001b[0mself\u001b[0m\u001b[0;34m.\u001b[0m\u001b[0m_engine\u001b[0m\u001b[0;34m.\u001b[0m\u001b[0mget_loc\u001b[0m\u001b[0;34m(\u001b[0m\u001b[0mcasted_key\u001b[0m\u001b[0;34m)\u001b[0m\u001b[0;34m\u001b[0m\u001b[0;34m\u001b[0m\u001b[0m\n\u001b[1;32m   3362\u001b[0m             \u001b[0;32mexcept\u001b[0m \u001b[0mKeyError\u001b[0m \u001b[0;32mas\u001b[0m \u001b[0merr\u001b[0m\u001b[0;34m:\u001b[0m\u001b[0;34m\u001b[0m\u001b[0;34m\u001b[0m\u001b[0m\n\u001b[0;32m-> 3363\u001b[0;31m                 \u001b[0;32mraise\u001b[0m \u001b[0mKeyError\u001b[0m\u001b[0;34m(\u001b[0m\u001b[0mkey\u001b[0m\u001b[0;34m)\u001b[0m \u001b[0;32mfrom\u001b[0m \u001b[0merr\u001b[0m\u001b[0;34m\u001b[0m\u001b[0;34m\u001b[0m\u001b[0m\n\u001b[0m\u001b[1;32m   3364\u001b[0m \u001b[0;34m\u001b[0m\u001b[0m\n\u001b[1;32m   3365\u001b[0m         \u001b[0;32mif\u001b[0m \u001b[0mis_scalar\u001b[0m\u001b[0;34m(\u001b[0m\u001b[0mkey\u001b[0m\u001b[0;34m)\u001b[0m \u001b[0;32mand\u001b[0m \u001b[0misna\u001b[0m\u001b[0;34m(\u001b[0m\u001b[0mkey\u001b[0m\u001b[0;34m)\u001b[0m \u001b[0;32mand\u001b[0m \u001b[0;32mnot\u001b[0m \u001b[0mself\u001b[0m\u001b[0;34m.\u001b[0m\u001b[0mhasnans\u001b[0m\u001b[0;34m:\u001b[0m\u001b[0;34m\u001b[0m\u001b[0;34m\u001b[0m\u001b[0m\n",
                  "\u001b[0;31mKeyError\u001b[0m: '1989'"
                ]
              }
            ],
            "_view_module": "@jupyter-widgets/output",
            "_model_module_version": "1.0.0",
            "_view_count": null,
            "_view_module_version": "1.0.0",
            "layout": "IPY_MODEL_56648650cc2b40deb7bcf94f782622ed",
            "_model_module": "@jupyter-widgets/output"
          }
        },
        "4bc8391bdfce4172b467a54a294f970c": {
          "model_module": "@jupyter-widgets/controls",
          "model_name": "SliderStyleModel",
          "model_module_version": "1.5.0",
          "state": {
            "_view_name": "StyleView",
            "handle_color": null,
            "_model_name": "SliderStyleModel",
            "description_width": "",
            "_view_module": "@jupyter-widgets/base",
            "_model_module_version": "1.5.0",
            "_view_count": null,
            "_view_module_version": "1.2.0",
            "_model_module": "@jupyter-widgets/controls"
          }
        },
        "930eb722e23a4309a1668e4491b1a2ee": {
          "model_module": "@jupyter-widgets/base",
          "model_name": "LayoutModel",
          "model_module_version": "1.2.0",
          "state": {
            "_view_name": "LayoutView",
            "grid_template_rows": null,
            "right": null,
            "justify_content": null,
            "_view_module": "@jupyter-widgets/base",
            "overflow": null,
            "_model_module_version": "1.2.0",
            "_view_count": null,
            "flex_flow": null,
            "width": null,
            "min_width": null,
            "border": null,
            "align_items": null,
            "bottom": null,
            "_model_module": "@jupyter-widgets/base",
            "top": null,
            "grid_column": null,
            "overflow_y": null,
            "overflow_x": null,
            "grid_auto_flow": null,
            "grid_area": null,
            "grid_template_columns": null,
            "flex": null,
            "_model_name": "LayoutModel",
            "justify_items": null,
            "grid_row": null,
            "max_height": null,
            "align_content": null,
            "visibility": null,
            "align_self": null,
            "height": null,
            "min_height": null,
            "padding": null,
            "grid_auto_rows": null,
            "grid_gap": null,
            "max_width": null,
            "order": null,
            "_view_module_version": "1.2.0",
            "grid_template_areas": null,
            "object_position": null,
            "object_fit": null,
            "grid_auto_columns": null,
            "margin": null,
            "display": null,
            "left": null
          }
        },
        "56648650cc2b40deb7bcf94f782622ed": {
          "model_module": "@jupyter-widgets/base",
          "model_name": "LayoutModel",
          "model_module_version": "1.2.0",
          "state": {
            "_view_name": "LayoutView",
            "grid_template_rows": null,
            "right": null,
            "justify_content": null,
            "_view_module": "@jupyter-widgets/base",
            "overflow": null,
            "_model_module_version": "1.2.0",
            "_view_count": null,
            "flex_flow": null,
            "width": null,
            "min_width": null,
            "border": null,
            "align_items": null,
            "bottom": null,
            "_model_module": "@jupyter-widgets/base",
            "top": null,
            "grid_column": null,
            "overflow_y": null,
            "overflow_x": null,
            "grid_auto_flow": null,
            "grid_area": null,
            "grid_template_columns": null,
            "flex": null,
            "_model_name": "LayoutModel",
            "justify_items": null,
            "grid_row": null,
            "max_height": null,
            "align_content": null,
            "visibility": null,
            "align_self": null,
            "height": null,
            "min_height": null,
            "padding": null,
            "grid_auto_rows": null,
            "grid_gap": null,
            "max_width": null,
            "order": null,
            "_view_module_version": "1.2.0",
            "grid_template_areas": null,
            "object_position": null,
            "object_fit": null,
            "grid_auto_columns": null,
            "margin": null,
            "display": null,
            "left": null
          }
        }
      }
    }
  },
  "nbformat": 4,
  "nbformat_minor": 0
}