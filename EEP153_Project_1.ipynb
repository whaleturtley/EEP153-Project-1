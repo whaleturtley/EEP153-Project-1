{
  "cells": [
    {
      "cell_type": "code",
      "execution_count": null,
      "metadata": {
        "id": "JYRSjYFval-5"
      },
      "outputs": [],
      "source": [
        "#setting up packages/etc for our code to run\n",
        "!pip install geopandas\n",
        "!pip install wbdata\n",
        "!pip install cufflinks\n",
        "!pip install iso3166\n",
        "\n",
        "#import iso3166 #iso3166.countries.get('country details')\n",
        "import wbdata\n",
        "import cufflinks as cf\n",
        "import pandas as pd\n",
        "import numpy as np\n",
        "import plotly\n",
        "import matplotlib.pyplot as plt\n",
        "import seaborn as sns\n",
        "cf.go_offline()\n",
        "import geopandas\n"
      ]
    },
    {
      "cell_type": "code",
      "execution_count": null,
      "metadata": {
        "id": "AQ7kUjAgf3Mk"
      },
      "outputs": [],
      "source": [
        "# Start with an empty list of age-ranges and then construct the range we needed for future methods\n",
        "#simplifies later methods\n",
        "age_ranges = []\n",
        "renames = {\n",
        "    'Males 0004':'Males Ages 00-04',\n",
        "    'Males 0509':'Males Ages 05-09',\n",
        "    'Males 1014':'Males Ages 10-14',\n",
        "    'Males 1519':'Males Ages 15-19',\n",
        "    'Males 2024':'Males Ages 20-24',\n",
        "    'Males 2529':'Males Ages 25-29',\n",
        "    'Males 3034':'Males Ages 30-34',\n",
        "    'Males 3539':'Males Ages 35-39',\n",
        "    'Males 4044':'Males Ages 40-44',\n",
        "    'Males 4549':'Males Ages 45-49',\n",
        "    'Males 5054':'Males Ages 50-54',\n",
        "    'Males 5559':'Males Ages 55-59',\n",
        "    'Males 6064':'Males Ages 60-64',\n",
        "    'Males 6569':'Males Ages 65-69',\n",
        "    'Males 7074':'Males Ages 70-74',\n",
        "    'Males 7579':'Males Ages 75-79',\n",
        "    'Males 80UP':'Males Ages 80+',\n",
        "    'Females 0004' : 'Females Ages 00-04',\n",
        "    'Females 0509':'Females Ages 05-09',\n",
        "    'Females 1014':'Females Ages 10-14',\n",
        "    'Females 1519':'FemalesAges 15-19',\n",
        "    'Females 2024':'Females Ages 20-24',\n",
        "    'Females 2529':'Females Ages 25-29',\n",
        "    'Females 3034':'Females Ages 30-34',\n",
        "    'Females 3539':'Females Ages 35-39',\n",
        "    'Females 4044':'Females Ages 40-44',\n",
        "    'Females 4549':'Females Ages 45-49',\n",
        "    'Females 5054':'Females Ages 50-54',\n",
        "    'Females 5559':'Females Ages 55-59',\n",
        "    'Females 6064':'Females Ages 60-64',\n",
        "    'Females 6569':'Females Ages 65-69',\n",
        "    'Females 7074':'Females Ages 70-74',\n",
        "    'Females 7579':'Females Ages 75-79',\n",
        "    'Females 80UP':'Females Ages 80+',\n",
        "}\n",
        "# Ranges top out at 80, and go in five year increments\n",
        "for i in range(0,80,5):\n",
        "    age_ranges.append(f\"{i:02d}\"+f\"{i+4:02d}\")\n",
        "\n",
        "age_ranges.append(\"80UP\")\n",
        "male_variables = {\"SP.POP.\"+age_range+\".MA\":\"Males \"+age_range for age_range in age_ranges}\n",
        "female_variables = {\"SP.POP.\"+age_range+\".FE\":\"Females \"+age_range for age_range in age_ranges}"
      ]
    },
    {
      "cell_type": "code",
      "execution_count": null,
      "metadata": {
        "id": "2-Fv-DcWVQq3"
      },
      "outputs": [],
      "source": [
        "#Jesus B Soto:\n",
        "# Give variable for clarity\n",
        "#Here's an example of the populations we are looking at\n",
        "variable_labels = {\"SP.POP.TOTL\":\"Russia Population\"}\n",
        "\n",
        "world = wbdata.get_dataframe(variable_labels, country=\"RUS\")\n",
        "\n",
        "# Date index is of type string; change to integers\n",
        "world.index = world.index.astype(int)\n",
        "\n",
        "# Print a few years' data\n",
        "world.head(30)"
      ]
    },
    {
      "cell_type": "code",
      "execution_count": null,
      "metadata": {
        "id": "RTQdv6GlcFWg"
      },
      "outputs": [],
      "source": [
        "#First part A: Population Statistics\n",
        "def format_range(age_range):\n",
        "  # Helper method for age formatting for API call to retrieve dataframe as illustrated in lecture\n",
        "  low, high = age_range[0], age_range[1]\n",
        "  if high > 80:\n",
        "    formatted_range = [f\"{i:02d}\"+f\"{i+4:02d}\" for i in range(low, 80, 5)]\n",
        "    formatted_range.append(\"80UP\")\n",
        "  else: \n",
        "    formatted_range = [f\"{i:02d}\"+f\"{i+4:02d}\" for i in range(low, high, 5)]\n",
        "  return formatted_range\n",
        "\n",
        "#included modulo operator in order to format function to be able to take age ranges outside of the increments of 5 years\n",
        "def population(year, sex, age_range, place):\n",
        "    start_increment = 0\n",
        "    end_increment = 0\n",
        "    age_range = list(age_range)\n",
        "    if age_range[0] % 5 != 0:\n",
        "        start_increment = age_range[0] % 5\n",
        "        age_range[0] = age_range[0] - start_increment\n",
        "    if age_range[1] % 5 != 0:\n",
        "        end_increment = age_range[1] % 5\n",
        "        age_range[1] = age_range[1] + (5 - age_range[1]%5)\n",
        "    age_range = tuple(age_range)\n",
        "    formatted_range = format_range(age_range)\n",
        "    if sex == \"Male\":\n",
        "        variables = {\"SP.POP.\"+age_range+\".MA\":\"Male\"+age_range for age_range in formatted_range}\n",
        "    elif sex == \"Female\":\n",
        "        variables = {\"SP.POP.\"+age_range+\".FE\":\"Female\"+age_range for age_range in formatted_range}\n",
        "    df = wbdata.get_dataframe(variables, country=place)\n",
        "    df = df.reset_index()\n",
        "    df['date'] = df['date'].astype(int)\n",
        "    result = df[df['date'] ==year]\n",
        "    fixed_start = result.iloc[0][1:][0]*((5-start_increment)/5)\n",
        "    fixed_end = (result.iloc[0][1:][len(result.iloc[0][1:])-1])*(end_increment+1)/5\n",
        "    product = result.iloc[0][1:]\n",
        "    product[0] = fixed_start\n",
        "    product[len(product)-1] = fixed_end\n",
        "    return sum(product)"
      ]
    },
    {
      "cell_type": "code",
      "execution_count": null,
      "metadata": {
        "id": "LQnq5bsKuQ03"
      },
      "outputs": [],
      "source": [
        "#unit test for code above:\n",
        "\n",
        "assert population(year=2000,sex='Male',age_range=(0,100),place='WLD') > 3e9"
      ]
    },
    {
      "cell_type": "code",
      "execution_count": null,
      "metadata": {
        "id": "xvrJO4NvhL3H"
      },
      "outputs": [],
      "source": [
        "#Group A part 2\n",
        "#they'll input region/country as area and year\n",
        "#should take in an array of countries they want\n",
        "#input years as [min,max]\n",
        "def Groups_of_People(Area,years):\n",
        "    renames = {\n",
        "    'Males 0004':'Males Ages 00-04',\n",
        "    'Males 0509':'Males Ages 05-09',\n",
        "    'Males 1014':'Males Ages 10-14',\n",
        "    'Males 1519':'Males Ages 15-19',\n",
        "    'Males 2024':'Males Ages 20-24',\n",
        "    'Males 2529':'Males Ages 25-29',\n",
        "    'Males 3034':'Males Ages 30-34',\n",
        "    'Males 3539':'Males Ages 35-39',\n",
        "    'Males 4044':'Males Ages 40-44',\n",
        "    'Males 4549':'Males Ages 45-49',\n",
        "    'Males 5054':'Males Ages 50-54',\n",
        "    'Males 5559':'Males Ages 55-59',\n",
        "    'Males 6064':'Males Ages 60-64',\n",
        "    'Males 6569':'Males Ages 65-69',\n",
        "    'Males 7074':'Males Ages 70-74',\n",
        "    'Males 7579':'Males Ages 75-79',\n",
        "    'Males 80UP':'Males Ages 80+',\n",
        "    'Females 0004' : 'Females Ages 00-04',\n",
        "    'Females 0509':'Females Ages 05-09',\n",
        "    'Females 1014':'Females Ages 10-14',\n",
        "    'Females 1519':'FemalesAges 15-19',\n",
        "    'Females 2024':'Females Ages 20-24',\n",
        "    'Females 2529':'Females Ages 25-29',\n",
        "    'Females 3034':'Females Ages 30-34',\n",
        "    'Females 3539':'Females Ages 35-39',\n",
        "    'Females 4044':'Females Ages 40-44',\n",
        "    'Females 4549':'Females Ages 45-49',\n",
        "    'Females 5054':'Females Ages 50-54',\n",
        "    'Females 5559':'Females Ages 55-59',\n",
        "    'Females 6064':'Females Ages 60-64',\n",
        "    'Females 6569':'Females Ages 65-69',\n",
        "    'Females 7074':'Females Ages 70-74',\n",
        "    'Females 7579':'Females Ages 75-79',\n",
        "    'Females 80UP':'Females Ages 80+',\n",
        "}\n",
        "    # Start with an empty list of age-rages\n",
        "    age_ranges = []\n",
        "    # Ranges top out at 80, and go in five year increments\n",
        "    for i in range(0,80,5):\n",
        "        age_ranges.append(f\"{i:02d}\"+f\"{i+4:02d}\")\n",
        "        age_ranges.append(\"80UP\")\n",
        "        male_variables = {\"SP.POP.\"+age_range+\".MA\":\"Males \"+age_range for age_range in age_ranges}\n",
        "        female_variables = {\"SP.POP.\"+age_range+\".FE\":\"Females \"+age_range for age_range in age_ranges}\n",
        "    variables = male_variables\n",
        "    variables.update(female_variables)\n",
        "    df = wbdata.get_dataframe(variables,country=Area)\n",
        "    df = df.rename(columns = renames)\n",
        "    df = df.reset_index()\n",
        "    df['date'] = df['date'].astype(int)\n",
        "    df = df[df['date'] <= years[1]]\n",
        "    df = df[df['date'] >= years[0]]\n",
        "    if len(Area) > 1:\n",
        "        df = df.set_index(['country','date'])\n",
        "    else:#only one figure out \n",
        "        df['country'] = Area[0]\n",
        "        df = df.set_index(['country','date'])\n",
        "    return df"
      ]
    },
    {
      "cell_type": "code",
      "source": [
        "#Creating a test for part b\n",
        "test = Groups_of_People(['USA'],[2010,2019]).reset_index()\n",
        "test = test.drop(columns = ['country'])\n",
        "#test = test.set_index('date')\n",
        "test.loc[0,:]"
      ],
      "metadata": {
        "id": "wroTEB73Xpmy"
      },
      "execution_count": null,
      "outputs": []
    },
    {
      "cell_type": "code",
      "execution_count": null,
      "metadata": {
        "id": "G2WYO9_Tlppf"
      },
      "outputs": [],
      "source": [
        "#Part B (Population Pyramids)\n",
        "#only takes a dataframe with just columns of age group and that's it\n",
        "#must be indexed not by date or country (use default index, or reset index prior to use)\n",
        "#Will need to manually reset the x axis labels to match the population of the country of interest\n",
        "import plotly.offline as py\n",
        "import plotly.graph_objs as go\n",
        "import pandas as pd\n",
        "import numpy as np\n",
        "def pyramid(df):\n",
        "    py.init_notebook_mode(connected=True)\n",
        "\n",
        "    layout = go.Layout(barmode='overlay',\n",
        "                       yaxis=go.layout.YAxis(range=[0, 90], title='Age'),\n",
        "                       xaxis=go.layout.XAxis(title='Number'))\n",
        "\n",
        "\n",
        "    bins = [go.Bar(x = df.filter(regex=\"Male\").values,\n",
        "                   y = [int(s[:2])+1 for s in age_ranges],\n",
        "                   orientation='h',\n",
        "                   name='Men',\n",
        "                   marker=dict(color='blue'),\n",
        "                   hoverinfo='skip'\n",
        "                   ),\n",
        "\n",
        "            go.Bar(x = -df.filter(regex=\"Female\").values,\n",
        "                   y=[int(s[:2])+1 for s in age_ranges],\n",
        "                   orientation='h',\n",
        "                   name='Women',\n",
        "                   marker=dict(color='orange'),\n",
        "                   hoverinfo='skip',\n",
        "                   )\n",
        "            ]\n",
        "    fig = go.Figure(dict(data = bins, layout = layout))\n",
        "    fig.update_xaxes(tickvals = [-10000000,-5000000,0,5000000,10000000])\n",
        "    fig.update_xaxes(ticktext = ['10M','5M','0','5M','10M'])\n",
        "    fig.show()"
      ]
    },
    {
      "cell_type": "code",
      "execution_count": null,
      "metadata": {
        "id": "bM-ida_sjIMm"
      },
      "outputs": [],
      "source": [
        "#testing part B\n",
        "pyramid(test.loc[0,:])"
      ]
    },
    {
      "cell_type": "code",
      "source": [
        "#formatting our test dataframe to run \n",
        "test['date'] = test['date'].astype(str)\n",
        "test = test.set_index('date')"
      ],
      "metadata": {
        "id": "xYKiBgbla-Vj"
      },
      "execution_count": null,
      "outputs": []
    },
    {
      "cell_type": "code",
      "execution_count": null,
      "metadata": {
        "id": "33aL2S0yt1Kb"
      },
      "outputs": [],
      "source": [
        "# C animated pyramid\n",
        "#animated pyramid Part C Deliverable\n",
        "#df fed into animated pyramid must be indexed by date and columns must be different age/sex ranges\n",
        "#need to make the year range the range of years in the dataset manually\n",
        "#the date column must be a string type, not an int or float\n",
        "def animated_pyramid(df):\n",
        "    def pyramid_builder(year):\n",
        "        py.init_notebook_mode(connected=True)\n",
        "        layout = go.Layout(barmode='overlay',\n",
        "                   yaxis=go.layout.YAxis(range=[0, 90], title='Age'),\n",
        "                   xaxis=go.layout.XAxis(title='Number'))\n",
        "        bins = [go.Bar(x = df.loc[str(year),:].filter(regex=\"Male\").values,\n",
        "               y = [int(s[:2])+1 for s in age_ranges],\n",
        "               orientation='h',\n",
        "               name='Men',\n",
        "               marker=dict(color='blue'),\n",
        "               hoverinfo='skip'\n",
        "               ),\n",
        "        go.Bar(x = -df.loc[str(year),:].filter(regex=\"Female\").values,\n",
        "               y=[int(s[:2])+1 for s in age_ranges],\n",
        "               orientation='h',\n",
        "               name='Women',\n",
        "               marker=dict(color='orange'),\n",
        "               hoverinfo='skip',\n",
        "               )\n",
        "        ]\n",
        "        fig = go.Figure(dict(data = bins, layout = layout))\n",
        "        fig.update_xaxes(tickvals = [-10000000,-5000000,0,5000000,10000000])\n",
        "        fig.update_xaxes(ticktext = ['10M','5M','0','5M','10M'])\n",
        "        fig.show()\n",
        "    ipywidgets.interact(pyramid_builder, year=(1961, 2018, 1))"
      ]
    },
    {
      "cell_type": "code",
      "execution_count": null,
      "metadata": {
        "id": "EooVArpMfJQ-"
      },
      "outputs": [],
      "source": [
        "#importing package to make a slider\n",
        "#year range must be within the range of our dataframe, set in the cell above\n",
        "import ipywidgets\n",
        "from ipywidgets import interactive, HBox, VBox\n",
        "animated_pyramid(test)"
      ]
    },
    {
      "cell_type": "code",
      "execution_count": null,
      "metadata": {
        "id": "bAb-0DHrkAGX"
      },
      "outputs": [],
      "source": [
        "#Deliverable C (Population Maps) (Possibly Delete)\n",
        "!pip install geopandas\n",
        "!pip install wbdata\n",
        "!pip install cufflinks\n",
        "!pip install iso3166\n",
        "\n",
        "import iso3166 #iso3166.countries.get('country details')\n",
        "import wbdata\n",
        "import cufflinks as cf\n",
        "import pandas as pd\n",
        "import numpy as np\n",
        "import plotly\n",
        "import matplotlib.pyplot as plt\n",
        "import seaborn as sns\n",
        "cf.go_offline()\n",
        "import geopandas"
      ]
    },
    {
      "cell_type": "code",
      "source": [
        "#A function that draws a geopanda graph, accepting a query_dictionary, the year and the title as arguments\n",
        "#countries_ussr = ['Armenia', 'Azerbaijan', 'Belarus', 'Estonia', 'Georgia', 'Kazakhstan', 'Kyrgyz Republic', 'Latvia', 'Lithuania', 'Moldova', 'Russia', 'Tajikistan', 'Turkmenistan', 'Ukraine', 'Uzbekistan']\n",
        "#countries_iso3166 = ['ARM', 'AZE', 'BLR', 'EST', 'GEO','KAZ', 'KGZ', 'LVA', 'LTU', 'MDA', 'RUS', 'TJK', 'TKM', 'UKR', 'UZB' ]\n",
        "\n",
        "#countries: Armenia', 'Azerbaijan', 'Belarus', 'Estonia', 'Georgia', 'Kazakhstan', 'Kyrgyz Republic', 'Latvia', 'Lithuania', 'Moldova', 'Russia', 'Tajikistan', 'Turkmenistan', 'Ukraine', 'Uzbekistan'\n",
        "\n",
        "def geopand_ussr(indi_dict, year, title):\n",
        "    countries_ussr = ['Armenia', 'Azerbaijan', 'Belarus', 'Estonia', 'Georgia','Kyrgyzstan', 'Kazakhstan', 'Latvia', 'Lithuania', 'Moldova', 'Russia','Tajikistan', 'Turkmenistan', 'Ukraine', 'Uzbekistan']\n",
        "    countries_iso3166 = ['ARM', 'AZE', 'BLR', 'EST', 'GEO','KAZ', 'KGZ', 'LVA', 'LTU', 'MDA', 'RUS','TJK', 'TKM', 'UKR', 'UZB']\n",
        "    \n",
        "    df = wbdata.get_dataframe(indicators=indi_dict, country=countries_iso3166)\n",
        "    df.reset_index(inplace=True)\n",
        "    df['date'] = df['date'].astype(int)\n",
        "    df = df[df['date'] == year]\n",
        "    df = df.sort_values(by=['country'])\n",
        "\n",
        "    world = geopandas.read_file(geopandas.datasets.get_path('naturalearth_lowres'))\n",
        "    world = world[world['name'].isin(countries_ussr)]\n",
        "    world = world.sort_values(by=['name'])\n",
        "    world['data_column'] = df['data_column'].values\n",
        "\n",
        "    graph = world.plot('data_column', cmap='Spectral', figsize=(20,20), legend=True, legend_kwds={'shrink': 0.75}, aspect= 'auto', edgecolor= 'black')\n",
        "    \n",
        "    graph.set_xlim(right = 185)\n",
        "    graph.set_xlim(left = -1)\n",
        "    \n",
        "    graph.set_title(title, size=22, pad=20);\n",
        "\n",
        "    world.apply(lambda x: graph.annotate(text=x['name'], xy=x.geometry.centroid.coords[0], \n",
        "                                         ha='center'),axis=1);\n",
        "    \n"
      ],
      "metadata": {
        "id": "uF_JAY_2cBju"
      },
      "execution_count": null,
      "outputs": []
    },
    {
      "cell_type": "code",
      "source": [
        "#indicator for year 1991: GDP per capita growth (annual %)\n",
        "#note that the Baltic countries did not have data between period 1991-1994\n",
        "indi_dict = {'NY.GDP.PCAP.KD.ZG': 'data_column'}\n",
        "geopand_ussr(indi_dict, 1991, 'GDP per capita growth 1991 (%)')"
      ],
      "metadata": {
        "id": "S8WWBCGkcIbI"
      },
      "execution_count": null,
      "outputs": []
    },
    {
      "cell_type": "code",
      "source": [
        "#agricultural supply list\n",
        "!pip install eep153_tools\n",
        "!pip install python_gnupg\n",
        "#from eep153_tools.sheets import decrypt_credentials\n",
        "#decrypt_credentials('../students.json.gpg')"
      ],
      "metadata": {
        "id": "k9TedPfkcaPS"
      },
      "execution_count": null,
      "outputs": []
    },
    {
      "cell_type": "code",
      "source": [
        "!ls ~/.eep153.service_accounts/"
      ],
      "metadata": {
        "id": "mp1RkJ13eA_z"
      },
      "execution_count": null,
      "outputs": []
    },
    {
      "cell_type": "code",
      "source": [
        "from eep153_tools.sheets import read_sheets\n",
        "\n",
        "#### Read a bunch of google worksheets into a dictionary of dataframes\n",
        "data = read_sheets('https://docs.google.com/spreadsheets/d/1DLn9owcS7ggojJGWlI9vKSz0hqozn6cbcqNGWgzMZ8k',force_numeric=False)\n",
        "\n",
        "data.keys()"
      ],
      "metadata": {
        "id": "oHGprxNXeBI4"
      },
      "execution_count": null,
      "outputs": []
    },
    {
      "cell_type": "code",
      "source": [
        "#graphing all the different countries growth rates\n",
        "import numpy as np\n",
        "\n",
        "variable_labels = {\"SP.POP.TOTL\":\"Population\"}\n",
        "\n",
        "# Three letter codes come from wbdata.get_country()\n",
        "countries = {\"WLD\":\"World\",\n",
        "             \"AZE\":\"Azerbaijan\",\n",
        "             \"BLR\":\"Belarus\",\n",
        "             \"EST\":\"Estonia\",\n",
        "             \"GEO\":\"Georgia\",\n",
        "             \"KAZ\":\"Kazakhstan\",\n",
        "             'KGZ':\"Kyrgyz\",\n",
        "             \"LVA\":'Latvia',\n",
        "             \"LTU\":\"Lithuania\",\n",
        "             'MDA':'Moldova',\n",
        "             'RUS':'Russia',\n",
        "             \"TJK\":'Tajikistan',\n",
        "             \"TKM\":\"Turkmenistan\",\n",
        "             'UKR':'Ukraine',\n",
        "             'UZB':'Uzbekistan',\n",
        "             'USA':'United State',\n",
        "             'CHN':'China',\n",
        "             \n",
        "            }\n",
        "\n",
        "df = wbdata.get_dataframe(variable_labels, country = countries).squeeze()\n",
        "\n",
        "df = df.unstack('country')\n",
        "# Date index is of type string; change to integers\n",
        "df.index = df.index.astype(int)\n",
        "\n",
        "# Differences (over time) in logs give us growth rates\n",
        "np.log(df).diff().iplot(title=\"Population Growth Rate in Diff Countries\",\n",
        "                        yTitle=\"Growth Rate\",xTitle='Year')"
      ],
      "metadata": {
        "id": "TfGGgkuTeBMv"
      },
      "execution_count": null,
      "outputs": []
    },
    {
      "cell_type": "code",
      "source": [
        "#countries like Uzbekistan, Turkmenistan, russia federation, azerbaijan, Ukraine, Moldova, Lithuania\n",
        "#Estonia, Georgia, Kazakhstan, Kyrgyz Republic, Latvia, Tajikstan, turkmenistan ~2% drop\n",
        "#Georgia had a massive 5% drop\n",
        "#Kyrgyz republic had a drop but then a qucik then steady recovery, same with Kazakhstan\n",
        "#countries ending 2020 upward: uzbekistan, Lithuania, Latvia, Kyrgyz Repub, Estonia\n",
        "#countried ending 2020 downward: ukraine, turkmenistan, tajikistan, russia federation,MOLDOVA, Belarus,AzerBaijan\n",
        "#examine why Georgia got wrecked are there any big differences?"
      ],
      "metadata": {
        "id": "khLOFqS-eRMT"
      },
      "execution_count": null,
      "outputs": []
    },
    {
      "cell_type": "code",
      "source": [
        "#lets examine why Georgia's so bad\n",
        "#gives us all agricultural values of soviet union countries\n",
        "#filtered to ~5 years before soviet union collapse to the present\n",
        "import pandas as pd\n",
        "\n",
        "def get_international_ag_productivity_data(series):\n",
        "\n",
        "    columns=series.iloc[1,:]  # Need to fix columns\n",
        "    series = series.iloc[2:,:]\n",
        "    series.columns = columns\n",
        "\n",
        "    # Set index to country code\n",
        "    series = series.set_index('WDI Code')\n",
        "\n",
        "    series = series[['%d' % t for t in range(1961,2020)]]\n",
        "\n",
        "    series = series.replace({',':''},regex=True) # Get rid of commas in number strings\n",
        "    series = series.replace({'':'NaN'}) # Change empty cells to NaN strings\n",
        "    series = series.apply(lambda x: pd.to_numeric(x,errors='ignore'))\n",
        "    series = series.astype(float) # Convert to floats\n",
        "\n",
        "    series = series.stack()\n",
        "    \n",
        "    series = series.loc[~series.index.duplicated(keep='first')] \n",
        "\n",
        "    series.index.names = ['WDI Code','Year']\n",
        "\n",
        "    return series\n",
        "   \n",
        "\n",
        "Data = ['Output','Ag TFP','Ag Land','Irrig','Pasture','Labor','Livestock',\n",
        "        'Machinery','Fertilizer','Feed']\n",
        "\n",
        "D = {}\n",
        "for key in Data:\n",
        "    D[key] = get_international_ag_productivity_data(data[key])\n",
        "\n",
        "ag = pd.DataFrame(D)\n",
        "ag = ag.reset_index()\n",
        "ag = ag[ag['WDI Code'].isin(['ARM','AZE','BLR','EST','GEO','KAZ','KGZ','LVA','LTU','MDA','RUS','TJK','TKM','UKR','UZB'])]\n",
        "ag = ag[ag['Year'].astype(int) > 1985]\n",
        "ag = ag.set_index('WDI Code')\n",
        "#ag[ag['Year'].astype(int) == 2016]\n",
        "ag"
      ],
      "metadata": {
        "id": "LmTGz2LgeRS_"
      },
      "execution_count": null,
      "outputs": []
    },
    {
      "cell_type": "code",
      "source": [
        "ag = ag.reset_index()"
      ],
      "metadata": {
        "id": "fJFStgRLeRWI"
      },
      "execution_count": null,
      "outputs": []
    },
    {
      "cell_type": "code",
      "source": [
        "#graphs of all of the different agricultural variables over time\n",
        "for variable in ['Output','Ag TFP','Ag Land','Irrig','Pasture','Labor','Livestock','Machinery','Fertilizer','Feed']:\n",
        "    test = ag[['Year',variable,'WDI Code']]\n",
        "    test['Year'] = test['Year'].astype(int)\n",
        "    fig, ax = plt.subplots(figsize=(18,6))\n",
        "    for name, group in test.groupby('WDI Code'):\n",
        "        group.plot(x= 'Year', y=variable, ax=ax, label=name,title = variable)\n",
        "    plt.axvline(x = 1991, color = 'red', linestyle = '--')\n",
        "    plt.show()"
      ],
      "metadata": {
        "id": "vVm5FMREe5ad"
      },
      "execution_count": null,
      "outputs": []
    },
    {
      "cell_type": "code",
      "source": [
        ""
      ],
      "metadata": {
        "id": "lebGLyzme5g1"
      },
      "execution_count": null,
      "outputs": []
    },
    {
      "cell_type": "code",
      "source": [
        "#compare world average excluding countries vs our countries later"
      ],
      "metadata": {
        "id": "FJhUbyzbeBPV"
      },
      "execution_count": null,
      "outputs": []
    }
  ],
  "metadata": {
    "colab": {
      "collapsed_sections": [],
      "name": "EEP153 Project #1",
      "provenance": []
    },
    "kernelspec": {
      "display_name": "Python 3",
      "name": "python3"
    },
    "language_info": {
      "name": "python"
    }
  },
  "nbformat": 4,
  "nbformat_minor": 0
}
